{
 "cells": [
  {
   "cell_type": "code",
   "execution_count": 1,
   "id": "af8396f6",
   "metadata": {},
   "outputs": [
    {
     "name": "stderr",
     "output_type": "stream",
     "text": [
      "/Users/Prabhani/opt/anaconda3/lib/python3.9/site-packages/pyds9.py:94: UserWarning: Can't locate the X11 DS9 executable in your PATH or the Aqua SAOImage DS9 app in /Applications, $HOME or $HOME/Applications. Please configure your PATH or make SAOImage DS9 available in a known location.\n",
      "  warnings.warn(ds9_warning)\n"
     ]
    }
   ],
   "source": [
    "from astropy.io import fits\n",
    "import numpy as np\n",
    "import os\n",
    "import matplotlib.pyplot as plt\n",
    "from matplotlib import cm, colors\n",
    "from astropy.wcs import WCS\n",
    "from astropy import units as u\n",
    "from astropy.coordinates import SkyCoord\n",
    "from astropy.coordinates import ICRS, Galactic, FK4, FK5\n",
    "import scipy\n",
    "import matplotlib.patches as patches\n",
    "import pandas as pd\n",
    "from scipy.io import readsav\n",
    "from regions import Regions #read_ds9, write_ds9\n",
    "import csv\n",
    "import math\n",
    "from scipy.optimize import curve_fit\n",
    "import time\n",
    "from pathlib import Path\n",
    "from pyds9 import ds9\n",
    "from scipy.integrate import quad\n",
    "from astropy.table import QTable, Table, Column, vstack\n",
    "from astropy.visualization.stretch import AsinhStretch\n",
    "from astropy.visualization import ImageNormalize, simple_norm\n",
    "import matplotlib.patches as patches\n",
    "import pymc as pm\n",
    "import arviz as az\n",
    "import random"
   ]
  },
  {
   "cell_type": "code",
   "execution_count": 2,
   "id": "58a25a02",
   "metadata": {},
   "outputs": [],
   "source": [
    "hdr = fits.getheader('ISF_Mosaic_Trial5_drz_sci.fits')\n",
    "im  = fits.getdata('ISF_Mosaic_Trial5_drz_sci.fits')\n",
    "wcs = WCS(hdr)"
   ]
  },
  {
   "cell_type": "code",
   "execution_count": 3,
   "id": "8cf67212",
   "metadata": {},
   "outputs": [],
   "source": [
    "def write_regf(ra, dec, fname, c, text, r=None, update=False):\n",
    "    \"\"\"\n",
    "    fname - file name to be written\n",
    "    c - region color\n",
    "    \"\"\"\n",
    "    xx, yy = ra, dec\n",
    "    text = np.array(text, dtype=str)\n",
    "    if r==None:\n",
    "        r =25\n",
    "    else:\n",
    "        r=r\n",
    "    if update == True:\n",
    "        with open(fname) as unt:\n",
    "            lines = unt.readlines()\n",
    "        with open(fname, 'w') as unt:    \n",
    "            unt.writelines(lines)\n",
    "\n",
    "            for i in range(len(xx)):\n",
    "                unt.write('\\n')\n",
    "                if text.size == 0:\n",
    "                    unt.write('circle('+str(xx[i])+', '+str(yy[i])+', '+str(r)+'i) #color='+c+'')\n",
    "                else:\n",
    "                    unt.write('circle('+str(xx[i])+', '+str(yy[i])+', '+str(r)+'i) #color='+c+\n",
    "                              ' text={'+str(text[i])+'}')\n",
    "    else:\n",
    "        with open(fname, 'w') as unt:\n",
    "            unt.write('fk5')\n",
    "            for i in range(len(xx)):\n",
    "                unt.write('\\n')\n",
    "                if text.size == 0:\n",
    "                    unt.write('circle('+str(xx[i])+', '+str(yy[i])+', '+str(r)+'i) #color='+c+'')\n",
    "                else:\n",
    "                    unt.write('circle('+str(xx[i])+', '+str(yy[i])+', '+str(r)+'i) #color='+c+\n",
    "                              ' text={'+str(text[i])+'}')"
   ]
  },
  {
   "cell_type": "code",
   "execution_count": 4,
   "id": "65bc3bd0",
   "metadata": {},
   "outputs": [],
   "source": [
    "def norm_logistic_reg(x, mu, sig):\n",
    "    w = 1/(1+np.exp(-((x-mu)/sig)))\n",
    "    return w\n",
    "\n",
    "def r_times_logistic_reg(x, m, s):\n",
    "    w = x/(1+np.exp(-((x-m)/s)))\n",
    "    return w"
   ]
  },
  {
   "cell_type": "code",
   "execution_count": 5,
   "id": "ecfe5cda",
   "metadata": {},
   "outputs": [],
   "source": [
    "df_params = pd.read_csv('mu_sig_params.csv')\n",
    "mu, sig = np.array(df_params['mu']), np.array(df_params['sig'])\n",
    "df_flame = pd.read_csv('dm_sep_flame.csv')\n",
    "sep_flame, dm_flame = np.array(df_flame['sep']), np.array(df_flame['dm'])"
   ]
  },
  {
   "cell_type": "code",
   "execution_count": 6,
   "id": "c48de601",
   "metadata": {},
   "outputs": [],
   "source": [
    "df_final = pd.read_csv('dash_rereduce_removed_combined_with_rereduceII_with_VISION.csv')\n",
    "df_final2 = df_final\n",
    "ra_f2 = np.array(df_final2['RA_d'])\n",
    "dec_f2 = np.array(df_final2['DEC_d'])\n",
    "m_f2 = np.array(df_final2['MAG_d'])\n",
    "me_f2 = np.array(df_final2['MAG_d_unc'])\n",
    "h_f2 = np.array(df_final2['H_v'])\n",
    "he_f2 = np.array(df_final2['He_v'])\n",
    "k_f2 = np.array(df_final2['Ks_v'])\n",
    "ke_f2 = np.array(df_final2['Kse_v'])\n",
    "fwhm_f2 = np.array(df_final2['FWHM_d'])\n",
    "rsat_f2 = np.array(df_final2['R_SAT_d'])\n",
    "clas_f2 = np.array(df_final2['class'], dtype=str)\n",
    "\n",
    "yso_clas = np.array(['protostars', 'disks', 'td', 'nd_proto_faint'])\n",
    "proto_clas = np.array(['protostars', 'nd_proto_faint'])\n",
    "prems_clas = np.array(['disks', 'td'])\n",
    "\n",
    "i_yso, = np.where(np.isin(clas_f2, yso_clas))\n",
    "i_proto, = np.where(np.isin(clas_f2, proto_clas))\n",
    "i_prems, = np.where(np.isin(clas_f2, prems_clas))"
   ]
  },
  {
   "cell_type": "code",
   "execution_count": 8,
   "id": "aaa22688",
   "metadata": {},
   "outputs": [],
   "source": [
    "df_M43 = pd.read_csv('M43_object_list.csv')\n",
    "ind_M43 = np.array(df_M43['ind_M43'])\n",
    "yso_M43 = np.array(df_M43['yso'])"
   ]
  },
  {
   "cell_type": "code",
   "execution_count": 9,
   "id": "f438085a",
   "metadata": {},
   "outputs": [
    {
     "data": {
      "text/plain": [
       "<matplotlib.legend.Legend at 0x7ff12f7ec610>"
      ]
     },
     "execution_count": 9,
     "metadata": {},
     "output_type": "execute_result"
    },
    {
     "data": {
      "image/png": "[encoded data removed]",
      "text/plain": [
       "<Figure size 500x500 with 1 Axes>"
      ]
     },
     "metadata": {},
     "output_type": "display_data"
    }
   ],
   "source": [
    "dms = np.arange(0, 7.01, 1/10)\n",
    "seps = np.arange(0, 2001., 100/10)\n",
    "dm_mtx, sep_mtx = np.indices((len(dms), len(seps)))\n",
    "#sep_mtx = np.tile(np.arange(0, 2000.1, 0.1), )\n",
    "dm_mtx, sep_mtx = (np.flip(dm_mtx,0))/10, 100*(sep_mtx+5)/10\n",
    "frac_mtx = np.zeros(dm_mtx.shape)\n",
    "n_dm = len(dms)\n",
    "for i in range(len(mu)):\n",
    "    frac_mtx[i, :] =  norm_logistic_reg(seps, mu[i], sig[i])\n",
    "    \n",
    "cmap = plt.cm.cool\n",
    "category_colors = plt.colormaps['cool'](np.linspace(0.10, 0.85, 8))\n",
    "\n",
    "fig, ax = plt.subplots(figsize=(5, 5))\n",
    "plt.imshow(frac_mtx, origin='lower', cmap='Greys_r', aspect=\"auto\")\n",
    "\n",
    "\n",
    "c25 = ax.contour(np.arange(0, len(seps), 1), np.arange(0, n_dm, 1), frac_mtx[:,:], \n",
    "           [0.25], colors='r', alpha=0.99, linewidths=0.5)\n",
    "c50 = ax.contour(np.arange(0, len(seps), 1), np.arange(0, n_dm, 1), frac_mtx[:,:], \n",
    "           [0.50], colors='r', alpha=0.99, linewidths=0.5)\n",
    "c75 = ax.contour(np.arange(0, len(seps), 1), np.arange(0, n_dm, 1), frac_mtx[:,:], \n",
    "           [0.75], colors='r', alpha=0.99, linewidths=0.5)\n",
    "c95 = ax.contour(np.arange(0, len(seps), 1), np.arange(0, n_dm, 1), frac_mtx[:,:], \n",
    "           [0.95], colors='r', alpha=0.99, linewidths=0.5)\n",
    "c99 = ax.contour(np.arange(0, len(seps), 1), np.arange(0, n_dm, 1), frac_mtx[:,:], \n",
    "           [0.99], colors='r', alpha=0.99, linewidths=0.5)\n",
    "\n",
    "xt = ax.get_xticks()\n",
    "#ax.set_xticks(xt[1::], np.round(xt[1::]*100/10).astype(int))\n",
    "ax.set_xticks(np.arange(0, 201, 10), np.arange(0, 2001, 100), rotation=45)\n",
    "yt = ax.get_yticks()\n",
    "ax.set_yticks(yt[1:-1], np.round((yt[1:-1])/10).astype(int))\n",
    "\n",
    "\n",
    "manual_locations = [(20, 50)]\n",
    "plt.clabel(c25, fontsize=9, inline=1, manual=manual_locations)\n",
    "manual_locations = [(30, 50)]\n",
    "plt.clabel(c50, fontsize=9, inline=1, manual=manual_locations)\n",
    "manual_locations = [(40, 50)]\n",
    "plt.clabel(c75, fontsize=9, inline=1, manual=manual_locations)\n",
    "manual_locations = [(50, 50)]\n",
    "plt.clabel(c95, fontsize=9, inline=1, manual=manual_locations)\n",
    "manual_locations = [(60, 50)]\n",
    "plt.clabel(c99, fontsize=9, inline=1, manual=manual_locations)\n",
    "\n",
    "ax.set_xlabel('Separation (AU)')\n",
    "ax.set_ylabel('$\\Delta$m')\n",
    "\n",
    "\n",
    "ra_cat, dec_cat, m_cat, i_yso = ra_f2, dec_f2, m_f2, i_yso\n",
    "N_total = len(i_yso)\n",
    "N_cand, N_cont = 0, 0\n",
    "r1_comp = 100\n",
    "r2_comp = 2000\n",
    "r1_cont = 2000\n",
    "r2_cont = 5000\n",
    "\n",
    "#Making a catalog object using all sources\n",
    "c2 = SkyCoord(ra=ra_cat*u.degree, dec=dec_cat*u.degree, \n",
    "              distance=400.*u.pc, frame='fk5')\n",
    "\n",
    "ra_yso  = ra_cat[i_yso]\n",
    "dec_yso = dec_cat[i_yso]\n",
    "m_yso   = m_cat[i_yso]\n",
    "\n",
    "i_tested = np.array([])\n",
    "N_cand   = np.array([])\n",
    "\n",
    "d_comp = np.array([])\n",
    "dm_comp = np.array([])\n",
    "r_comp = np.array([])\n",
    "dc_comp = np.array([])\n",
    "mag_prim = np.array([])\n",
    "\n",
    "for i in range(N_total):\n",
    "    #Making a catalog object using YSO\n",
    "    c1       = SkyCoord(ra=ra_yso[i]*u.degree, dec=dec_yso[i]*u.degree, distance=400.*u.pc, frame='fk5')\n",
    "    sep_     = c2.separation(c1).arcsec*400.\n",
    "    i_obj_,  = np.where((sep_>=r1_comp)&(sep_<=r2_comp)&(m_cat>10.5))\n",
    "    n_obj    = len(i_obj_)\n",
    "\n",
    "    if (n_obj>0)&(~np.isin(i_yso[i], i_tested))&(m_yso[i]<19.)&(m_yso[i]>12.):\n",
    "        ra_sys  = np.append(ra_yso[i], ra_cat[i_obj_])\n",
    "        dec_sys = np.append(dec_yso[i], dec_cat[i_obj_])\n",
    "        m_sys   = np.append(m_yso[i], m_cat[i_obj_]) #adding primary and the companions to 1 array\n",
    "\n",
    "        i_prim, = np.where(m_sys==np.min(m_sys))\n",
    "        i_comp, = np.where(m_sys!=np.min(m_sys))\n",
    "        N_cand  = N_cand + len(i_comp)\n",
    "        ra_comp, dec_comp = ra_sys[i_comp], dec_sys[i_comp]\n",
    "        ra_prim, dec_prim = ra_sys[i_prim], dec_sys[i_prim]\n",
    "        m_prim = m_sys[i_prim]\n",
    "        c_comp = SkyCoord(ra=ra_comp*u.degree, dec=dec_comp*u.degree, distance=400.*u.pc, frame='fk5')\n",
    "\n",
    "        c_prim = SkyCoord(ra=ra_prim*u.degree, dec=dec_prim*u.degree, distance=400.*u.pc, frame='fk5')\n",
    "        sep_comp = c_comp.separation(c_prim).arcsec*400.\n",
    "        #ax.plot(sep_comp, m_sys[i_comp]-m_prim, '.r')\n",
    "        d_comp = np.append(d_comp, sep_comp)\n",
    "        dm_comp = np.append(dm_comp, np.abs((m_sys[i_comp]-m_prim)))\n",
    "        r_comp, dc_comp = np.append(r_comp, ra_comp), np.append(dc_comp, dec_comp)\n",
    "        mag_prim = np.append(mag_prim, np.ones(ra_comp.shape)*m_prim[0])\n",
    "ax.plot(d_comp/10, dm_comp*10, 's', c=category_colors[5], ms=4, label='ISF')\n",
    "ax.plot(sep_flame/10, dm_flame*10, '^', c=category_colors[0], ms=4, label='NGC2024')\n",
    "\n",
    "ax.set_yticks(np.arange(0, 71, 10), np.arange(0, 8, 1))\n",
    "ax.set_ylim(0, 70)\n",
    "\n",
    "ax.set_xlim(0, 100)\n",
    "ax.legend()"
   ]
  },
  {
   "cell_type": "code",
   "execution_count": 102,
   "id": "8d632582",
   "metadata": {},
   "outputs": [],
   "source": [
    "def CF(ra_cat, dec_cat, m_cat, i_yso):\n",
    "    N_total = len(i_yso) #Total number of YSOs\n",
    "    N_cand, N_cont, N_comp = 0, 0, 0\n",
    "    \n",
    "    r1_comp = 100\n",
    "    r2_comp = 1000\n",
    "    r1_cont = 2000\n",
    "    r2_cont = 5000\n",
    "    \n",
    "    bw = 100\n",
    "    bins = (np.zeros((len(i_yso), len(np.arange(1, 5000/bw+1, 1)))))\n",
    "    bin_count = np.arange(1, 5000/bw+1, 1, dtype=int)\n",
    "\n",
    "    def r_times_logistic_reg(x, m, s):\n",
    "        w = x*1/(1+np.exp(-((x-m)/s)))\n",
    "        return w\n",
    "    \n",
    "    \n",
    "    #Making a catalog object using all sources\n",
    "    c2 = SkyCoord(ra=ra_cat*u.degree, dec=dec_cat*u.degree, \n",
    "                  distance=400.*u.pc, frame='fk5')\n",
    "   \n",
    "    ra_yso  = ra_cat[i_yso]\n",
    "    dec_yso = dec_cat[i_yso]\n",
    "    m_yso   = m_cat[i_yso]\n",
    "    \n",
    "    i_tested = np.array([])\n",
    "\n",
    "    R     = np.array([])\n",
    "    R_unc = np.array([])\n",
    "    N_cont_init = np.array([])\n",
    "    N_cont_corr = np.array([])\n",
    "    N_cont_prior_corr = np.array([])\n",
    "    N_cont  = 0\n",
    "    d_mag   = np.array([])\n",
    "    dist    = np.array([])\n",
    "    cont_m  = np.array([])\n",
    "    #fig, ax = plt.subplots()\n",
    "    n_cont_INT = 0\n",
    "    for i in range(N_total):\n",
    "        \n",
    "        \n",
    "        #Making a catalog object using the ith YSO\n",
    "        c1       = SkyCoord(ra=ra_yso[i]*u.degree, dec=dec_yso[i]*u.degree, distance=400.*u.pc, frame='fk5')\n",
    "        sep_     = c2.separation(c1).arcsec*400.\n",
    "        i_obj_,  = np.where((sep_>=r1_comp)&(sep_<=r2_comp))#&(m_cat>10.5))\n",
    "        n_obj    = len(i_obj_)\n",
    "        \n",
    "        for i_bin in bin_count:\n",
    "            i_obj_bin,  = np.where((sep_>=i_bin*bw)&(sep_<=(i_bin*bw+bw)))\n",
    "            bins[i,i_bin-1] = np.sum(i_obj_bin)\n",
    "                                 \n",
    "        if (n_obj>0)&(~np.isin(i_yso[i], i_tested))&(m_yso[i]<19.):\n",
    "            ra_sys  = np.append(ra_yso[i], ra_cat[i_obj_])\n",
    "            dec_sys = np.append(dec_yso[i], dec_cat[i_obj_])\n",
    "            m_sys   = np.append(m_yso[i], m_cat[i_obj_]) #adding primary and the companions to 1 array\n",
    "            if len(i_tested)==0:\n",
    "                write_regf(ra_sys, dec_sys, 'companions.reg', 'red', [], r=30, update=False)\n",
    "            else:\n",
    "                write_regf(ra_sys, dec_sys, 'companions.reg', 'red', [], r=30, update=True)\n",
    "            \n",
    "            \n",
    "            i_prim, = np.where(m_sys==np.min(m_sys))\n",
    "            i_comp, = np.where(m_sys!=np.min(m_sys))\n",
    "            \n",
    "            m_prim = m_sys[i_prim]\n",
    "            m_comp = m_sys[i_comp]\n",
    "            \n",
    "            if np.abs(m_comp - m_prim).any() <= 7.0:\n",
    "                i_comp = i_comp[np.abs(m_comp - m_prim)<=7.0]\n",
    "                m_comp = m_sys[i_comp]\n",
    "\n",
    "                ra_comp, dec_comp = ra_sys[i_comp], dec_sys[i_comp]\n",
    "                ra_prim, dec_prim = ra_sys[i_prim], dec_sys[i_prim]\n",
    "\n",
    "                c_comp   = SkyCoord(ra=ra_comp*u.degree, dec=dec_comp*u.degree, distance=400.*u.pc, frame='fk5')\n",
    "                c_prim   = SkyCoord(ra=ra_prim*u.degree, dec=dec_prim*u.degree, distance=400.*u.pc, frame='fk5')\n",
    "                sep_comp = c_comp.separation(c_prim).arcsec*400.\n",
    "\n",
    "                #making a new cat obj with the dimmest objects in the system\n",
    "                #n_obj is recalculated using the \"new\" primary.\n",
    "                sep      = c2.separation(c_prim).arcsec*400.\n",
    "                i_obj_,  = np.where((sep>=r1_comp)&(sep<=r2_comp))#&(m_cat>10.5))\n",
    "                n_obj    = len(i_obj_)\n",
    "                N_cand   = N_cand + n_obj\n",
    "                i_cont,  = np.where((sep>=r1_cont)&(sep<=r2_cont))\n",
    "                \n",
    "        else:\n",
    "            m_prim   = m_yso[i]\n",
    "            i_cont,  = np.where((sep_>=r1_cont)&(sep_<=r2_cont))\n",
    "        \n",
    "        N_cont_init = np.append(N_cont_init, len(i_cont))\n",
    "        n_cont      = 0\n",
    "        #if len(i_cont)>0: #N_contaminants is calculated around all YSOs in the region.\n",
    "        for j in range(len(i_cont)):\n",
    "            delta_m = m_cat[i_cont[j]]-m_prim\n",
    "            cont_m = np.append(cont_m, m_cat[i_cont[j]])\n",
    "            dm_int  = int(np.abs(10*np.round(delta_m, 1)))\n",
    "            if (dm_int>70): #80: delta_mag=8\n",
    "                mu_, sig_ = 0, 0\n",
    "                R_ = 0\n",
    "            else:\n",
    "                mu_  = mu[dm_int]\n",
    "                sig_ = sig[dm_int]\n",
    "                I  = quad(r_times_logistic_reg, r1_comp, r2_comp, args=(mu_, sig_))\n",
    "                R_ = 2*np.pi * I[0] / (np.pi*(r2_cont**2 - r1_cont**2))\n",
    "                R  = np.append(R, R_)\n",
    "                d_mag=np.append(d_mag,dm_int)\n",
    "                R_unc   = np.append(R_unc, I[1])\n",
    "                dist = np.append(dist, sep_[i_cont[j]])\n",
    "                n_cont_INT = n_cont_INT + 1\n",
    "            n_cont  = n_cont + R_\n",
    "\n",
    "\n",
    "        N_cont_corr = np.append(N_cont_corr, n_cont)\n",
    "        N_cont_prior_corr = np.append(N_cont_prior_corr, \n",
    "                                      len(i_cont)*\n",
    "                                      (r2_comp**2-r1_comp**2)/(r2_cont**2-r1_cont**2))\n",
    "        #N_cont = np.append(N_cont, n_cont)\n",
    "\n",
    "\n",
    "        \n",
    "            \n",
    "        i_tested = np.append(i_tested, i_yso[i])\n",
    "        i_tested = np.append(i_tested, i_obj_)\n",
    "        \n",
    "        \n",
    "        \n",
    "    N_comp   = N_cand - np.sum(N_cont_corr)\n",
    "        \n",
    "\n",
    "    category_colors = plt.colormaps['plasma'](np.linspace(0.05, 0.85, 5))\n",
    "    #for i in range(len(dist)):\n",
    "    #    ax.plot(dist[i], d_mag[i], '.', color=category_colors[int(100*np.round(R[i], 3))])           \n",
    "    #ax.plot(R, '.r')\n",
    "    print('N_cand: '+str(N_cand)+'/'+str(N_total))\n",
    "    print('N_cont within 200-5000 (before correction): ', np.sum(N_cont_prior_corr))\n",
    "    print('N_cont within 200-5000: ', np.sum(N_cont_corr))\n",
    "    print('N_contaminants: ', np.sum(N_cont_init))\n",
    "    print(r'N_contaminants (with 0 gt del_m lt 7.): ', np.sum(n_cont_INT))\n",
    "    print('N_comp: ', N_comp)\n",
    "    print('CF:', N_comp/N_total)\n",
    "    return d_mag, N_cont_corr, dist, cont_m, bins, bin_count, n_cont_INT"
   ]
  },
  {
   "cell_type": "code",
   "execution_count": 103,
   "id": "d862807c",
   "metadata": {},
   "outputs": [
    {
     "name": "stdout",
     "output_type": "stream",
     "text": [
      "N_cand: 4/42\n",
      "N_cont within 200-5000 (before correction):  2.4514285714285715\n",
      "N_cont within 200-5000:  1.7039138900066588\n",
      "N_contaminants:  52.0\n",
      "N_contaminants (with 0 gt del_m lt 7.):  42\n",
      "N_comp:  2.2960861099933414\n",
      "CF: 0.054668716904603364\n"
     ]
    }
   ],
   "source": [
    "#dm<7\n",
    "dmag, N_cont_arr, dist, cmag, sig_bins, bin_count, n_cont_INT = CF(ra_f2, dec_f2, m_f2, ind_M43[yso_M43])"
   ]
  },
  {
   "cell_type": "code",
   "execution_count": 97,
   "id": "973081e5",
   "metadata": {},
   "outputs": [
    {
     "name": "stdout",
     "output_type": "stream",
     "text": [
      "N_cand: 4/42\n",
      "N_cont within 200-5000 (before correction):  2.4514285714285715\n",
      "N_cont within 200-5000:  1.2957105605300214\n",
      "N_contaminants:  52.0\n",
      "N_contaminants (with 0 gt del_m lt 7.):  33\n",
      "N_comp:  2.704289439469979\n",
      "CF: 0.06438784379690425\n"
     ]
    }
   ],
   "source": [
    "#0<dm<7\n",
    "dmag, N_cont_arr, dist, cmag, sig_bins, bin_count, n_cont_INT = CF(ra_f2, dec_f2, m_f2, ind_M43[yso_M43])"
   ]
  },
  {
   "cell_type": "code",
   "execution_count": 12,
   "id": "438aa9f3",
   "metadata": {},
   "outputs": [],
   "source": [
    "bw=100\n",
    "bin_radii = bin_count*bw\n",
    "bin_areas = np.pi*((bin_radii)**2-(bin_radii-bw)**2)\n",
    "bin_mean = np.mean(sig_bins, axis=0)/bin_areas"
   ]
  },
  {
   "cell_type": "markdown",
   "id": "bdc13632",
   "metadata": {},
   "source": [
    "### P($<\\Delta$r) = $\\frac{r^2 - r^2_{1}}{r^2_{2} - r^2_{1}}$\n",
    "\n",
    "$r_1$ = 100, \n",
    "$r_2$ = 1000"
   ]
  },
  {
   "cell_type": "markdown",
   "id": "ae5015c0",
   "metadata": {},
   "source": [
    "$r = \\sqrt{N(r_2^2 - r_1^2) + r_1^2}$"
   ]
  },
  {
   "cell_type": "code",
   "execution_count": 13,
   "id": "25a0286d",
   "metadata": {},
   "outputs": [],
   "source": [
    "def P_r(r):\n",
    "    r1, r2 = 100, 1000\n",
    "    return (r**2 - r1**2)/(r2**2 - r1**2)\n",
    "\n",
    "def inv_P_r(n):\n",
    "    r1, r2 = 100, 1000\n",
    "    return np.sqrt(n*(r2**2 - r1**2) + r1**2)"
   ]
  },
  {
   "cell_type": "code",
   "execution_count": 14,
   "id": "9bf150da",
   "metadata": {
    "scrolled": false
   },
   "outputs": [
    {
     "data": {
      "text/plain": [
       "Text(0, 0.5, 'f ($\\\\Delta$r)')"
      ]
     },
     "execution_count": 14,
     "metadata": {},
     "output_type": "execute_result"
    },
    {
     "data": {
      "image/png": "[encoded data removed]",
      "text/plain": [
       "<Figure size 640x480 with 1 Axes>"
      ]
     },
     "metadata": {},
     "output_type": "display_data"
    }
   ],
   "source": [
    "fig, ax = plt.subplots()\n",
    "r1, r2 = 100, 1000\n",
    "ax.plot(np.arange(100, 1000, 1), (np.arange(100, 1000, 1)**2 - r1**2)/(r2**2 - r1**2), 'k-')\n",
    "ax.set_xticks(np.arange(100, 1100, 100))\n",
    "ax.set_xlabel('r (AU)')\n",
    "ax.set_ylabel('f ($\\Delta$r)')"
   ]
  },
  {
   "cell_type": "markdown",
   "id": "995fcdcc",
   "metadata": {},
   "source": [
    "### P($<\\Delta$m)"
   ]
  },
  {
   "cell_type": "code",
   "execution_count": 104,
   "id": "ddbe8a77",
   "metadata": {
    "scrolled": false
   },
   "outputs": [
    {
     "data": {
      "text/plain": [
       "Text(0.5, 1.0, 'M43')"
      ]
     },
     "execution_count": 104,
     "metadata": {},
     "output_type": "execute_result"
    },
    {
     "data": {
      "image/png": "[encoded data removed]",
      "text/plain": [
       "<Figure size 640x480 with 1 Axes>"
      ]
     },
     "metadata": {},
     "output_type": "display_data"
    }
   ],
   "source": [
    "plt.subplot()\n",
    "bw=100\n",
    "n, bins, patches = plt.hist(dmag/10, bins=np.arange(-0.05, 7.051, 0.1),\n",
    "                             cumulative=True, density=True,\n",
    "                           color='green', alpha=0.5, edgecolor='g')\n",
    "#plt.plot(bins[0:-1]+0.05, n, '.r')\n",
    "plt.xlabel('$\\Delta$m')\n",
    "plt.ylabel('Density of companions $\\Delta$ m')\n",
    "\n",
    "#interpolated = pm.Interpolated.dist(np.arange(0, 8, 1), )\n",
    "def parabola(x, a, b, c):\n",
    "    return a+b*np.exp(-c*(x))\n",
    "plt.plot(bins[0:-1]+0.05, n, 'r', ms=1, alpha=0.2)\n",
    "plt.plot(bins[0:-1]+0.05, n, 'or', ms=5, alpha=0.2)\n",
    "popt = np.array([1.53778978, 1.49562009, 0.14470388])\n",
    "#plt.plot(x, parabola(x, *popt), 'k--', ms=1)\n",
    "popt, pcov = curve_fit(parabola, bins[0:-1]+0.05, n, p0=[1, 100, 1])\n",
    "#mu = popt\n",
    "\n",
    "x = np.arange(0, 7.01, 0.01)\n",
    "plt.plot(x, parabola(x, *popt), 'r', linestyle='dashed', ms=1)\n",
    "#plt.axhline(0.8)\n",
    "\n",
    "def inv_delm(n, a, b, c):\n",
    "    return -1/c*np.log((a - n)/b)\n",
    "\n",
    "plt.title('M43')"
   ]
  },
  {
   "cell_type": "code",
   "execution_count": 65,
   "id": "401085ce",
   "metadata": {},
   "outputs": [
    {
     "data": {
      "text/plain": [
       "0.9246633765081513"
      ]
     },
     "execution_count": 65,
     "metadata": {},
     "output_type": "execute_result"
    }
   ],
   "source": [
    "parabola(x[int(-0.5*100)], *popt)"
   ]
  },
  {
   "cell_type": "code",
   "execution_count": 71,
   "id": "ec7abc99",
   "metadata": {},
   "outputs": [
    {
     "data": {
      "text/plain": [
       "(0.0, 0.1, array([7.]))"
      ]
     },
     "execution_count": 71,
     "metadata": {},
     "output_type": "execute_result"
    }
   ],
   "source": [
    "n[0], bins[1]+0.05, bins[-2:-1]+0.05"
   ]
  },
  {
   "cell_type": "markdown",
   "id": "d5bb15d6",
   "metadata": {},
   "source": [
    "### P($<\\Delta$m) = A - B $\\cdot e^{-C \\cdot x}$ (CDF),\n",
    "\n",
    "where A = 1.19178628e+03, B = 1.15910484e+03, and C = 1.44704046e-01\n",
    "\n",
    "### dP($<\\Delta$m) = B$\\cdot$C$\\cdot e^{-C\\cdot x} \\cdot dx$ (PDF)\n",
    "\n",
    "### $x = -\\frac{ln[\\frac{dP/dx}{BC}]}{C}$"
   ]
  },
  {
   "cell_type": "markdown",
   "id": "5301b721",
   "metadata": {},
   "source": [
    "## $P(\\Sigma_{los} | N_{cont})= \\frac{(\\Sigma_{los}\\Omega_{cont})^{N_{cont}}}{N_{cont}!}e^{-\\Sigma_{los}\\Omega_{cont}}$\n",
    "\n",
    "### Poisson distribution = $\\frac{\\mu^{x}}{x!}\\cdot e^{-\\mu}$\n",
    "\n",
    "$N_{cont} \\sim Poisson()$\n",
    "\n",
    "$P(\\Sigma_{los} | N_{cont}) \\sim Gamma()$"
   ]
  },
  {
   "cell_type": "markdown",
   "id": "658acf2e",
   "metadata": {},
   "source": [
    "----"
   ]
  },
  {
   "cell_type": "code",
   "execution_count": null,
   "id": "554dddbd",
   "metadata": {},
   "outputs": [
    {
     "name": "stderr",
     "output_type": "stream",
     "text": [
      "Multiprocess sampling (4 chains in 2 jobs)\n",
      "CompoundStep\n",
      ">NUTS: [sig]\n",
      ">Metropolis: [Ncont]\n"
     ]
    }
   ],
   "source": [
    "t1 = time.time() \n",
    "SEED = np.random.randint(100000)\n",
    "\n",
    "SAMPLE_KWARGS = {\"chains\": 4, \"tune\": 1000, \"draws\":1000,\n",
    "                 \"random_seed\": [SEED, SEED + 1, SEED + 2, SEED + 3]}\n",
    "\n",
    "with pm.Model() as P_Ncont:\n",
    "    sigma          = pm.Gamma('sig', alpha=42+1, beta=O_cont)\n",
    "    y_obs          = pm.Poisson('Ncont', mu=sigma*O_comp)\n",
    "    Ncont_trace    = pm.sample(**SAMPLE_KWARGS, progressbar=False)\n",
    "    Ncont_forecast = pm.sample_posterior_predictive(Ncont_trace, var_names=['sig', 'Ncont'], progressbar=False)\n",
    "    \n",
    "N_ = Ncont_forecast.posterior_predictive['Ncont'].data.flatten()\n",
    "\n",
    "N_cont_det = np.array([])\n",
    "for k in range(4000):\n",
    "    chosen_N  = random.choice(N_)\n",
    "    chosen_Ns = np.append(chosen_Ns, chosen_N)\n",
    "\n",
    "    j = 0\n",
    "    f_j = np.array([])\n",
    "    while j < chosen_N:\n",
    "\n",
    "        ran_decim   = np.random.randint(100000)/100000\n",
    "        j_dm_       = inv_delm(ran_decim, a, b, c)\n",
    "        if (j_dm_ > 7.):\n",
    "            continue\n",
    "        elif (j_dm_ < 0.):\n",
    "            f_j = np.append(f_j, 0.)\n",
    "            j += 1\n",
    "        else:\n",
    "            j_r_      = inv_P_r(ran_decim)\n",
    "            j_dm, j_r = int(np.round(j_dm_, 1)*10), int(np.round(j_r_/10))\n",
    "            f_j       = np.append(f_j, frac_mtx[j_dm,j_r])\n",
    "            j += 1\n",
    "    N_cont_det = np.append(N_cont_det, np.sum(f_j))\n",
    "t2 = time.time()        "
   ]
  },
  {
   "cell_type": "code",
   "execution_count": null,
   "id": "3c837d05",
   "metadata": {},
   "outputs": [],
   "source": [
    "#dm<7 (0<dm<7 does not )\n",
    "plt.subplots()\n",
    "plt.hist(4-N_cont_det, bins=np.arange(-7.5, 8.5, 1), density=True)\n",
    "plt.xlabel('$N_{comp}$')\n",
    "plt.axvline(2.3, color='r', lw=1)\n",
    "plt.text(2.3-1, 0.15, '$N_{comp}$ = 2.3')\n",
    "plt.title('M43')"
   ]
  },
  {
   "cell_type": "markdown",
   "id": "68fe9b0d",
   "metadata": {},
   "source": [
    "N_cand: 4/42\n",
    "\n",
    "N_cont within 200-5000 (before correction):  2.4514285714285715\n",
    "\n",
    "N_cont within 200-5000:  1.7039138900066588\n",
    "\n",
    "N_contaminants:  52.0\n",
    "\n",
    "N_comp:  2.2960861099933414\n",
    "\n",
    "CF: 0.054668716904603364"
   ]
  },
  {
   "cell_type": "markdown",
   "id": "c0bb30c9",
   "metadata": {},
   "source": [
    "------"
   ]
  },
  {
   "cell_type": "code",
   "execution_count": 16,
   "id": "5bd182cd",
   "metadata": {},
   "outputs": [],
   "source": [
    "N_cand = 1\n",
    "r1, r2 = 100, 1000\n",
    "r3, r4 = 2000, 5000\n",
    "O_comp = np.pi*(r2**2 - r1**2)\n",
    "O_cont = np.pi*(r4**2 - r3**2)\n",
    "\n",
    "#N_cont_ = N_cont_arr\n",
    "#sig_los = N_cont_arr/O_cont * np.pi * (r2**2 - r1**2)"
   ]
  },
  {
   "cell_type": "code",
   "execution_count": 17,
   "id": "f777cb3a",
   "metadata": {},
   "outputs": [],
   "source": [
    "chosen_Ns = np.array([])\n",
    "chosen_sigs = np.array([])\n",
    "arr_seeds = np.array([])\n",
    "N_cont_det = np.array([])\n",
    "a, b, c   = popt"
   ]
  },
  {
   "cell_type": "code",
   "execution_count": 18,
   "id": "49c3367f",
   "metadata": {},
   "outputs": [
    {
     "data": {
      "text/plain": [
       "(0, 0, 0, 0)"
      ]
     },
     "execution_count": 18,
     "metadata": {},
     "output_type": "execute_result"
    }
   ],
   "source": [
    "len(chosen_Ns),len(chosen_sigs),len(arr_seeds),len(N_cont_det)"
   ]
  },
  {
   "cell_type": "code",
   "execution_count": 43,
   "id": "ca6431d8",
   "metadata": {
    "scrolled": true
   },
   "outputs": [
    {
     "name": "stdout",
     "output_type": "stream",
     "text": [
      "Loop 0\n"
     ]
    },
    {
     "name": "stderr",
     "output_type": "stream",
     "text": [
      "Auto-assigning NUTS sampler...\n",
      "Initializing NUTS using jitter+adapt_diag...\n",
      "Multiprocess sampling (4 chains in 2 jobs)\n",
      "NUTS: [sig]\n",
      "Sampling 4 chains for 1_000 tune and 1_000 draw iterations (4_000 + 4_000 draws total) took 60 seconds.\n",
      "Sampling: [sig]\n",
      "Multiprocess sampling (4 chains in 2 jobs)\n",
      "Metropolis: [Ncont]\n",
      "Sampling 4 chains for 1_000 tune and 1_000 draw iterations (4_000 + 4_000 draws total) took 54 seconds.\n",
      "Sampling: [Ncont]\n",
      "/var/folders/8d/npqd4lxx61zfcyxqzp26lpm80000gs/T/ipykernel_27396/2179017029.py:43: RuntimeWarning: invalid value encountered in double_scalars\n",
      "  N_cont_det = np.append(N_cont_det, np.sum(f_j)/chosen_N)\n"
     ]
    },
    {
     "name": "stdout",
     "output_type": "stream",
     "text": [
      "Loop 1\n"
     ]
    },
    {
     "name": "stderr",
     "output_type": "stream",
     "text": [
      "Auto-assigning NUTS sampler...\n",
      "Initializing NUTS using jitter+adapt_diag...\n",
      "Multiprocess sampling (4 chains in 2 jobs)\n",
      "NUTS: [sig]\n",
      "Sampling 4 chains for 1_000 tune and 1_000 draw iterations (4_000 + 4_000 draws total) took 67 seconds.\n",
      "Sampling: [sig]\n",
      "Multiprocess sampling (4 chains in 2 jobs)\n",
      "Metropolis: [Ncont]\n",
      "Sampling 4 chains for 1_000 tune and 1_000 draw iterations (4_000 + 4_000 draws total) took 66 seconds.\n",
      "Sampling: [Ncont]\n",
      "/var/folders/8d/npqd4lxx61zfcyxqzp26lpm80000gs/T/ipykernel_27396/2179017029.py:43: RuntimeWarning: invalid value encountered in double_scalars\n",
      "  N_cont_det = np.append(N_cont_det, np.sum(f_j)/chosen_N)\n"
     ]
    },
    {
     "name": "stdout",
     "output_type": "stream",
     "text": [
      "Loop 2\n"
     ]
    },
    {
     "name": "stderr",
     "output_type": "stream",
     "text": [
      "Auto-assigning NUTS sampler...\n",
      "Initializing NUTS using jitter+adapt_diag...\n",
      "Multiprocess sampling (4 chains in 2 jobs)\n",
      "NUTS: [sig]\n",
      "Sampling 4 chains for 1_000 tune and 1_000 draw iterations (4_000 + 4_000 draws total) took 57 seconds.\n",
      "Sampling: [sig]\n",
      "Multiprocess sampling (4 chains in 2 jobs)\n",
      "Metropolis: [Ncont]\n",
      "Sampling 4 chains for 1_000 tune and 1_000 draw iterations (4_000 + 4_000 draws total) took 45 seconds.\n",
      "Sampling: [Ncont]\n",
      "/var/folders/8d/npqd4lxx61zfcyxqzp26lpm80000gs/T/ipykernel_27396/2179017029.py:43: RuntimeWarning: invalid value encountered in double_scalars\n",
      "  N_cont_det = np.append(N_cont_det, np.sum(f_j)/chosen_N)\n"
     ]
    },
    {
     "name": "stdout",
     "output_type": "stream",
     "text": [
      "Loop 3\n"
     ]
    },
    {
     "name": "stderr",
     "output_type": "stream",
     "text": [
      "Auto-assigning NUTS sampler...\n",
      "Initializing NUTS using jitter+adapt_diag...\n",
      "Multiprocess sampling (4 chains in 2 jobs)\n",
      "NUTS: [sig]\n",
      "Sampling 4 chains for 1_000 tune and 1_000 draw iterations (4_000 + 4_000 draws total) took 41 seconds.\n",
      "Sampling: [sig]\n",
      "Multiprocess sampling (4 chains in 2 jobs)\n",
      "Metropolis: [Ncont]\n",
      "Sampling 4 chains for 1_000 tune and 1_000 draw iterations (4_000 + 4_000 draws total) took 63 seconds.\n",
      "Sampling: [Ncont]\n",
      "/var/folders/8d/npqd4lxx61zfcyxqzp26lpm80000gs/T/ipykernel_27396/2179017029.py:43: RuntimeWarning: invalid value encountered in double_scalars\n",
      "  N_cont_det = np.append(N_cont_det, np.sum(f_j)/chosen_N)\n"
     ]
    },
    {
     "name": "stdout",
     "output_type": "stream",
     "text": [
      "Loop 4\n"
     ]
    },
    {
     "name": "stderr",
     "output_type": "stream",
     "text": [
      "Auto-assigning NUTS sampler...\n",
      "Initializing NUTS using jitter+adapt_diag...\n",
      "Multiprocess sampling (4 chains in 2 jobs)\n",
      "NUTS: [sig]\n",
      "Sampling 4 chains for 1_000 tune and 1_000 draw iterations (4_000 + 4_000 draws total) took 35 seconds.\n",
      "Sampling: [sig]\n",
      "Multiprocess sampling (4 chains in 2 jobs)\n",
      "Metropolis: [Ncont]\n",
      "Sampling 4 chains for 1_000 tune and 1_000 draw iterations (4_000 + 4_000 draws total) took 43 seconds.\n",
      "Sampling: [Ncont]\n"
     ]
    },
    {
     "name": "stdout",
     "output_type": "stream",
     "text": [
      "Loop 5\n"
     ]
    },
    {
     "name": "stderr",
     "output_type": "stream",
     "text": [
      "Auto-assigning NUTS sampler...\n",
      "Initializing NUTS using jitter+adapt_diag...\n",
      "Multiprocess sampling (4 chains in 2 jobs)\n",
      "NUTS: [sig]\n",
      "Sampling 4 chains for 1_000 tune and 1_000 draw iterations (4_000 + 4_000 draws total) took 40 seconds.\n",
      "Sampling: [sig]\n",
      "Multiprocess sampling (4 chains in 2 jobs)\n",
      "Metropolis: [Ncont]\n",
      "Sampling 4 chains for 1_000 tune and 1_000 draw iterations (4_000 + 4_000 draws total) took 35 seconds.\n",
      "Sampling: [Ncont]\n",
      "/var/folders/8d/npqd4lxx61zfcyxqzp26lpm80000gs/T/ipykernel_27396/2179017029.py:43: RuntimeWarning: invalid value encountered in double_scalars\n",
      "  N_cont_det = np.append(N_cont_det, np.sum(f_j)/chosen_N)\n",
      "Auto-assigning NUTS sampler...\n",
      "Initializing NUTS using jitter+adapt_diag...\n"
     ]
    },
    {
     "name": "stdout",
     "output_type": "stream",
     "text": [
      "Loop 6\n"
     ]
    },
    {
     "name": "stderr",
     "output_type": "stream",
     "text": [
      "Multiprocess sampling (4 chains in 2 jobs)\n",
      "NUTS: [sig]\n",
      "Sampling 4 chains for 1_000 tune and 1_000 draw iterations (4_000 + 4_000 draws total) took 47 seconds.\n",
      "Sampling: [sig]\n",
      "Multiprocess sampling (4 chains in 2 jobs)\n",
      "Metropolis: [Ncont]\n",
      "Sampling 4 chains for 1_000 tune and 1_000 draw iterations (4_000 + 4_000 draws total) took 34 seconds.\n",
      "Sampling: [Ncont]\n",
      "/var/folders/8d/npqd4lxx61zfcyxqzp26lpm80000gs/T/ipykernel_27396/2179017029.py:43: RuntimeWarning: invalid value encountered in double_scalars\n",
      "  N_cont_det = np.append(N_cont_det, np.sum(f_j)/chosen_N)\n",
      "Auto-assigning NUTS sampler...\n",
      "Initializing NUTS using jitter+adapt_diag...\n"
     ]
    },
    {
     "name": "stdout",
     "output_type": "stream",
     "text": [
      "Loop 7\n"
     ]
    },
    {
     "name": "stderr",
     "output_type": "stream",
     "text": [
      "Multiprocess sampling (4 chains in 2 jobs)\n",
      "NUTS: [sig]\n",
      "Sampling 4 chains for 1_000 tune and 1_000 draw iterations (4_000 + 4_000 draws total) took 30 seconds.\n",
      "Sampling: [sig]\n",
      "Multiprocess sampling (4 chains in 2 jobs)\n",
      "Metropolis: [Ncont]\n",
      "Sampling 4 chains for 1_000 tune and 1_000 draw iterations (4_000 + 4_000 draws total) took 32 seconds.\n",
      "Sampling: [Ncont]\n",
      "/var/folders/8d/npqd4lxx61zfcyxqzp26lpm80000gs/T/ipykernel_27396/2179017029.py:43: RuntimeWarning: invalid value encountered in double_scalars\n",
      "  N_cont_det = np.append(N_cont_det, np.sum(f_j)/chosen_N)\n"
     ]
    },
    {
     "name": "stdout",
     "output_type": "stream",
     "text": [
      "Loop 8\n"
     ]
    },
    {
     "name": "stderr",
     "output_type": "stream",
     "text": [
      "Auto-assigning NUTS sampler...\n",
      "Initializing NUTS using jitter+adapt_diag...\n",
      "Multiprocess sampling (4 chains in 2 jobs)\n",
      "NUTS: [sig]\n",
      "Sampling 4 chains for 1_000 tune and 1_000 draw iterations (4_000 + 4_000 draws total) took 35 seconds.\n",
      "Sampling: [sig]\n",
      "Multiprocess sampling (4 chains in 2 jobs)\n",
      "Metropolis: [Ncont]\n",
      "Sampling 4 chains for 1_000 tune and 1_000 draw iterations (4_000 + 4_000 draws total) took 31 seconds.\n",
      "Sampling: [Ncont]\n",
      "/var/folders/8d/npqd4lxx61zfcyxqzp26lpm80000gs/T/ipykernel_27396/2179017029.py:43: RuntimeWarning: invalid value encountered in double_scalars\n",
      "  N_cont_det = np.append(N_cont_det, np.sum(f_j)/chosen_N)\n",
      "Auto-assigning NUTS sampler...\n",
      "Initializing NUTS using jitter+adapt_diag...\n"
     ]
    },
    {
     "name": "stdout",
     "output_type": "stream",
     "text": [
      "Loop 9\n"
     ]
    },
    {
     "name": "stderr",
     "output_type": "stream",
     "text": [
      "Multiprocess sampling (4 chains in 2 jobs)\n",
      "NUTS: [sig]\n",
      "Sampling 4 chains for 1_000 tune and 1_000 draw iterations (4_000 + 4_000 draws total) took 55 seconds.\n",
      "Sampling: [sig]\n",
      "Multiprocess sampling (4 chains in 2 jobs)\n",
      "Metropolis: [Ncont]\n",
      "Sampling 4 chains for 1_000 tune and 1_000 draw iterations (4_000 + 4_000 draws total) took 57 seconds.\n",
      "Sampling: [Ncont]\n",
      "/var/folders/8d/npqd4lxx61zfcyxqzp26lpm80000gs/T/ipykernel_27396/2179017029.py:43: RuntimeWarning: invalid value encountered in double_scalars\n",
      "  N_cont_det = np.append(N_cont_det, np.sum(f_j)/chosen_N)\n"
     ]
    },
    {
     "name": "stdout",
     "output_type": "stream",
     "text": [
      "Loop 10\n"
     ]
    },
    {
     "name": "stderr",
     "output_type": "stream",
     "text": [
      "Auto-assigning NUTS sampler...\n",
      "Initializing NUTS using jitter+adapt_diag...\n",
      "Multiprocess sampling (4 chains in 2 jobs)\n",
      "NUTS: [sig]\n",
      "Sampling 4 chains for 1_000 tune and 1_000 draw iterations (4_000 + 4_000 draws total) took 68 seconds.\n",
      "Sampling: [sig]\n",
      "Multiprocess sampling (4 chains in 2 jobs)\n",
      "Metropolis: [Ncont]\n",
      "Sampling 4 chains for 1_000 tune and 1_000 draw iterations (4_000 + 4_000 draws total) took 58 seconds.\n",
      "Sampling: [Ncont]\n",
      "/var/folders/8d/npqd4lxx61zfcyxqzp26lpm80000gs/T/ipykernel_27396/2179017029.py:43: RuntimeWarning: invalid value encountered in double_scalars\n",
      "  N_cont_det = np.append(N_cont_det, np.sum(f_j)/chosen_N)\n"
     ]
    },
    {
     "name": "stdout",
     "output_type": "stream",
     "text": [
      "Loop 11\n"
     ]
    },
    {
     "name": "stderr",
     "output_type": "stream",
     "text": [
      "Auto-assigning NUTS sampler...\n",
      "Initializing NUTS using jitter+adapt_diag...\n",
      "Multiprocess sampling (4 chains in 2 jobs)\n",
      "NUTS: [sig]\n",
      "Sampling 4 chains for 1_000 tune and 1_000 draw iterations (4_000 + 4_000 draws total) took 42 seconds.\n",
      "Sampling: [sig]\n",
      "Multiprocess sampling (4 chains in 2 jobs)\n",
      "Metropolis: [Ncont]\n",
      "Sampling 4 chains for 1_000 tune and 1_000 draw iterations (4_000 + 4_000 draws total) took 29 seconds.\n",
      "Sampling: [Ncont]\n",
      "/var/folders/8d/npqd4lxx61zfcyxqzp26lpm80000gs/T/ipykernel_27396/2179017029.py:43: RuntimeWarning: invalid value encountered in double_scalars\n",
      "  N_cont_det = np.append(N_cont_det, np.sum(f_j)/chosen_N)\n",
      "Auto-assigning NUTS sampler...\n",
      "Initializing NUTS using jitter+adapt_diag...\n"
     ]
    },
    {
     "name": "stdout",
     "output_type": "stream",
     "text": [
      "Loop 12\n"
     ]
    },
    {
     "name": "stderr",
     "output_type": "stream",
     "text": [
      "Multiprocess sampling (4 chains in 2 jobs)\n",
      "NUTS: [sig]\n",
      "Sampling 4 chains for 1_000 tune and 1_000 draw iterations (4_000 + 4_000 draws total) took 31 seconds.\n",
      "Sampling: [sig]\n",
      "Multiprocess sampling (4 chains in 2 jobs)\n",
      "Metropolis: [Ncont]\n",
      "Sampling 4 chains for 1_000 tune and 1_000 draw iterations (4_000 + 4_000 draws total) took 29 seconds.\n",
      "Sampling: [Ncont]\n",
      "/var/folders/8d/npqd4lxx61zfcyxqzp26lpm80000gs/T/ipykernel_27396/2179017029.py:43: RuntimeWarning: invalid value encountered in double_scalars\n",
      "  N_cont_det = np.append(N_cont_det, np.sum(f_j)/chosen_N)\n",
      "Auto-assigning NUTS sampler...\n",
      "Initializing NUTS using jitter+adapt_diag...\n"
     ]
    },
    {
     "name": "stdout",
     "output_type": "stream",
     "text": [
      "Loop 13\n"
     ]
    },
    {
     "name": "stderr",
     "output_type": "stream",
     "text": [
      "Multiprocess sampling (4 chains in 2 jobs)\n",
      "NUTS: [sig]\n",
      "Sampling 4 chains for 1_000 tune and 1_000 draw iterations (4_000 + 4_000 draws total) took 30 seconds.\n",
      "Sampling: [sig]\n",
      "Multiprocess sampling (4 chains in 2 jobs)\n",
      "Metropolis: [Ncont]\n",
      "Sampling 4 chains for 1_000 tune and 1_000 draw iterations (4_000 + 4_000 draws total) took 29 seconds.\n",
      "Sampling: [Ncont]\n",
      "/var/folders/8d/npqd4lxx61zfcyxqzp26lpm80000gs/T/ipykernel_27396/2179017029.py:43: RuntimeWarning: invalid value encountered in double_scalars\n",
      "  N_cont_det = np.append(N_cont_det, np.sum(f_j)/chosen_N)\n",
      "Auto-assigning NUTS sampler...\n",
      "Initializing NUTS using jitter+adapt_diag...\n"
     ]
    },
    {
     "name": "stdout",
     "output_type": "stream",
     "text": [
      "Loop 14\n"
     ]
    },
    {
     "name": "stderr",
     "output_type": "stream",
     "text": [
      "Multiprocess sampling (4 chains in 2 jobs)\n",
      "NUTS: [sig]\n",
      "Sampling 4 chains for 1_000 tune and 1_000 draw iterations (4_000 + 4_000 draws total) took 31 seconds.\n",
      "Sampling: [sig]\n",
      "Multiprocess sampling (4 chains in 2 jobs)\n",
      "Metropolis: [Ncont]\n",
      "Sampling 4 chains for 1_000 tune and 1_000 draw iterations (4_000 + 4_000 draws total) took 30 seconds.\n",
      "Sampling: [Ncont]\n",
      "/var/folders/8d/npqd4lxx61zfcyxqzp26lpm80000gs/T/ipykernel_27396/2179017029.py:43: RuntimeWarning: invalid value encountered in double_scalars\n",
      "  N_cont_det = np.append(N_cont_det, np.sum(f_j)/chosen_N)\n"
     ]
    },
    {
     "name": "stdout",
     "output_type": "stream",
     "text": [
      "Loop 15\n"
     ]
    },
    {
     "name": "stderr",
     "output_type": "stream",
     "text": [
      "Auto-assigning NUTS sampler...\n",
      "Initializing NUTS using jitter+adapt_diag...\n",
      "Multiprocess sampling (4 chains in 2 jobs)\n",
      "NUTS: [sig]\n",
      "Sampling 4 chains for 1_000 tune and 1_000 draw iterations (4_000 + 4_000 draws total) took 30 seconds.\n",
      "Sampling: [sig]\n",
      "Multiprocess sampling (4 chains in 2 jobs)\n",
      "Metropolis: [Ncont]\n",
      "Sampling 4 chains for 1_000 tune and 1_000 draw iterations (4_000 + 4_000 draws total) took 29 seconds.\n",
      "Sampling: [Ncont]\n",
      "/var/folders/8d/npqd4lxx61zfcyxqzp26lpm80000gs/T/ipykernel_27396/2179017029.py:43: RuntimeWarning: invalid value encountered in double_scalars\n",
      "  N_cont_det = np.append(N_cont_det, np.sum(f_j)/chosen_N)\n",
      "Auto-assigning NUTS sampler...\n",
      "Initializing NUTS using jitter+adapt_diag...\n"
     ]
    },
    {
     "name": "stdout",
     "output_type": "stream",
     "text": [
      "Loop 16\n"
     ]
    },
    {
     "name": "stderr",
     "output_type": "stream",
     "text": [
      "Multiprocess sampling (4 chains in 2 jobs)\n",
      "NUTS: [sig]\n",
      "Sampling 4 chains for 1_000 tune and 1_000 draw iterations (4_000 + 4_000 draws total) took 32 seconds.\n",
      "Sampling: [sig]\n",
      "Multiprocess sampling (4 chains in 2 jobs)\n",
      "Metropolis: [Ncont]\n",
      "Sampling 4 chains for 1_000 tune and 1_000 draw iterations (4_000 + 4_000 draws total) took 29 seconds.\n",
      "Sampling: [Ncont]\n",
      "/var/folders/8d/npqd4lxx61zfcyxqzp26lpm80000gs/T/ipykernel_27396/2179017029.py:43: RuntimeWarning: invalid value encountered in double_scalars\n",
      "  N_cont_det = np.append(N_cont_det, np.sum(f_j)/chosen_N)\n"
     ]
    },
    {
     "name": "stdout",
     "output_type": "stream",
     "text": [
      "Loop 17\n"
     ]
    },
    {
     "name": "stderr",
     "output_type": "stream",
     "text": [
      "Auto-assigning NUTS sampler...\n",
      "Initializing NUTS using jitter+adapt_diag...\n",
      "Multiprocess sampling (4 chains in 2 jobs)\n",
      "NUTS: [sig]\n",
      "Sampling 4 chains for 1_000 tune and 1_000 draw iterations (4_000 + 4_000 draws total) took 30 seconds.\n",
      "Sampling: [sig]\n",
      "Multiprocess sampling (4 chains in 2 jobs)\n",
      "Metropolis: [Ncont]\n",
      "Sampling 4 chains for 1_000 tune and 1_000 draw iterations (4_000 + 4_000 draws total) took 29 seconds.\n",
      "Sampling: [Ncont]\n",
      "/var/folders/8d/npqd4lxx61zfcyxqzp26lpm80000gs/T/ipykernel_27396/2179017029.py:43: RuntimeWarning: invalid value encountered in double_scalars\n",
      "  N_cont_det = np.append(N_cont_det, np.sum(f_j)/chosen_N)\n",
      "Auto-assigning NUTS sampler...\n",
      "Initializing NUTS using jitter+adapt_diag...\n"
     ]
    },
    {
     "name": "stdout",
     "output_type": "stream",
     "text": [
      "Loop 18\n"
     ]
    },
    {
     "name": "stderr",
     "output_type": "stream",
     "text": [
      "Multiprocess sampling (4 chains in 2 jobs)\n",
      "NUTS: [sig]\n",
      "Sampling 4 chains for 1_000 tune and 1_000 draw iterations (4_000 + 4_000 draws total) took 30 seconds.\n",
      "Sampling: [sig]\n",
      "Multiprocess sampling (4 chains in 2 jobs)\n",
      "Metropolis: [Ncont]\n",
      "Sampling 4 chains for 1_000 tune and 1_000 draw iterations (4_000 + 4_000 draws total) took 32 seconds.\n",
      "Sampling: [Ncont]\n",
      "/var/folders/8d/npqd4lxx61zfcyxqzp26lpm80000gs/T/ipykernel_27396/2179017029.py:43: RuntimeWarning: invalid value encountered in double_scalars\n",
      "  N_cont_det = np.append(N_cont_det, np.sum(f_j)/chosen_N)\n"
     ]
    },
    {
     "name": "stdout",
     "output_type": "stream",
     "text": [
      "Loop 19\n"
     ]
    },
    {
     "name": "stderr",
     "output_type": "stream",
     "text": [
      "Auto-assigning NUTS sampler...\n",
      "Initializing NUTS using jitter+adapt_diag...\n",
      "Multiprocess sampling (4 chains in 2 jobs)\n",
      "NUTS: [sig]\n",
      "Sampling 4 chains for 1_000 tune and 1_000 draw iterations (4_000 + 4_000 draws total) took 30 seconds.\n",
      "Sampling: [sig]\n",
      "Multiprocess sampling (4 chains in 2 jobs)\n",
      "Metropolis: [Ncont]\n",
      "Sampling 4 chains for 1_000 tune and 1_000 draw iterations (4_000 + 4_000 draws total) took 29 seconds.\n",
      "Sampling: [Ncont]\n",
      "/var/folders/8d/npqd4lxx61zfcyxqzp26lpm80000gs/T/ipykernel_27396/2179017029.py:43: RuntimeWarning: invalid value encountered in double_scalars\n",
      "  N_cont_det = np.append(N_cont_det, np.sum(f_j)/chosen_N)\n"
     ]
    },
    {
     "name": "stdout",
     "output_type": "stream",
     "text": [
      "Loop 20\n"
     ]
    },
    {
     "name": "stderr",
     "output_type": "stream",
     "text": [
      "Auto-assigning NUTS sampler...\n",
      "Initializing NUTS using jitter+adapt_diag...\n",
      "Multiprocess sampling (4 chains in 2 jobs)\n",
      "NUTS: [sig]\n",
      "Sampling 4 chains for 1_000 tune and 1_000 draw iterations (4_000 + 4_000 draws total) took 30 seconds.\n",
      "Sampling: [sig]\n",
      "Multiprocess sampling (4 chains in 2 jobs)\n",
      "Metropolis: [Ncont]\n",
      "Sampling 4 chains for 1_000 tune and 1_000 draw iterations (4_000 + 4_000 draws total) took 29 seconds.\n",
      "Sampling: [Ncont]\n",
      "/var/folders/8d/npqd4lxx61zfcyxqzp26lpm80000gs/T/ipykernel_27396/2179017029.py:43: RuntimeWarning: invalid value encountered in double_scalars\n",
      "  N_cont_det = np.append(N_cont_det, np.sum(f_j)/chosen_N)\n",
      "Auto-assigning NUTS sampler...\n",
      "Initializing NUTS using jitter+adapt_diag...\n"
     ]
    },
    {
     "name": "stdout",
     "output_type": "stream",
     "text": [
      "Loop 21\n"
     ]
    },
    {
     "name": "stderr",
     "output_type": "stream",
     "text": [
      "Multiprocess sampling (4 chains in 2 jobs)\n",
      "NUTS: [sig]\n",
      "Sampling 4 chains for 1_000 tune and 1_000 draw iterations (4_000 + 4_000 draws total) took 30 seconds.\n",
      "Sampling: [sig]\n",
      "Multiprocess sampling (4 chains in 2 jobs)\n",
      "Metropolis: [Ncont]\n",
      "Sampling 4 chains for 1_000 tune and 1_000 draw iterations (4_000 + 4_000 draws total) took 28 seconds.\n",
      "Sampling: [Ncont]\n",
      "/var/folders/8d/npqd4lxx61zfcyxqzp26lpm80000gs/T/ipykernel_27396/2179017029.py:43: RuntimeWarning: invalid value encountered in double_scalars\n",
      "  N_cont_det = np.append(N_cont_det, np.sum(f_j)/chosen_N)\n",
      "Auto-assigning NUTS sampler...\n",
      "Initializing NUTS using jitter+adapt_diag...\n"
     ]
    },
    {
     "name": "stdout",
     "output_type": "stream",
     "text": [
      "Loop 22\n"
     ]
    },
    {
     "name": "stderr",
     "output_type": "stream",
     "text": [
      "Multiprocess sampling (4 chains in 2 jobs)\n",
      "NUTS: [sig]\n",
      "Sampling 4 chains for 1_000 tune and 1_000 draw iterations (4_000 + 4_000 draws total) took 30 seconds.\n",
      "Sampling: [sig]\n",
      "Multiprocess sampling (4 chains in 2 jobs)\n",
      "Metropolis: [Ncont]\n",
      "Sampling 4 chains for 1_000 tune and 1_000 draw iterations (4_000 + 4_000 draws total) took 30 seconds.\n",
      "Sampling: [Ncont]\n",
      "/var/folders/8d/npqd4lxx61zfcyxqzp26lpm80000gs/T/ipykernel_27396/2179017029.py:43: RuntimeWarning: invalid value encountered in double_scalars\n",
      "  N_cont_det = np.append(N_cont_det, np.sum(f_j)/chosen_N)\n",
      "Auto-assigning NUTS sampler...\n"
     ]
    },
    {
     "name": "stdout",
     "output_type": "stream",
     "text": [
      "Loop 23\n"
     ]
    },
    {
     "name": "stderr",
     "output_type": "stream",
     "text": [
      "Initializing NUTS using jitter+adapt_diag...\n",
      "Multiprocess sampling (4 chains in 2 jobs)\n",
      "NUTS: [sig]\n",
      "Sampling 4 chains for 1_000 tune and 1_000 draw iterations (4_000 + 4_000 draws total) took 30 seconds.\n",
      "Sampling: [sig]\n",
      "Multiprocess sampling (4 chains in 2 jobs)\n",
      "Metropolis: [Ncont]\n",
      "Sampling 4 chains for 1_000 tune and 1_000 draw iterations (4_000 + 4_000 draws total) took 28 seconds.\n",
      "Sampling: [Ncont]\n",
      "/var/folders/8d/npqd4lxx61zfcyxqzp26lpm80000gs/T/ipykernel_27396/2179017029.py:43: RuntimeWarning: invalid value encountered in double_scalars\n",
      "  N_cont_det = np.append(N_cont_det, np.sum(f_j)/chosen_N)\n",
      "Auto-assigning NUTS sampler...\n",
      "Initializing NUTS using jitter+adapt_diag...\n"
     ]
    },
    {
     "name": "stdout",
     "output_type": "stream",
     "text": [
      "Loop 24\n"
     ]
    },
    {
     "name": "stderr",
     "output_type": "stream",
     "text": [
      "Multiprocess sampling (4 chains in 2 jobs)\n",
      "NUTS: [sig]\n",
      "Sampling 4 chains for 1_000 tune and 1_000 draw iterations (4_000 + 4_000 draws total) took 44 seconds.\n",
      "Sampling: [sig]\n",
      "Multiprocess sampling (4 chains in 2 jobs)\n",
      "Metropolis: [Ncont]\n",
      "Sampling 4 chains for 1_000 tune and 1_000 draw iterations (4_000 + 4_000 draws total) took 31 seconds.\n",
      "Sampling: [Ncont]\n",
      "/var/folders/8d/npqd4lxx61zfcyxqzp26lpm80000gs/T/ipykernel_27396/2179017029.py:43: RuntimeWarning: invalid value encountered in double_scalars\n",
      "  N_cont_det = np.append(N_cont_det, np.sum(f_j)/chosen_N)\n",
      "Auto-assigning NUTS sampler...\n"
     ]
    },
    {
     "name": "stdout",
     "output_type": "stream",
     "text": [
      "Loop 25\n"
     ]
    },
    {
     "name": "stderr",
     "output_type": "stream",
     "text": [
      "Initializing NUTS using jitter+adapt_diag...\n",
      "Multiprocess sampling (4 chains in 2 jobs)\n",
      "NUTS: [sig]\n",
      "Sampling 4 chains for 1_000 tune and 1_000 draw iterations (4_000 + 4_000 draws total) took 30 seconds.\n",
      "Sampling: [sig]\n",
      "Multiprocess sampling (4 chains in 2 jobs)\n",
      "Metropolis: [Ncont]\n",
      "Sampling 4 chains for 1_000 tune and 1_000 draw iterations (4_000 + 4_000 draws total) took 28 seconds.\n",
      "Sampling: [Ncont]\n",
      "/var/folders/8d/npqd4lxx61zfcyxqzp26lpm80000gs/T/ipykernel_27396/2179017029.py:43: RuntimeWarning: invalid value encountered in double_scalars\n",
      "  N_cont_det = np.append(N_cont_det, np.sum(f_j)/chosen_N)\n",
      "Auto-assigning NUTS sampler...\n",
      "Initializing NUTS using jitter+adapt_diag...\n"
     ]
    },
    {
     "name": "stdout",
     "output_type": "stream",
     "text": [
      "Loop 26\n"
     ]
    },
    {
     "name": "stderr",
     "output_type": "stream",
     "text": [
      "Multiprocess sampling (4 chains in 2 jobs)\n",
      "NUTS: [sig]\n",
      "Sampling 4 chains for 1_000 tune and 1_000 draw iterations (4_000 + 4_000 draws total) took 30 seconds.\n",
      "Sampling: [sig]\n",
      "Multiprocess sampling (4 chains in 2 jobs)\n",
      "Metropolis: [Ncont]\n",
      "Sampling 4 chains for 1_000 tune and 1_000 draw iterations (4_000 + 4_000 draws total) took 29 seconds.\n",
      "Sampling: [Ncont]\n",
      "/var/folders/8d/npqd4lxx61zfcyxqzp26lpm80000gs/T/ipykernel_27396/2179017029.py:43: RuntimeWarning: invalid value encountered in double_scalars\n",
      "  N_cont_det = np.append(N_cont_det, np.sum(f_j)/chosen_N)\n",
      "Auto-assigning NUTS sampler...\n"
     ]
    },
    {
     "name": "stdout",
     "output_type": "stream",
     "text": [
      "Loop 27\n"
     ]
    },
    {
     "name": "stderr",
     "output_type": "stream",
     "text": [
      "Initializing NUTS using jitter+adapt_diag...\n",
      "Multiprocess sampling (4 chains in 2 jobs)\n",
      "NUTS: [sig]\n",
      "Sampling 4 chains for 1_000 tune and 1_000 draw iterations (4_000 + 4_000 draws total) took 31 seconds.\n",
      "Sampling: [sig]\n",
      "Multiprocess sampling (4 chains in 2 jobs)\n",
      "Metropolis: [Ncont]\n",
      "Sampling 4 chains for 1_000 tune and 1_000 draw iterations (4_000 + 4_000 draws total) took 29 seconds.\n",
      "Sampling: [Ncont]\n",
      "/var/folders/8d/npqd4lxx61zfcyxqzp26lpm80000gs/T/ipykernel_27396/2179017029.py:43: RuntimeWarning: invalid value encountered in double_scalars\n",
      "  N_cont_det = np.append(N_cont_det, np.sum(f_j)/chosen_N)\n"
     ]
    },
    {
     "name": "stdout",
     "output_type": "stream",
     "text": [
      "Loop 28\n"
     ]
    },
    {
     "name": "stderr",
     "output_type": "stream",
     "text": [
      "Auto-assigning NUTS sampler...\n",
      "Initializing NUTS using jitter+adapt_diag...\n",
      "Multiprocess sampling (4 chains in 2 jobs)\n",
      "NUTS: [sig]\n",
      "Sampling 4 chains for 1_000 tune and 1_000 draw iterations (4_000 + 4_000 draws total) took 34 seconds.\n",
      "Sampling: [sig]\n",
      "Multiprocess sampling (4 chains in 2 jobs)\n",
      "Metropolis: [Ncont]\n",
      "Sampling 4 chains for 1_000 tune and 1_000 draw iterations (4_000 + 4_000 draws total) took 28 seconds.\n",
      "Sampling: [Ncont]\n",
      "Auto-assigning NUTS sampler...\n",
      "Initializing NUTS using jitter+adapt_diag...\n"
     ]
    },
    {
     "name": "stdout",
     "output_type": "stream",
     "text": [
      "Loop 29\n"
     ]
    },
    {
     "name": "stderr",
     "output_type": "stream",
     "text": [
      "Multiprocess sampling (4 chains in 2 jobs)\n",
      "NUTS: [sig]\n",
      "Sampling 4 chains for 1_000 tune and 1_000 draw iterations (4_000 + 4_000 draws total) took 51 seconds.\n",
      "Sampling: [sig]\n",
      "Multiprocess sampling (4 chains in 2 jobs)\n",
      "Metropolis: [Ncont]\n",
      "Sampling 4 chains for 1_000 tune and 1_000 draw iterations (4_000 + 4_000 draws total) took 33 seconds.\n",
      "Sampling: [Ncont]\n",
      "/var/folders/8d/npqd4lxx61zfcyxqzp26lpm80000gs/T/ipykernel_27396/2179017029.py:43: RuntimeWarning: invalid value encountered in double_scalars\n",
      "  N_cont_det = np.append(N_cont_det, np.sum(f_j)/chosen_N)\n"
     ]
    },
    {
     "name": "stdout",
     "output_type": "stream",
     "text": [
      "Loop 30\n"
     ]
    },
    {
     "name": "stderr",
     "output_type": "stream",
     "text": [
      "Auto-assigning NUTS sampler...\n",
      "Initializing NUTS using jitter+adapt_diag...\n",
      "Multiprocess sampling (4 chains in 2 jobs)\n",
      "NUTS: [sig]\n",
      "Sampling 4 chains for 1_000 tune and 1_000 draw iterations (4_000 + 4_000 draws total) took 32 seconds.\n",
      "Sampling: [sig]\n",
      "Multiprocess sampling (4 chains in 2 jobs)\n",
      "Metropolis: [Ncont]\n",
      "Sampling 4 chains for 1_000 tune and 1_000 draw iterations (4_000 + 4_000 draws total) took 31 seconds.\n",
      "Sampling: [Ncont]\n",
      "/var/folders/8d/npqd4lxx61zfcyxqzp26lpm80000gs/T/ipykernel_27396/2179017029.py:43: RuntimeWarning: invalid value encountered in double_scalars\n",
      "  N_cont_det = np.append(N_cont_det, np.sum(f_j)/chosen_N)\n",
      "Auto-assigning NUTS sampler...\n",
      "Initializing NUTS using jitter+adapt_diag...\n"
     ]
    },
    {
     "name": "stdout",
     "output_type": "stream",
     "text": [
      "Loop 31\n"
     ]
    },
    {
     "name": "stderr",
     "output_type": "stream",
     "text": [
      "Multiprocess sampling (4 chains in 2 jobs)\n",
      "NUTS: [sig]\n",
      "Sampling 4 chains for 1_000 tune and 1_000 draw iterations (4_000 + 4_000 draws total) took 29 seconds.\n",
      "Sampling: [sig]\n",
      "Multiprocess sampling (4 chains in 2 jobs)\n",
      "Metropolis: [Ncont]\n",
      "Sampling 4 chains for 1_000 tune and 1_000 draw iterations (4_000 + 4_000 draws total) took 28 seconds.\n",
      "Sampling: [Ncont]\n",
      "Auto-assigning NUTS sampler...\n",
      "Initializing NUTS using jitter+adapt_diag...\n"
     ]
    },
    {
     "name": "stdout",
     "output_type": "stream",
     "text": [
      "Loop 32\n"
     ]
    },
    {
     "name": "stderr",
     "output_type": "stream",
     "text": [
      "Multiprocess sampling (4 chains in 2 jobs)\n",
      "NUTS: [sig]\n",
      "Sampling 4 chains for 1_000 tune and 1_000 draw iterations (4_000 + 4_000 draws total) took 30 seconds.\n",
      "Sampling: [sig]\n",
      "Multiprocess sampling (4 chains in 2 jobs)\n",
      "Metropolis: [Ncont]\n",
      "Sampling 4 chains for 1_000 tune and 1_000 draw iterations (4_000 + 4_000 draws total) took 29 seconds.\n",
      "Sampling: [Ncont]\n",
      "/var/folders/8d/npqd4lxx61zfcyxqzp26lpm80000gs/T/ipykernel_27396/2179017029.py:43: RuntimeWarning: invalid value encountered in double_scalars\n",
      "  N_cont_det = np.append(N_cont_det, np.sum(f_j)/chosen_N)\n",
      "Auto-assigning NUTS sampler...\n",
      "Initializing NUTS using jitter+adapt_diag...\n"
     ]
    },
    {
     "name": "stdout",
     "output_type": "stream",
     "text": [
      "Loop 33\n"
     ]
    },
    {
     "name": "stderr",
     "output_type": "stream",
     "text": [
      "Multiprocess sampling (4 chains in 2 jobs)\n",
      "NUTS: [sig]\n",
      "Sampling 4 chains for 1_000 tune and 1_000 draw iterations (4_000 + 4_000 draws total) took 30 seconds.\n",
      "Sampling: [sig]\n",
      "Multiprocess sampling (4 chains in 2 jobs)\n",
      "Metropolis: [Ncont]\n",
      "Sampling 4 chains for 1_000 tune and 1_000 draw iterations (4_000 + 4_000 draws total) took 29 seconds.\n",
      "The rhat statistic is larger than 1.01 for some parameters. This indicates problems during sampling. See https://arxiv.org/abs/1903.08008 for details\n",
      "Sampling: [Ncont]\n",
      "/var/folders/8d/npqd4lxx61zfcyxqzp26lpm80000gs/T/ipykernel_27396/2179017029.py:43: RuntimeWarning: invalid value encountered in double_scalars\n",
      "  N_cont_det = np.append(N_cont_det, np.sum(f_j)/chosen_N)\n",
      "Auto-assigning NUTS sampler...\n",
      "Initializing NUTS using jitter+adapt_diag...\n"
     ]
    },
    {
     "name": "stdout",
     "output_type": "stream",
     "text": [
      "Loop 34\n"
     ]
    },
    {
     "name": "stderr",
     "output_type": "stream",
     "text": [
      "Multiprocess sampling (4 chains in 2 jobs)\n",
      "NUTS: [sig]\n",
      "Sampling 4 chains for 1_000 tune and 1_000 draw iterations (4_000 + 4_000 draws total) took 31 seconds.\n",
      "Sampling: [sig]\n",
      "Multiprocess sampling (4 chains in 2 jobs)\n",
      "Metropolis: [Ncont]\n",
      "Sampling 4 chains for 1_000 tune and 1_000 draw iterations (4_000 + 4_000 draws total) took 28 seconds.\n",
      "Sampling: [Ncont]\n",
      "/var/folders/8d/npqd4lxx61zfcyxqzp26lpm80000gs/T/ipykernel_27396/2179017029.py:43: RuntimeWarning: invalid value encountered in double_scalars\n",
      "  N_cont_det = np.append(N_cont_det, np.sum(f_j)/chosen_N)\n",
      "Auto-assigning NUTS sampler...\n",
      "Initializing NUTS using jitter+adapt_diag...\n"
     ]
    },
    {
     "name": "stdout",
     "output_type": "stream",
     "text": [
      "Loop 35\n"
     ]
    },
    {
     "name": "stderr",
     "output_type": "stream",
     "text": [
      "Multiprocess sampling (4 chains in 2 jobs)\n",
      "NUTS: [sig]\n",
      "Sampling 4 chains for 1_000 tune and 1_000 draw iterations (4_000 + 4_000 draws total) took 32 seconds.\n",
      "Sampling: [sig]\n",
      "Multiprocess sampling (4 chains in 2 jobs)\n",
      "Metropolis: [Ncont]\n",
      "Sampling 4 chains for 1_000 tune and 1_000 draw iterations (4_000 + 4_000 draws total) took 29 seconds.\n",
      "Sampling: [Ncont]\n",
      "/var/folders/8d/npqd4lxx61zfcyxqzp26lpm80000gs/T/ipykernel_27396/2179017029.py:43: RuntimeWarning: invalid value encountered in double_scalars\n",
      "  N_cont_det = np.append(N_cont_det, np.sum(f_j)/chosen_N)\n",
      "Auto-assigning NUTS sampler...\n"
     ]
    },
    {
     "name": "stdout",
     "output_type": "stream",
     "text": [
      "Loop 36\n"
     ]
    },
    {
     "name": "stderr",
     "output_type": "stream",
     "text": [
      "Initializing NUTS using jitter+adapt_diag...\n",
      "Multiprocess sampling (4 chains in 2 jobs)\n",
      "NUTS: [sig]\n",
      "Sampling 4 chains for 1_000 tune and 1_000 draw iterations (4_000 + 4_000 draws total) took 30 seconds.\n",
      "Sampling: [sig]\n",
      "Multiprocess sampling (4 chains in 2 jobs)\n",
      "Metropolis: [Ncont]\n",
      "Sampling 4 chains for 1_000 tune and 1_000 draw iterations (4_000 + 4_000 draws total) took 29 seconds.\n",
      "Sampling: [Ncont]\n",
      "/var/folders/8d/npqd4lxx61zfcyxqzp26lpm80000gs/T/ipykernel_27396/2179017029.py:43: RuntimeWarning: invalid value encountered in double_scalars\n",
      "  N_cont_det = np.append(N_cont_det, np.sum(f_j)/chosen_N)\n"
     ]
    },
    {
     "name": "stdout",
     "output_type": "stream",
     "text": [
      "Loop 37\n"
     ]
    },
    {
     "name": "stderr",
     "output_type": "stream",
     "text": [
      "Auto-assigning NUTS sampler...\n",
      "Initializing NUTS using jitter+adapt_diag...\n",
      "Multiprocess sampling (4 chains in 2 jobs)\n",
      "NUTS: [sig]\n",
      "Sampling 4 chains for 1_000 tune and 1_000 draw iterations (4_000 + 4_000 draws total) took 30 seconds.\n",
      "Sampling: [sig]\n",
      "Multiprocess sampling (4 chains in 2 jobs)\n",
      "Metropolis: [Ncont]\n",
      "Sampling 4 chains for 1_000 tune and 1_000 draw iterations (4_000 + 4_000 draws total) took 29 seconds.\n",
      "The rhat statistic is larger than 1.01 for some parameters. This indicates problems during sampling. See https://arxiv.org/abs/1903.08008 for details\n",
      "Sampling: [Ncont]\n",
      "/var/folders/8d/npqd4lxx61zfcyxqzp26lpm80000gs/T/ipykernel_27396/2179017029.py:43: RuntimeWarning: invalid value encountered in double_scalars\n",
      "  N_cont_det = np.append(N_cont_det, np.sum(f_j)/chosen_N)\n",
      "Auto-assigning NUTS sampler...\n",
      "Initializing NUTS using jitter+adapt_diag...\n"
     ]
    },
    {
     "name": "stdout",
     "output_type": "stream",
     "text": [
      "Loop 38\n"
     ]
    },
    {
     "name": "stderr",
     "output_type": "stream",
     "text": [
      "Multiprocess sampling (4 chains in 2 jobs)\n",
      "NUTS: [sig]\n",
      "Sampling 4 chains for 1_000 tune and 1_000 draw iterations (4_000 + 4_000 draws total) took 29 seconds.\n",
      "Sampling: [sig]\n",
      "Multiprocess sampling (4 chains in 2 jobs)\n",
      "Metropolis: [Ncont]\n",
      "Sampling 4 chains for 1_000 tune and 1_000 draw iterations (4_000 + 4_000 draws total) took 28 seconds.\n",
      "Sampling: [Ncont]\n",
      "/var/folders/8d/npqd4lxx61zfcyxqzp26lpm80000gs/T/ipykernel_27396/2179017029.py:43: RuntimeWarning: invalid value encountered in double_scalars\n",
      "  N_cont_det = np.append(N_cont_det, np.sum(f_j)/chosen_N)\n",
      "Auto-assigning NUTS sampler...\n"
     ]
    },
    {
     "name": "stdout",
     "output_type": "stream",
     "text": [
      "Loop 39\n"
     ]
    },
    {
     "name": "stderr",
     "output_type": "stream",
     "text": [
      "Initializing NUTS using jitter+adapt_diag...\n",
      "Multiprocess sampling (4 chains in 2 jobs)\n",
      "NUTS: [sig]\n",
      "Sampling 4 chains for 1_000 tune and 1_000 draw iterations (4_000 + 4_000 draws total) took 30 seconds.\n",
      "Sampling: [sig]\n",
      "Multiprocess sampling (4 chains in 2 jobs)\n",
      "Metropolis: [Ncont]\n",
      "Sampling 4 chains for 1_000 tune and 1_000 draw iterations (4_000 + 4_000 draws total) took 28 seconds.\n",
      "Sampling: [Ncont]\n",
      "/var/folders/8d/npqd4lxx61zfcyxqzp26lpm80000gs/T/ipykernel_27396/2179017029.py:43: RuntimeWarning: invalid value encountered in double_scalars\n",
      "  N_cont_det = np.append(N_cont_det, np.sum(f_j)/chosen_N)\n",
      "Auto-assigning NUTS sampler...\n",
      "Initializing NUTS using jitter+adapt_diag...\n"
     ]
    },
    {
     "name": "stdout",
     "output_type": "stream",
     "text": [
      "Loop 40\n"
     ]
    },
    {
     "name": "stderr",
     "output_type": "stream",
     "text": [
      "Multiprocess sampling (4 chains in 2 jobs)\n",
      "NUTS: [sig]\n",
      "Sampling 4 chains for 1_000 tune and 1_000 draw iterations (4_000 + 4_000 draws total) took 29 seconds.\n",
      "Sampling: [sig]\n",
      "Multiprocess sampling (4 chains in 2 jobs)\n",
      "Metropolis: [Ncont]\n",
      "Sampling 4 chains for 1_000 tune and 1_000 draw iterations (4_000 + 4_000 draws total) took 30 seconds.\n",
      "Sampling: [Ncont]\n",
      "Auto-assigning NUTS sampler...\n",
      "Initializing NUTS using jitter+adapt_diag...\n"
     ]
    },
    {
     "name": "stdout",
     "output_type": "stream",
     "text": [
      "Loop 41\n"
     ]
    },
    {
     "name": "stderr",
     "output_type": "stream",
     "text": [
      "Multiprocess sampling (4 chains in 2 jobs)\n",
      "NUTS: [sig]\n",
      "Sampling 4 chains for 1_000 tune and 1_000 draw iterations (4_000 + 4_000 draws total) took 32 seconds.\n",
      "Sampling: [sig]\n",
      "Multiprocess sampling (4 chains in 2 jobs)\n",
      "Metropolis: [Ncont]\n",
      "Sampling 4 chains for 1_000 tune and 1_000 draw iterations (4_000 + 4_000 draws total) took 30 seconds.\n",
      "Sampling: [Ncont]\n",
      "/var/folders/8d/npqd4lxx61zfcyxqzp26lpm80000gs/T/ipykernel_27396/2179017029.py:43: RuntimeWarning: invalid value encountered in double_scalars\n",
      "  N_cont_det = np.append(N_cont_det, np.sum(f_j)/chosen_N)\n",
      "Auto-assigning NUTS sampler...\n",
      "Initializing NUTS using jitter+adapt_diag...\n"
     ]
    },
    {
     "name": "stdout",
     "output_type": "stream",
     "text": [
      "Loop 42\n"
     ]
    },
    {
     "name": "stderr",
     "output_type": "stream",
     "text": [
      "Multiprocess sampling (4 chains in 2 jobs)\n",
      "NUTS: [sig]\n",
      "Sampling 4 chains for 1_000 tune and 1_000 draw iterations (4_000 + 4_000 draws total) took 31 seconds.\n",
      "Sampling: [sig]\n",
      "Multiprocess sampling (4 chains in 2 jobs)\n",
      "Metropolis: [Ncont]\n",
      "Sampling 4 chains for 1_000 tune and 1_000 draw iterations (4_000 + 4_000 draws total) took 30 seconds.\n",
      "Sampling: [Ncont]\n",
      "/var/folders/8d/npqd4lxx61zfcyxqzp26lpm80000gs/T/ipykernel_27396/2179017029.py:43: RuntimeWarning: invalid value encountered in double_scalars\n",
      "  N_cont_det = np.append(N_cont_det, np.sum(f_j)/chosen_N)\n",
      "Auto-assigning NUTS sampler...\n",
      "Initializing NUTS using jitter+adapt_diag...\n"
     ]
    },
    {
     "name": "stdout",
     "output_type": "stream",
     "text": [
      "Loop 43\n"
     ]
    },
    {
     "name": "stderr",
     "output_type": "stream",
     "text": [
      "Multiprocess sampling (4 chains in 2 jobs)\n",
      "NUTS: [sig]\n",
      "Sampling 4 chains for 1_000 tune and 1_000 draw iterations (4_000 + 4_000 draws total) took 31 seconds.\n",
      "Sampling: [sig]\n",
      "Multiprocess sampling (4 chains in 2 jobs)\n",
      "Metropolis: [Ncont]\n",
      "Sampling 4 chains for 1_000 tune and 1_000 draw iterations (4_000 + 4_000 draws total) took 30 seconds.\n",
      "Sampling: [Ncont]\n",
      "/var/folders/8d/npqd4lxx61zfcyxqzp26lpm80000gs/T/ipykernel_27396/2179017029.py:43: RuntimeWarning: invalid value encountered in double_scalars\n",
      "  N_cont_det = np.append(N_cont_det, np.sum(f_j)/chosen_N)\n"
     ]
    },
    {
     "name": "stdout",
     "output_type": "stream",
     "text": [
      "Loop 44\n"
     ]
    },
    {
     "name": "stderr",
     "output_type": "stream",
     "text": [
      "Auto-assigning NUTS sampler...\n",
      "Initializing NUTS using jitter+adapt_diag...\n",
      "Multiprocess sampling (4 chains in 2 jobs)\n",
      "NUTS: [sig]\n",
      "Sampling 4 chains for 1_000 tune and 1_000 draw iterations (4_000 + 4_000 draws total) took 31 seconds.\n",
      "Sampling: [sig]\n",
      "Multiprocess sampling (4 chains in 2 jobs)\n",
      "Metropolis: [Ncont]\n",
      "Sampling 4 chains for 1_000 tune and 1_000 draw iterations (4_000 + 4_000 draws total) took 28 seconds.\n",
      "Sampling: [Ncont]\n",
      "/var/folders/8d/npqd4lxx61zfcyxqzp26lpm80000gs/T/ipykernel_27396/2179017029.py:43: RuntimeWarning: invalid value encountered in double_scalars\n",
      "  N_cont_det = np.append(N_cont_det, np.sum(f_j)/chosen_N)\n",
      "Auto-assigning NUTS sampler...\n"
     ]
    },
    {
     "name": "stdout",
     "output_type": "stream",
     "text": [
      "Loop 45\n"
     ]
    },
    {
     "name": "stderr",
     "output_type": "stream",
     "text": [
      "Initializing NUTS using jitter+adapt_diag...\n",
      "Multiprocess sampling (4 chains in 2 jobs)\n",
      "NUTS: [sig]\n",
      "Sampling 4 chains for 1_000 tune and 1_000 draw iterations (4_000 + 4_000 draws total) took 31 seconds.\n",
      "Sampling: [sig]\n",
      "Multiprocess sampling (4 chains in 2 jobs)\n",
      "Metropolis: [Ncont]\n",
      "Sampling 4 chains for 1_000 tune and 1_000 draw iterations (4_000 + 4_000 draws total) took 29 seconds.\n",
      "Sampling: [Ncont]\n",
      "/var/folders/8d/npqd4lxx61zfcyxqzp26lpm80000gs/T/ipykernel_27396/2179017029.py:43: RuntimeWarning: invalid value encountered in double_scalars\n",
      "  N_cont_det = np.append(N_cont_det, np.sum(f_j)/chosen_N)\n",
      "Auto-assigning NUTS sampler...\n",
      "Initializing NUTS using jitter+adapt_diag...\n"
     ]
    },
    {
     "name": "stdout",
     "output_type": "stream",
     "text": [
      "Loop 46\n"
     ]
    },
    {
     "name": "stderr",
     "output_type": "stream",
     "text": [
      "Multiprocess sampling (4 chains in 2 jobs)\n",
      "NUTS: [sig]\n",
      "Sampling 4 chains for 1_000 tune and 1_000 draw iterations (4_000 + 4_000 draws total) took 30 seconds.\n",
      "Sampling: [sig]\n",
      "Multiprocess sampling (4 chains in 2 jobs)\n",
      "Metropolis: [Ncont]\n",
      "Sampling 4 chains for 1_000 tune and 1_000 draw iterations (4_000 + 4_000 draws total) took 28 seconds.\n",
      "Sampling: [Ncont]\n",
      "/var/folders/8d/npqd4lxx61zfcyxqzp26lpm80000gs/T/ipykernel_27396/2179017029.py:43: RuntimeWarning: invalid value encountered in double_scalars\n",
      "  N_cont_det = np.append(N_cont_det, np.sum(f_j)/chosen_N)\n",
      "Auto-assigning NUTS sampler...\n",
      "Initializing NUTS using jitter+adapt_diag...\n"
     ]
    },
    {
     "name": "stdout",
     "output_type": "stream",
     "text": [
      "Loop 47\n"
     ]
    },
    {
     "name": "stderr",
     "output_type": "stream",
     "text": [
      "Multiprocess sampling (4 chains in 2 jobs)\n",
      "NUTS: [sig]\n",
      "Sampling 4 chains for 1_000 tune and 1_000 draw iterations (4_000 + 4_000 draws total) took 29 seconds.\n",
      "Sampling: [sig]\n",
      "Multiprocess sampling (4 chains in 2 jobs)\n",
      "Metropolis: [Ncont]\n",
      "Sampling 4 chains for 1_000 tune and 1_000 draw iterations (4_000 + 4_000 draws total) took 29 seconds.\n",
      "Sampling: [Ncont]\n",
      "/var/folders/8d/npqd4lxx61zfcyxqzp26lpm80000gs/T/ipykernel_27396/2179017029.py:43: RuntimeWarning: invalid value encountered in double_scalars\n",
      "  N_cont_det = np.append(N_cont_det, np.sum(f_j)/chosen_N)\n"
     ]
    },
    {
     "name": "stdout",
     "output_type": "stream",
     "text": [
      "Loop 48\n"
     ]
    },
    {
     "name": "stderr",
     "output_type": "stream",
     "text": [
      "Auto-assigning NUTS sampler...\n",
      "Initializing NUTS using jitter+adapt_diag...\n",
      "Multiprocess sampling (4 chains in 2 jobs)\n",
      "NUTS: [sig]\n",
      "Sampling 4 chains for 1_000 tune and 1_000 draw iterations (4_000 + 4_000 draws total) took 33 seconds.\n",
      "Sampling: [sig]\n",
      "Multiprocess sampling (4 chains in 2 jobs)\n",
      "Metropolis: [Ncont]\n",
      "Sampling 4 chains for 1_000 tune and 1_000 draw iterations (4_000 + 4_000 draws total) took 32 seconds.\n",
      "Sampling: [Ncont]\n",
      "/var/folders/8d/npqd4lxx61zfcyxqzp26lpm80000gs/T/ipykernel_27396/2179017029.py:43: RuntimeWarning: invalid value encountered in double_scalars\n",
      "  N_cont_det = np.append(N_cont_det, np.sum(f_j)/chosen_N)\n",
      "Auto-assigning NUTS sampler...\n",
      "Initializing NUTS using jitter+adapt_diag...\n"
     ]
    },
    {
     "name": "stdout",
     "output_type": "stream",
     "text": [
      "Loop 49\n"
     ]
    },
    {
     "name": "stderr",
     "output_type": "stream",
     "text": [
      "Multiprocess sampling (4 chains in 2 jobs)\n",
      "NUTS: [sig]\n",
      "Sampling 4 chains for 1_000 tune and 1_000 draw iterations (4_000 + 4_000 draws total) took 31 seconds.\n",
      "Sampling: [sig]\n",
      "Multiprocess sampling (4 chains in 2 jobs)\n",
      "Metropolis: [Ncont]\n",
      "Sampling 4 chains for 1_000 tune and 1_000 draw iterations (4_000 + 4_000 draws total) took 30 seconds.\n",
      "Sampling: [Ncont]\n",
      "/var/folders/8d/npqd4lxx61zfcyxqzp26lpm80000gs/T/ipykernel_27396/2179017029.py:43: RuntimeWarning: invalid value encountered in double_scalars\n",
      "  N_cont_det = np.append(N_cont_det, np.sum(f_j)/chosen_N)\n"
     ]
    }
   ],
   "source": [
    "for i in range(200):\n",
    "    print('Loop '+str(i))\n",
    "    SEED = np.random.randint(100000)\n",
    "    SAMPLE_KWARGS = {\"chains\": 4, \"tune\": 1000, \"draws\":1000,\n",
    "                             \"random_seed\": [SEED, SEED + 1, SEED + 2, SEED + 3]}\n",
    "    with pm.Model() as P_siglos:\n",
    "        y_obs = pm.Gamma('sig', alpha=33+1, beta=O_cont)\n",
    "        sig_trace = pm.sample(**SAMPLE_KWARGS, progressbar=False)\n",
    "        sig_forecast = pm.sample_posterior_predictive(sig_trace, var_names=['sig'], progressbar=False)\n",
    "\n",
    "    sig_       = sig_forecast.posterior_predictive['sig'].data.flatten()\n",
    "    chosen_sig = random.choice(sig_)\n",
    "    chosen_sigs = np.append(chosen_sigs, chosen_sig)\n",
    "\n",
    "    SEED = np.random.randint(100000)\n",
    "    arr_seeds = np.append(arr_seeds, SEED)\n",
    "\n",
    "    SAMPLE_KWARGS = {\"chains\": 4, \"tune\": 1000, \"draws\":1000,\n",
    "                     \"random_seed\": [SEED, SEED + 1, SEED + 2, SEED + 3]}\n",
    "\n",
    "    with pm.Model() as P_Ncont:\n",
    "        y_obs          = pm.Poisson('Ncont', mu=chosen_sig*O_comp)\n",
    "        Ncont_trace    = pm.sample(**SAMPLE_KWARGS, progressbar=False)\n",
    "        Ncont_forecast = pm.sample_posterior_predictive(Ncont_trace, var_names=['Ncont'], progressbar=False)\n",
    "        \n",
    "    N_ = Ncont_forecast.posterior_predictive['Ncont'].data.flatten()\n",
    "    for k in range(10):\n",
    "        chosen_N  = random.choice(N_)\n",
    "        chosen_Ns = np.append(chosen_Ns, chosen_N)\n",
    "\n",
    "        f_j = np.array([])\n",
    "        j = 0\n",
    "        while j < chosen_N:\n",
    "            ran_dec   = np.random.randint(10000)/10000\n",
    "            j_dm_     = inv_delm(ran_dec, a, b, c)\n",
    "            if (j_dm_ > 7.)|(j_dm_ < 0):\n",
    "                continue\n",
    "            else:\n",
    "                j_r_      = inv_P_r(ran_dec)\n",
    "                j_dm, j_r = int(np.round(j_dm_, 1)*10), int(np.round(j_r_/10))\n",
    "                f_j       = np.append(f_j, frac_mtx[j_dm,j_r])\n",
    "                j += 1\n",
    "        N_cont_det = np.append(N_cont_det, np.sum(f_j)/chosen_N)\n",
    "        "
   ]
  },
  {
   "cell_type": "code",
   "execution_count": 860,
   "id": "10ecf3ac",
   "metadata": {},
   "outputs": [
    {
     "data": {
      "text/plain": [
       "(1060,)"
      ]
     },
     "execution_count": 860,
     "metadata": {},
     "output_type": "execute_result"
    }
   ],
   "source": [
    "chosen_Ns_1000 = chosen_Ns\n",
    "chosen_sigs_1000 = chosen_sigs\n",
    "arr_seeds_1000 = arr_seeds\n",
    "N_cont_det_1000 = N_cont_det"
   ]
  },
  {
   "cell_type": "code",
   "execution_count": 58,
   "id": "97193a6f",
   "metadata": {},
   "outputs": [
    {
     "data": {
      "text/plain": [
       "(500, 51, 51, 500)"
      ]
     },
     "execution_count": 58,
     "metadata": {},
     "output_type": "execute_result"
    }
   ],
   "source": [
    "len(chosen_Ns),len(chosen_sigs),len(arr_seeds),len(N_cont_det)"
   ]
  },
  {
   "cell_type": "code",
   "execution_count": null,
   "id": "5966e141",
   "metadata": {},
   "outputs": [],
   "source": []
  },
  {
   "cell_type": "markdown",
   "id": "de0bf34f",
   "metadata": {},
   "source": [
    "#### the following loops broken at loop 919. Therefore ran a separate set of oterations for 81 samples`"
   ]
  },
  {
   "cell_type": "code",
   "execution_count": 808,
   "id": "29b9d1b6",
   "metadata": {
    "collapsed": true
   },
   "outputs": [
    {
     "name": "stdout",
     "output_type": "stream",
     "text": [
      "Loop 0\n"
     ]
    },
    {
     "name": "stderr",
     "output_type": "stream",
     "text": [
      "Auto-assigning NUTS sampler...\n",
      "Initializing NUTS using jitter+adapt_diag...\n",
      "Multiprocess sampling (4 chains in 2 jobs)\n",
      "NUTS: [sig]\n",
      "Sampling 4 chains for 1_000 tune and 1_000 draw iterations (4_000 + 4_000 draws total) took 55 seconds.\n",
      "Sampling: [sig]\n",
      "Multiprocess sampling (4 chains in 2 jobs)\n",
      "Metropolis: [Ncont]\n",
      "Sampling 4 chains for 1_000 tune and 10_000 draw iterations (4_000 + 40_000 draws total) took 64 seconds.\n",
      "Sampling: [Ncont]\n"
     ]
    },
    {
     "name": "stdout",
     "output_type": "stream",
     "text": [
      "Loop 1\n"
     ]
    },
    {
     "name": "stderr",
     "output_type": "stream",
     "text": [
      "Auto-assigning NUTS sampler...\n",
      "Initializing NUTS using jitter+adapt_diag...\n",
      "Multiprocess sampling (4 chains in 2 jobs)\n",
      "NUTS: [sig]\n",
      "Sampling 4 chains for 1_000 tune and 1_000 draw iterations (4_000 + 4_000 draws total) took 71 seconds.\n",
      "Sampling: [sig]\n",
      "Multiprocess sampling (4 chains in 2 jobs)\n",
      "Metropolis: [Ncont]\n",
      "Sampling 4 chains for 1_000 tune and 10_000 draw iterations (4_000 + 40_000 draws total) took 53 seconds.\n",
      "Sampling: [Ncont]\n"
     ]
    },
    {
     "name": "stdout",
     "output_type": "stream",
     "text": [
      "Loop 2\n"
     ]
    },
    {
     "name": "stderr",
     "output_type": "stream",
     "text": [
      "Auto-assigning NUTS sampler...\n",
      "Initializing NUTS using jitter+adapt_diag...\n",
      "Multiprocess sampling (4 chains in 2 jobs)\n",
      "NUTS: [sig]\n",
      "Sampling 4 chains for 1_000 tune and 1_000 draw iterations (4_000 + 4_000 draws total) took 49 seconds.\n",
      "Sampling: [sig]\n",
      "Multiprocess sampling (4 chains in 2 jobs)\n",
      "Metropolis: [Ncont]\n",
      "Sampling 4 chains for 1_000 tune and 10_000 draw iterations (4_000 + 40_000 draws total) took 65 seconds.\n",
      "Sampling: [Ncont]\n"
     ]
    },
    {
     "name": "stdout",
     "output_type": "stream",
     "text": [
      "Loop 3\n"
     ]
    },
    {
     "name": "stderr",
     "output_type": "stream",
     "text": [
      "Auto-assigning NUTS sampler...\n",
      "Initializing NUTS using jitter+adapt_diag...\n",
      "Multiprocess sampling (4 chains in 2 jobs)\n",
      "NUTS: [sig]\n",
      "Sampling 4 chains for 1_000 tune and 1_000 draw iterations (4_000 + 4_000 draws total) took 61 seconds.\n",
      "Sampling: [sig]\n",
      "Multiprocess sampling (4 chains in 2 jobs)\n",
      "Metropolis: [Ncont]\n",
      "Sampling 4 chains for 1_000 tune and 10_000 draw iterations (4_000 + 40_000 draws total) took 82 seconds.\n",
      "Sampling: [Ncont]\n"
     ]
    },
    {
     "name": "stdout",
     "output_type": "stream",
     "text": [
      "Loop 4\n"
     ]
    },
    {
     "name": "stderr",
     "output_type": "stream",
     "text": [
      "Auto-assigning NUTS sampler...\n",
      "Initializing NUTS using jitter+adapt_diag...\n",
      "Multiprocess sampling (4 chains in 2 jobs)\n",
      "NUTS: [sig]\n",
      "Sampling 4 chains for 1_000 tune and 1_000 draw iterations (4_000 + 4_000 draws total) took 49 seconds.\n",
      "Sampling: [sig]\n",
      "Multiprocess sampling (4 chains in 2 jobs)\n",
      "Metropolis: [Ncont]\n",
      "Sampling 4 chains for 1_000 tune and 10_000 draw iterations (4_000 + 40_000 draws total) took 118 seconds.\n",
      "Sampling: [Ncont]\n"
     ]
    },
    {
     "name": "stdout",
     "output_type": "stream",
     "text": [
      "Loop 5\n"
     ]
    },
    {
     "name": "stderr",
     "output_type": "stream",
     "text": [
      "Auto-assigning NUTS sampler...\n",
      "Initializing NUTS using jitter+adapt_diag...\n",
      "Multiprocess sampling (4 chains in 2 jobs)\n",
      "NUTS: [sig]\n",
      "Sampling 4 chains for 1_000 tune and 1_000 draw iterations (4_000 + 4_000 draws total) took 41 seconds.\n",
      "Sampling: [sig]\n",
      "Multiprocess sampling (4 chains in 2 jobs)\n",
      "Metropolis: [Ncont]\n",
      "Sampling 4 chains for 1_000 tune and 10_000 draw iterations (4_000 + 40_000 draws total) took 60 seconds.\n",
      "Sampling: [Ncont]\n"
     ]
    },
    {
     "name": "stdout",
     "output_type": "stream",
     "text": [
      "Loop 6\n"
     ]
    },
    {
     "name": "stderr",
     "output_type": "stream",
     "text": [
      "Auto-assigning NUTS sampler...\n",
      "Initializing NUTS using jitter+adapt_diag...\n",
      "Multiprocess sampling (4 chains in 2 jobs)\n",
      "NUTS: [sig]\n",
      "Sampling 4 chains for 1_000 tune and 1_000 draw iterations (4_000 + 4_000 draws total) took 44 seconds.\n",
      "Sampling: [sig]\n",
      "Multiprocess sampling (4 chains in 2 jobs)\n",
      "Metropolis: [Ncont]\n",
      "Sampling 4 chains for 1_000 tune and 10_000 draw iterations (4_000 + 40_000 draws total) took 58 seconds.\n",
      "Sampling: [Ncont]\n"
     ]
    },
    {
     "name": "stdout",
     "output_type": "stream",
     "text": [
      "Loop 7\n"
     ]
    },
    {
     "name": "stderr",
     "output_type": "stream",
     "text": [
      "Auto-assigning NUTS sampler...\n",
      "Initializing NUTS using jitter+adapt_diag...\n",
      "Multiprocess sampling (4 chains in 2 jobs)\n",
      "NUTS: [sig]\n",
      "Sampling 4 chains for 1_000 tune and 1_000 draw iterations (4_000 + 4_000 draws total) took 55 seconds.\n",
      "Sampling: [sig]\n",
      "Multiprocess sampling (4 chains in 2 jobs)\n",
      "Metropolis: [Ncont]\n",
      "Sampling 4 chains for 1_000 tune and 10_000 draw iterations (4_000 + 40_000 draws total) took 46 seconds.\n",
      "Sampling: [Ncont]\n"
     ]
    },
    {
     "name": "stdout",
     "output_type": "stream",
     "text": [
      "Loop 8\n"
     ]
    },
    {
     "name": "stderr",
     "output_type": "stream",
     "text": [
      "Auto-assigning NUTS sampler...\n",
      "Initializing NUTS using jitter+adapt_diag...\n",
      "Multiprocess sampling (4 chains in 2 jobs)\n",
      "NUTS: [sig]\n",
      "Sampling 4 chains for 1_000 tune and 1_000 draw iterations (4_000 + 4_000 draws total) took 31 seconds.\n",
      "Sampling: [sig]\n",
      "Multiprocess sampling (4 chains in 2 jobs)\n",
      "Metropolis: [Ncont]\n",
      "Sampling 4 chains for 1_000 tune and 10_000 draw iterations (4_000 + 40_000 draws total) took 42 seconds.\n",
      "Sampling: [Ncont]\n"
     ]
    },
    {
     "name": "stdout",
     "output_type": "stream",
     "text": [
      "Loop 9\n"
     ]
    },
    {
     "name": "stderr",
     "output_type": "stream",
     "text": [
      "Auto-assigning NUTS sampler...\n",
      "Initializing NUTS using jitter+adapt_diag...\n",
      "Multiprocess sampling (4 chains in 2 jobs)\n",
      "NUTS: [sig]\n",
      "Sampling 4 chains for 1_000 tune and 1_000 draw iterations (4_000 + 4_000 draws total) took 31 seconds.\n",
      "Sampling: [sig]\n",
      "Multiprocess sampling (4 chains in 2 jobs)\n",
      "Metropolis: [Ncont]\n",
      "Sampling 4 chains for 1_000 tune and 10_000 draw iterations (4_000 + 40_000 draws total) took 35 seconds.\n",
      "Sampling: [Ncont]\n"
     ]
    },
    {
     "name": "stdout",
     "output_type": "stream",
     "text": [
      "Loop 10\n"
     ]
    },
    {
     "name": "stderr",
     "output_type": "stream",
     "text": [
      "Auto-assigning NUTS sampler...\n",
      "Initializing NUTS using jitter+adapt_diag...\n",
      "Multiprocess sampling (4 chains in 2 jobs)\n",
      "NUTS: [sig]\n",
      "Sampling 4 chains for 1_000 tune and 1_000 draw iterations (4_000 + 4_000 draws total) took 32 seconds.\n",
      "Sampling: [sig]\n",
      "Multiprocess sampling (4 chains in 2 jobs)\n",
      "Metropolis: [Ncont]\n",
      "Sampling 4 chains for 1_000 tune and 10_000 draw iterations (4_000 + 40_000 draws total) took 36 seconds.\n",
      "Sampling: [Ncont]\n"
     ]
    },
    {
     "name": "stdout",
     "output_type": "stream",
     "text": [
      "Loop 11\n"
     ]
    },
    {
     "name": "stderr",
     "output_type": "stream",
     "text": [
      "Auto-assigning NUTS sampler...\n",
      "Initializing NUTS using jitter+adapt_diag...\n",
      "Multiprocess sampling (4 chains in 2 jobs)\n",
      "NUTS: [sig]\n",
      "Sampling 4 chains for 1_000 tune and 1_000 draw iterations (4_000 + 4_000 draws total) took 31 seconds.\n",
      "Sampling: [sig]\n",
      "Multiprocess sampling (4 chains in 2 jobs)\n",
      "Metropolis: [Ncont]\n",
      "Sampling 4 chains for 1_000 tune and 10_000 draw iterations (4_000 + 40_000 draws total) took 38 seconds.\n",
      "Sampling: [Ncont]\n"
     ]
    },
    {
     "name": "stdout",
     "output_type": "stream",
     "text": [
      "Loop 12\n"
     ]
    },
    {
     "name": "stderr",
     "output_type": "stream",
     "text": [
      "Auto-assigning NUTS sampler...\n",
      "Initializing NUTS using jitter+adapt_diag...\n",
      "Multiprocess sampling (4 chains in 2 jobs)\n",
      "NUTS: [sig]\n",
      "Sampling 4 chains for 1_000 tune and 1_000 draw iterations (4_000 + 4_000 draws total) took 32 seconds.\n",
      "Sampling: [sig]\n",
      "Multiprocess sampling (4 chains in 2 jobs)\n",
      "Metropolis: [Ncont]\n",
      "Sampling 4 chains for 1_000 tune and 10_000 draw iterations (4_000 + 40_000 draws total) took 36 seconds.\n",
      "Sampling: [Ncont]\n"
     ]
    },
    {
     "name": "stdout",
     "output_type": "stream",
     "text": [
      "Loop 13\n"
     ]
    },
    {
     "name": "stderr",
     "output_type": "stream",
     "text": [
      "Auto-assigning NUTS sampler...\n",
      "Initializing NUTS using jitter+adapt_diag...\n",
      "Multiprocess sampling (4 chains in 2 jobs)\n",
      "NUTS: [sig]\n",
      "Sampling 4 chains for 1_000 tune and 1_000 draw iterations (4_000 + 4_000 draws total) took 31 seconds.\n",
      "Sampling: [sig]\n",
      "Multiprocess sampling (4 chains in 2 jobs)\n",
      "Metropolis: [Ncont]\n",
      "Sampling 4 chains for 1_000 tune and 10_000 draw iterations (4_000 + 40_000 draws total) took 36 seconds.\n",
      "Sampling: [Ncont]\n"
     ]
    },
    {
     "name": "stdout",
     "output_type": "stream",
     "text": [
      "Loop 14\n"
     ]
    },
    {
     "name": "stderr",
     "output_type": "stream",
     "text": [
      "Auto-assigning NUTS sampler...\n",
      "Initializing NUTS using jitter+adapt_diag...\n",
      "Multiprocess sampling (4 chains in 2 jobs)\n",
      "NUTS: [sig]\n",
      "Sampling 4 chains for 1_000 tune and 1_000 draw iterations (4_000 + 4_000 draws total) took 35 seconds.\n",
      "Sampling: [sig]\n",
      "Multiprocess sampling (4 chains in 2 jobs)\n",
      "Metropolis: [Ncont]\n",
      "Sampling 4 chains for 1_000 tune and 10_000 draw iterations (4_000 + 40_000 draws total) took 37 seconds.\n",
      "Sampling: [Ncont]\n",
      "Auto-assigning NUTS sampler...\n",
      "Initializing NUTS using jitter+adapt_diag...\n"
     ]
    },
    {
     "name": "stdout",
     "output_type": "stream",
     "text": [
      "Loop 15\n"
     ]
    },
    {
     "name": "stderr",
     "output_type": "stream",
     "text": [
      "Multiprocess sampling (4 chains in 2 jobs)\n",
      "NUTS: [sig]\n",
      "Sampling 4 chains for 1_000 tune and 1_000 draw iterations (4_000 + 4_000 draws total) took 31 seconds.\n",
      "Sampling: [sig]\n",
      "Multiprocess sampling (4 chains in 2 jobs)\n",
      "Metropolis: [Ncont]\n",
      "Sampling 4 chains for 1_000 tune and 10_000 draw iterations (4_000 + 40_000 draws total) took 34 seconds.\n",
      "Sampling: [Ncont]\n"
     ]
    },
    {
     "name": "stdout",
     "output_type": "stream",
     "text": [
      "Loop 16\n"
     ]
    },
    {
     "name": "stderr",
     "output_type": "stream",
     "text": [
      "Auto-assigning NUTS sampler...\n",
      "Initializing NUTS using jitter+adapt_diag...\n",
      "Multiprocess sampling (4 chains in 2 jobs)\n",
      "NUTS: [sig]\n",
      "Sampling 4 chains for 1_000 tune and 1_000 draw iterations (4_000 + 4_000 draws total) took 29 seconds.\n",
      "Sampling: [sig]\n",
      "Multiprocess sampling (4 chains in 2 jobs)\n",
      "Metropolis: [Ncont]\n",
      "Sampling 4 chains for 1_000 tune and 10_000 draw iterations (4_000 + 40_000 draws total) took 35 seconds.\n",
      "Sampling: [Ncont]\n"
     ]
    },
    {
     "name": "stdout",
     "output_type": "stream",
     "text": [
      "Loop 17\n"
     ]
    },
    {
     "name": "stderr",
     "output_type": "stream",
     "text": [
      "Auto-assigning NUTS sampler...\n",
      "Initializing NUTS using jitter+adapt_diag...\n",
      "Multiprocess sampling (4 chains in 2 jobs)\n",
      "NUTS: [sig]\n",
      "Sampling 4 chains for 1_000 tune and 1_000 draw iterations (4_000 + 4_000 draws total) took 31 seconds.\n",
      "Sampling: [sig]\n",
      "Multiprocess sampling (4 chains in 2 jobs)\n",
      "Metropolis: [Ncont]\n",
      "Sampling 4 chains for 1_000 tune and 10_000 draw iterations (4_000 + 40_000 draws total) took 36 seconds.\n",
      "Sampling: [Ncont]\n"
     ]
    },
    {
     "name": "stdout",
     "output_type": "stream",
     "text": [
      "Loop 18\n"
     ]
    },
    {
     "name": "stderr",
     "output_type": "stream",
     "text": [
      "Auto-assigning NUTS sampler...\n",
      "Initializing NUTS using jitter+adapt_diag...\n",
      "Multiprocess sampling (4 chains in 2 jobs)\n",
      "NUTS: [sig]\n",
      "Sampling 4 chains for 1_000 tune and 1_000 draw iterations (4_000 + 4_000 draws total) took 29 seconds.\n",
      "Sampling: [sig]\n",
      "Multiprocess sampling (4 chains in 2 jobs)\n",
      "Metropolis: [Ncont]\n",
      "Sampling 4 chains for 1_000 tune and 10_000 draw iterations (4_000 + 40_000 draws total) took 36 seconds.\n",
      "Sampling: [Ncont]\n"
     ]
    },
    {
     "name": "stdout",
     "output_type": "stream",
     "text": [
      "Loop 19\n"
     ]
    },
    {
     "name": "stderr",
     "output_type": "stream",
     "text": [
      "Auto-assigning NUTS sampler...\n",
      "Initializing NUTS using jitter+adapt_diag...\n",
      "Multiprocess sampling (4 chains in 2 jobs)\n",
      "NUTS: [sig]\n",
      "Sampling 4 chains for 1_000 tune and 1_000 draw iterations (4_000 + 4_000 draws total) took 31 seconds.\n",
      "Sampling: [sig]\n",
      "Multiprocess sampling (4 chains in 2 jobs)\n",
      "Metropolis: [Ncont]\n",
      "Sampling 4 chains for 1_000 tune and 10_000 draw iterations (4_000 + 40_000 draws total) took 35 seconds.\n",
      "Sampling: [Ncont]\n",
      "Auto-assigning NUTS sampler...\n",
      "Initializing NUTS using jitter+adapt_diag...\n"
     ]
    },
    {
     "name": "stdout",
     "output_type": "stream",
     "text": [
      "Loop 20\n"
     ]
    },
    {
     "name": "stderr",
     "output_type": "stream",
     "text": [
      "Multiprocess sampling (4 chains in 2 jobs)\n",
      "NUTS: [sig]\n",
      "Sampling 4 chains for 1_000 tune and 1_000 draw iterations (4_000 + 4_000 draws total) took 30 seconds.\n",
      "Sampling: [sig]\n",
      "Multiprocess sampling (4 chains in 2 jobs)\n",
      "Metropolis: [Ncont]\n",
      "Sampling 4 chains for 1_000 tune and 10_000 draw iterations (4_000 + 40_000 draws total) took 36 seconds.\n",
      "Sampling: [Ncont]\n"
     ]
    },
    {
     "name": "stdout",
     "output_type": "stream",
     "text": [
      "Loop 21\n"
     ]
    },
    {
     "name": "stderr",
     "output_type": "stream",
     "text": [
      "Auto-assigning NUTS sampler...\n",
      "Initializing NUTS using jitter+adapt_diag...\n",
      "Multiprocess sampling (4 chains in 2 jobs)\n",
      "NUTS: [sig]\n",
      "Sampling 4 chains for 1_000 tune and 1_000 draw iterations (4_000 + 4_000 draws total) took 33 seconds.\n",
      "Sampling: [sig]\n",
      "Multiprocess sampling (4 chains in 2 jobs)\n",
      "Metropolis: [Ncont]\n",
      "Sampling 4 chains for 1_000 tune and 10_000 draw iterations (4_000 + 40_000 draws total) took 35 seconds.\n",
      "Sampling: [Ncont]\n",
      "Auto-assigning NUTS sampler...\n",
      "Initializing NUTS using jitter+adapt_diag...\n"
     ]
    },
    {
     "name": "stdout",
     "output_type": "stream",
     "text": [
      "Loop 22\n"
     ]
    },
    {
     "name": "stderr",
     "output_type": "stream",
     "text": [
      "Multiprocess sampling (4 chains in 2 jobs)\n",
      "NUTS: [sig]\n",
      "Sampling 4 chains for 1_000 tune and 1_000 draw iterations (4_000 + 4_000 draws total) took 31 seconds.\n",
      "Sampling: [sig]\n",
      "Multiprocess sampling (4 chains in 2 jobs)\n",
      "Metropolis: [Ncont]\n",
      "Sampling 4 chains for 1_000 tune and 10_000 draw iterations (4_000 + 40_000 draws total) took 34 seconds.\n",
      "Sampling: [Ncont]\n",
      "Auto-assigning NUTS sampler...\n",
      "Initializing NUTS using jitter+adapt_diag...\n"
     ]
    },
    {
     "name": "stdout",
     "output_type": "stream",
     "text": [
      "Loop 23\n"
     ]
    },
    {
     "name": "stderr",
     "output_type": "stream",
     "text": [
      "Multiprocess sampling (4 chains in 2 jobs)\n",
      "NUTS: [sig]\n",
      "Sampling 4 chains for 1_000 tune and 1_000 draw iterations (4_000 + 4_000 draws total) took 30 seconds.\n",
      "Sampling: [sig]\n",
      "Multiprocess sampling (4 chains in 2 jobs)\n",
      "Metropolis: [Ncont]\n",
      "Sampling 4 chains for 1_000 tune and 10_000 draw iterations (4_000 + 40_000 draws total) took 36 seconds.\n",
      "Sampling: [Ncont]\n"
     ]
    },
    {
     "name": "stdout",
     "output_type": "stream",
     "text": [
      "Loop 24\n"
     ]
    },
    {
     "name": "stderr",
     "output_type": "stream",
     "text": [
      "Auto-assigning NUTS sampler...\n",
      "Initializing NUTS using jitter+adapt_diag...\n",
      "Multiprocess sampling (4 chains in 2 jobs)\n",
      "NUTS: [sig]\n",
      "Sampling 4 chains for 1_000 tune and 1_000 draw iterations (4_000 + 4_000 draws total) took 35 seconds.\n",
      "Sampling: [sig]\n",
      "Multiprocess sampling (4 chains in 2 jobs)\n",
      "Metropolis: [Ncont]\n",
      "Sampling 4 chains for 1_000 tune and 10_000 draw iterations (4_000 + 40_000 draws total) took 36 seconds.\n",
      "Sampling: [Ncont]\n",
      "Auto-assigning NUTS sampler...\n",
      "Initializing NUTS using jitter+adapt_diag...\n"
     ]
    },
    {
     "name": "stdout",
     "output_type": "stream",
     "text": [
      "Loop 25\n"
     ]
    },
    {
     "name": "stderr",
     "output_type": "stream",
     "text": [
      "Multiprocess sampling (4 chains in 2 jobs)\n",
      "NUTS: [sig]\n",
      "Sampling 4 chains for 1_000 tune and 1_000 draw iterations (4_000 + 4_000 draws total) took 43 seconds.\n",
      "Sampling: [sig]\n",
      "Multiprocess sampling (4 chains in 2 jobs)\n",
      "Metropolis: [Ncont]\n",
      "Sampling 4 chains for 1_000 tune and 10_000 draw iterations (4_000 + 40_000 draws total) took 50 seconds.\n",
      "Sampling: [Ncont]\n"
     ]
    },
    {
     "name": "stdout",
     "output_type": "stream",
     "text": [
      "Loop 26\n"
     ]
    },
    {
     "name": "stderr",
     "output_type": "stream",
     "text": [
      "Auto-assigning NUTS sampler...\n",
      "Initializing NUTS using jitter+adapt_diag...\n",
      "Multiprocess sampling (4 chains in 2 jobs)\n",
      "NUTS: [sig]\n",
      "Sampling 4 chains for 1_000 tune and 1_000 draw iterations (4_000 + 4_000 draws total) took 47 seconds.\n",
      "Sampling: [sig]\n",
      "Multiprocess sampling (4 chains in 2 jobs)\n",
      "Metropolis: [Ncont]\n",
      "Sampling 4 chains for 1_000 tune and 10_000 draw iterations (4_000 + 40_000 draws total) took 43 seconds.\n",
      "Sampling: [Ncont]\n"
     ]
    },
    {
     "name": "stdout",
     "output_type": "stream",
     "text": [
      "Loop 27\n"
     ]
    },
    {
     "name": "stderr",
     "output_type": "stream",
     "text": [
      "Auto-assigning NUTS sampler...\n",
      "Initializing NUTS using jitter+adapt_diag...\n",
      "Multiprocess sampling (4 chains in 2 jobs)\n",
      "NUTS: [sig]\n",
      "Sampling 4 chains for 1_000 tune and 1_000 draw iterations (4_000 + 4_000 draws total) took 58 seconds.\n",
      "Sampling: [sig]\n",
      "Multiprocess sampling (4 chains in 2 jobs)\n",
      "Metropolis: [Ncont]\n",
      "Sampling 4 chains for 1_000 tune and 10_000 draw iterations (4_000 + 40_000 draws total) took 42 seconds.\n",
      "Sampling: [Ncont]\n"
     ]
    },
    {
     "name": "stdout",
     "output_type": "stream",
     "text": [
      "Loop 28\n"
     ]
    },
    {
     "name": "stderr",
     "output_type": "stream",
     "text": [
      "Auto-assigning NUTS sampler...\n",
      "Initializing NUTS using jitter+adapt_diag...\n",
      "Multiprocess sampling (4 chains in 2 jobs)\n",
      "NUTS: [sig]\n",
      "Sampling 4 chains for 1_000 tune and 1_000 draw iterations (4_000 + 4_000 draws total) took 37 seconds.\n",
      "Sampling: [sig]\n",
      "Multiprocess sampling (4 chains in 2 jobs)\n",
      "Metropolis: [Ncont]\n",
      "Sampling 4 chains for 1_000 tune and 10_000 draw iterations (4_000 + 40_000 draws total) took 39 seconds.\n",
      "Sampling: [Ncont]\n"
     ]
    },
    {
     "name": "stdout",
     "output_type": "stream",
     "text": [
      "Loop 29\n"
     ]
    },
    {
     "name": "stderr",
     "output_type": "stream",
     "text": [
      "Auto-assigning NUTS sampler...\n",
      "Initializing NUTS using jitter+adapt_diag...\n",
      "Multiprocess sampling (4 chains in 2 jobs)\n",
      "NUTS: [sig]\n",
      "Sampling 4 chains for 1_000 tune and 1_000 draw iterations (4_000 + 4_000 draws total) took 31 seconds.\n",
      "Sampling: [sig]\n",
      "Multiprocess sampling (4 chains in 2 jobs)\n",
      "Metropolis: [Ncont]\n",
      "Sampling 4 chains for 1_000 tune and 10_000 draw iterations (4_000 + 40_000 draws total) took 34 seconds.\n",
      "Sampling: [Ncont]\n",
      "Auto-assigning NUTS sampler...\n",
      "Initializing NUTS using jitter+adapt_diag...\n"
     ]
    },
    {
     "name": "stdout",
     "output_type": "stream",
     "text": [
      "Loop 30\n"
     ]
    },
    {
     "name": "stderr",
     "output_type": "stream",
     "text": [
      "Multiprocess sampling (4 chains in 2 jobs)\n",
      "NUTS: [sig]\n",
      "Sampling 4 chains for 1_000 tune and 1_000 draw iterations (4_000 + 4_000 draws total) took 31 seconds.\n",
      "Sampling: [sig]\n",
      "Multiprocess sampling (4 chains in 2 jobs)\n",
      "Metropolis: [Ncont]\n",
      "Sampling 4 chains for 1_000 tune and 10_000 draw iterations (4_000 + 40_000 draws total) took 35 seconds.\n",
      "Sampling: [Ncont]\n"
     ]
    },
    {
     "name": "stdout",
     "output_type": "stream",
     "text": [
      "Loop 31\n"
     ]
    },
    {
     "name": "stderr",
     "output_type": "stream",
     "text": [
      "Auto-assigning NUTS sampler...\n",
      "Initializing NUTS using jitter+adapt_diag...\n",
      "Multiprocess sampling (4 chains in 2 jobs)\n",
      "NUTS: [sig]\n",
      "Sampling 4 chains for 1_000 tune and 1_000 draw iterations (4_000 + 4_000 draws total) took 29 seconds.\n",
      "Sampling: [sig]\n",
      "Multiprocess sampling (4 chains in 2 jobs)\n",
      "Metropolis: [Ncont]\n",
      "Sampling 4 chains for 1_000 tune and 10_000 draw iterations (4_000 + 40_000 draws total) took 34 seconds.\n",
      "Sampling: [Ncont]\n"
     ]
    },
    {
     "name": "stdout",
     "output_type": "stream",
     "text": [
      "Loop 32\n"
     ]
    },
    {
     "name": "stderr",
     "output_type": "stream",
     "text": [
      "Auto-assigning NUTS sampler...\n",
      "Initializing NUTS using jitter+adapt_diag...\n",
      "Multiprocess sampling (4 chains in 2 jobs)\n",
      "NUTS: [sig]\n",
      "Sampling 4 chains for 1_000 tune and 1_000 draw iterations (4_000 + 4_000 draws total) took 30 seconds.\n",
      "Sampling: [sig]\n",
      "Multiprocess sampling (4 chains in 2 jobs)\n",
      "Metropolis: [Ncont]\n",
      "Sampling 4 chains for 1_000 tune and 10_000 draw iterations (4_000 + 40_000 draws total) took 34 seconds.\n",
      "Sampling: [Ncont]\n",
      "Auto-assigning NUTS sampler...\n",
      "Initializing NUTS using jitter+adapt_diag...\n"
     ]
    },
    {
     "name": "stdout",
     "output_type": "stream",
     "text": [
      "Loop 33\n"
     ]
    },
    {
     "name": "stderr",
     "output_type": "stream",
     "text": [
      "Multiprocess sampling (4 chains in 2 jobs)\n",
      "NUTS: [sig]\n",
      "Sampling 4 chains for 1_000 tune and 1_000 draw iterations (4_000 + 4_000 draws total) took 30 seconds.\n",
      "Sampling: [sig]\n",
      "Multiprocess sampling (4 chains in 2 jobs)\n",
      "Metropolis: [Ncont]\n",
      "Sampling 4 chains for 1_000 tune and 10_000 draw iterations (4_000 + 40_000 draws total) took 36 seconds.\n",
      "Sampling: [Ncont]\n"
     ]
    },
    {
     "name": "stdout",
     "output_type": "stream",
     "text": [
      "Loop 34\n"
     ]
    },
    {
     "name": "stderr",
     "output_type": "stream",
     "text": [
      "Auto-assigning NUTS sampler...\n",
      "Initializing NUTS using jitter+adapt_diag...\n",
      "Multiprocess sampling (4 chains in 2 jobs)\n",
      "NUTS: [sig]\n",
      "Sampling 4 chains for 1_000 tune and 1_000 draw iterations (4_000 + 4_000 draws total) took 31 seconds.\n",
      "Sampling: [sig]\n",
      "Multiprocess sampling (4 chains in 2 jobs)\n",
      "Metropolis: [Ncont]\n",
      "Sampling 4 chains for 1_000 tune and 10_000 draw iterations (4_000 + 40_000 draws total) took 35 seconds.\n",
      "Sampling: [Ncont]\n"
     ]
    },
    {
     "name": "stdout",
     "output_type": "stream",
     "text": [
      "Loop 35\n"
     ]
    },
    {
     "name": "stderr",
     "output_type": "stream",
     "text": [
      "Auto-assigning NUTS sampler...\n",
      "Initializing NUTS using jitter+adapt_diag...\n",
      "Multiprocess sampling (4 chains in 2 jobs)\n",
      "NUTS: [sig]\n",
      "Sampling 4 chains for 1_000 tune and 1_000 draw iterations (4_000 + 4_000 draws total) took 30 seconds.\n",
      "Sampling: [sig]\n",
      "Multiprocess sampling (4 chains in 2 jobs)\n",
      "Metropolis: [Ncont]\n",
      "Sampling 4 chains for 1_000 tune and 10_000 draw iterations (4_000 + 40_000 draws total) took 34 seconds.\n",
      "Sampling: [Ncont]\n",
      "Auto-assigning NUTS sampler...\n",
      "Initializing NUTS using jitter+adapt_diag...\n"
     ]
    },
    {
     "name": "stdout",
     "output_type": "stream",
     "text": [
      "Loop 36\n"
     ]
    },
    {
     "name": "stderr",
     "output_type": "stream",
     "text": [
      "Multiprocess sampling (4 chains in 2 jobs)\n",
      "NUTS: [sig]\n",
      "Sampling 4 chains for 1_000 tune and 1_000 draw iterations (4_000 + 4_000 draws total) took 30 seconds.\n",
      "Sampling: [sig]\n",
      "Multiprocess sampling (4 chains in 2 jobs)\n",
      "Metropolis: [Ncont]\n",
      "Sampling 4 chains for 1_000 tune and 10_000 draw iterations (4_000 + 40_000 draws total) took 35 seconds.\n",
      "Sampling: [Ncont]\n"
     ]
    },
    {
     "name": "stdout",
     "output_type": "stream",
     "text": [
      "Loop 37\n"
     ]
    },
    {
     "name": "stderr",
     "output_type": "stream",
     "text": [
      "Auto-assigning NUTS sampler...\n",
      "Initializing NUTS using jitter+adapt_diag...\n",
      "Multiprocess sampling (4 chains in 2 jobs)\n",
      "NUTS: [sig]\n",
      "Sampling 4 chains for 1_000 tune and 1_000 draw iterations (4_000 + 4_000 draws total) took 30 seconds.\n",
      "Sampling: [sig]\n",
      "Multiprocess sampling (4 chains in 2 jobs)\n",
      "Metropolis: [Ncont]\n",
      "Sampling 4 chains for 1_000 tune and 10_000 draw iterations (4_000 + 40_000 draws total) took 37 seconds.\n",
      "Sampling: [Ncont]\n"
     ]
    },
    {
     "name": "stdout",
     "output_type": "stream",
     "text": [
      "Loop 38\n"
     ]
    },
    {
     "name": "stderr",
     "output_type": "stream",
     "text": [
      "Auto-assigning NUTS sampler...\n",
      "Initializing NUTS using jitter+adapt_diag...\n",
      "Multiprocess sampling (4 chains in 2 jobs)\n",
      "NUTS: [sig]\n",
      "Sampling 4 chains for 1_000 tune and 1_000 draw iterations (4_000 + 4_000 draws total) took 37 seconds.\n",
      "Sampling: [sig]\n",
      "Multiprocess sampling (4 chains in 2 jobs)\n",
      "Metropolis: [Ncont]\n",
      "Sampling 4 chains for 1_000 tune and 10_000 draw iterations (4_000 + 40_000 draws total) took 53 seconds.\n",
      "Sampling: [Ncont]\n"
     ]
    },
    {
     "name": "stdout",
     "output_type": "stream",
     "text": [
      "Loop 39\n"
     ]
    },
    {
     "name": "stderr",
     "output_type": "stream",
     "text": [
      "Auto-assigning NUTS sampler...\n",
      "Initializing NUTS using jitter+adapt_diag...\n",
      "Multiprocess sampling (4 chains in 2 jobs)\n",
      "NUTS: [sig]\n",
      "Sampling 4 chains for 1_000 tune and 1_000 draw iterations (4_000 + 4_000 draws total) took 43 seconds.\n",
      "Sampling: [sig]\n",
      "Multiprocess sampling (4 chains in 2 jobs)\n",
      "Metropolis: [Ncont]\n",
      "Sampling 4 chains for 1_000 tune and 10_000 draw iterations (4_000 + 40_000 draws total) took 37 seconds.\n",
      "Sampling: [Ncont]\n",
      "Auto-assigning NUTS sampler...\n",
      "Initializing NUTS using jitter+adapt_diag...\n"
     ]
    },
    {
     "name": "stdout",
     "output_type": "stream",
     "text": [
      "Loop 40\n"
     ]
    },
    {
     "name": "stderr",
     "output_type": "stream",
     "text": [
      "Multiprocess sampling (4 chains in 2 jobs)\n",
      "NUTS: [sig]\n",
      "Sampling 4 chains for 1_000 tune and 1_000 draw iterations (4_000 + 4_000 draws total) took 30 seconds.\n",
      "Sampling: [sig]\n",
      "Multiprocess sampling (4 chains in 2 jobs)\n",
      "Metropolis: [Ncont]\n",
      "Sampling 4 chains for 1_000 tune and 10_000 draw iterations (4_000 + 40_000 draws total) took 61 seconds.\n",
      "Sampling: [Ncont]\n"
     ]
    },
    {
     "name": "stdout",
     "output_type": "stream",
     "text": [
      "Loop 41\n"
     ]
    },
    {
     "name": "stderr",
     "output_type": "stream",
     "text": [
      "Auto-assigning NUTS sampler...\n",
      "Initializing NUTS using jitter+adapt_diag...\n",
      "Multiprocess sampling (4 chains in 2 jobs)\n",
      "NUTS: [sig]\n",
      "Sampling 4 chains for 1_000 tune and 1_000 draw iterations (4_000 + 4_000 draws total) took 36 seconds.\n",
      "Sampling: [sig]\n",
      "Multiprocess sampling (4 chains in 2 jobs)\n",
      "Metropolis: [Ncont]\n",
      "Sampling 4 chains for 1_000 tune and 10_000 draw iterations (4_000 + 40_000 draws total) took 37 seconds.\n",
      "Sampling: [Ncont]\n"
     ]
    },
    {
     "name": "stdout",
     "output_type": "stream",
     "text": [
      "Loop 42\n"
     ]
    },
    {
     "name": "stderr",
     "output_type": "stream",
     "text": [
      "Auto-assigning NUTS sampler...\n",
      "Initializing NUTS using jitter+adapt_diag...\n",
      "Multiprocess sampling (4 chains in 2 jobs)\n",
      "NUTS: [sig]\n",
      "Sampling 4 chains for 1_000 tune and 1_000 draw iterations (4_000 + 4_000 draws total) took 30 seconds.\n",
      "Sampling: [sig]\n",
      "Multiprocess sampling (4 chains in 2 jobs)\n",
      "Metropolis: [Ncont]\n",
      "Sampling 4 chains for 1_000 tune and 10_000 draw iterations (4_000 + 40_000 draws total) took 37 seconds.\n",
      "Sampling: [Ncont]\n"
     ]
    },
    {
     "name": "stdout",
     "output_type": "stream",
     "text": [
      "Loop 43\n"
     ]
    },
    {
     "name": "stderr",
     "output_type": "stream",
     "text": [
      "Auto-assigning NUTS sampler...\n",
      "Initializing NUTS using jitter+adapt_diag...\n",
      "Multiprocess sampling (4 chains in 2 jobs)\n",
      "NUTS: [sig]\n",
      "Sampling 4 chains for 1_000 tune and 1_000 draw iterations (4_000 + 4_000 draws total) took 30 seconds.\n",
      "Sampling: [sig]\n",
      "Multiprocess sampling (4 chains in 2 jobs)\n",
      "Metropolis: [Ncont]\n",
      "Sampling 4 chains for 1_000 tune and 10_000 draw iterations (4_000 + 40_000 draws total) took 38 seconds.\n",
      "Sampling: [Ncont]\n"
     ]
    },
    {
     "name": "stdout",
     "output_type": "stream",
     "text": [
      "Loop 44\n"
     ]
    },
    {
     "name": "stderr",
     "output_type": "stream",
     "text": [
      "Auto-assigning NUTS sampler...\n",
      "Initializing NUTS using jitter+adapt_diag...\n",
      "Multiprocess sampling (4 chains in 2 jobs)\n",
      "NUTS: [sig]\n",
      "Sampling 4 chains for 1_000 tune and 1_000 draw iterations (4_000 + 4_000 draws total) took 30 seconds.\n",
      "Sampling: [sig]\n",
      "Multiprocess sampling (4 chains in 2 jobs)\n",
      "Metropolis: [Ncont]\n",
      "Sampling 4 chains for 1_000 tune and 10_000 draw iterations (4_000 + 40_000 draws total) took 34 seconds.\n",
      "Sampling: [Ncont]\n"
     ]
    },
    {
     "name": "stdout",
     "output_type": "stream",
     "text": [
      "Loop 45\n"
     ]
    },
    {
     "name": "stderr",
     "output_type": "stream",
     "text": [
      "Auto-assigning NUTS sampler...\n",
      "Initializing NUTS using jitter+adapt_diag...\n",
      "Multiprocess sampling (4 chains in 2 jobs)\n",
      "NUTS: [sig]\n",
      "Sampling 4 chains for 1_000 tune and 1_000 draw iterations (4_000 + 4_000 draws total) took 31 seconds.\n",
      "Sampling: [sig]\n",
      "Multiprocess sampling (4 chains in 2 jobs)\n",
      "Metropolis: [Ncont]\n",
      "Sampling 4 chains for 1_000 tune and 10_000 draw iterations (4_000 + 40_000 draws total) took 35 seconds.\n",
      "Sampling: [Ncont]\n",
      "Auto-assigning NUTS sampler...\n",
      "Initializing NUTS using jitter+adapt_diag...\n"
     ]
    },
    {
     "name": "stdout",
     "output_type": "stream",
     "text": [
      "Loop 46\n"
     ]
    },
    {
     "name": "stderr",
     "output_type": "stream",
     "text": [
      "Multiprocess sampling (4 chains in 2 jobs)\n",
      "NUTS: [sig]\n",
      "Sampling 4 chains for 1_000 tune and 1_000 draw iterations (4_000 + 4_000 draws total) took 31 seconds.\n",
      "Sampling: [sig]\n",
      "Multiprocess sampling (4 chains in 2 jobs)\n",
      "Metropolis: [Ncont]\n",
      "Sampling 4 chains for 1_000 tune and 10_000 draw iterations (4_000 + 40_000 draws total) took 34 seconds.\n",
      "Sampling: [Ncont]\n"
     ]
    },
    {
     "name": "stdout",
     "output_type": "stream",
     "text": [
      "Loop 47\n"
     ]
    },
    {
     "name": "stderr",
     "output_type": "stream",
     "text": [
      "Auto-assigning NUTS sampler...\n",
      "Initializing NUTS using jitter+adapt_diag...\n",
      "Multiprocess sampling (4 chains in 2 jobs)\n",
      "NUTS: [sig]\n",
      "Sampling 4 chains for 1_000 tune and 1_000 draw iterations (4_000 + 4_000 draws total) took 31 seconds.\n",
      "Sampling: [sig]\n",
      "Multiprocess sampling (4 chains in 2 jobs)\n",
      "Metropolis: [Ncont]\n",
      "Sampling 4 chains for 1_000 tune and 10_000 draw iterations (4_000 + 40_000 draws total) took 39 seconds.\n",
      "Sampling: [Ncont]\n",
      "Auto-assigning NUTS sampler...\n",
      "Initializing NUTS using jitter+adapt_diag...\n"
     ]
    },
    {
     "name": "stdout",
     "output_type": "stream",
     "text": [
      "Loop 48\n"
     ]
    },
    {
     "name": "stderr",
     "output_type": "stream",
     "text": [
      "Multiprocess sampling (4 chains in 2 jobs)\n",
      "NUTS: [sig]\n",
      "Sampling 4 chains for 1_000 tune and 1_000 draw iterations (4_000 + 4_000 draws total) took 35 seconds.\n",
      "Sampling: [sig]\n",
      "Multiprocess sampling (4 chains in 2 jobs)\n",
      "Metropolis: [Ncont]\n",
      "Sampling 4 chains for 1_000 tune and 10_000 draw iterations (4_000 + 40_000 draws total) took 41 seconds.\n",
      "Sampling: [Ncont]\n",
      "Auto-assigning NUTS sampler...\n",
      "Initializing NUTS using jitter+adapt_diag...\n"
     ]
    },
    {
     "name": "stdout",
     "output_type": "stream",
     "text": [
      "Loop 49\n"
     ]
    },
    {
     "name": "stderr",
     "output_type": "stream",
     "text": [
      "Multiprocess sampling (4 chains in 2 jobs)\n",
      "NUTS: [sig]\n",
      "Sampling 4 chains for 1_000 tune and 1_000 draw iterations (4_000 + 4_000 draws total) took 44 seconds.\n",
      "Sampling: [sig]\n",
      "Multiprocess sampling (4 chains in 2 jobs)\n",
      "Metropolis: [Ncont]\n",
      "Sampling 4 chains for 1_000 tune and 10_000 draw iterations (4_000 + 40_000 draws total) took 169 seconds.\n",
      "Sampling: [Ncont]\n"
     ]
    },
    {
     "name": "stdout",
     "output_type": "stream",
     "text": [
      "Loop 50\n"
     ]
    },
    {
     "name": "stderr",
     "output_type": "stream",
     "text": [
      "Auto-assigning NUTS sampler...\n",
      "Initializing NUTS using jitter+adapt_diag...\n",
      "Multiprocess sampling (4 chains in 2 jobs)\n",
      "NUTS: [sig]\n",
      "Sampling 4 chains for 1_000 tune and 1_000 draw iterations (4_000 + 4_000 draws total) took 127 seconds.\n",
      "Sampling: [sig]\n",
      "Multiprocess sampling (4 chains in 2 jobs)\n",
      "Metropolis: [Ncont]\n",
      "Sampling 4 chains for 1_000 tune and 10_000 draw iterations (4_000 + 40_000 draws total) took 109 seconds.\n",
      "Sampling: [Ncont]\n"
     ]
    },
    {
     "name": "stdout",
     "output_type": "stream",
     "text": [
      "Loop 51\n"
     ]
    },
    {
     "name": "stderr",
     "output_type": "stream",
     "text": [
      "Auto-assigning NUTS sampler...\n",
      "Initializing NUTS using jitter+adapt_diag...\n",
      "Multiprocess sampling (4 chains in 2 jobs)\n",
      "NUTS: [sig]\n",
      "Sampling 4 chains for 1_000 tune and 1_000 draw iterations (4_000 + 4_000 draws total) took 115 seconds.\n",
      "Sampling: [sig]\n",
      "Multiprocess sampling (4 chains in 2 jobs)\n",
      "Metropolis: [Ncont]\n",
      "Sampling 4 chains for 1_000 tune and 10_000 draw iterations (4_000 + 40_000 draws total) took 123 seconds.\n",
      "Sampling: [Ncont]\n"
     ]
    },
    {
     "name": "stdout",
     "output_type": "stream",
     "text": [
      "Loop 52\n"
     ]
    },
    {
     "name": "stderr",
     "output_type": "stream",
     "text": [
      "Auto-assigning NUTS sampler...\n",
      "Initializing NUTS using jitter+adapt_diag...\n",
      "Multiprocess sampling (4 chains in 2 jobs)\n",
      "NUTS: [sig]\n",
      "Sampling 4 chains for 1_000 tune and 1_000 draw iterations (4_000 + 4_000 draws total) took 111 seconds.\n",
      "Sampling: [sig]\n",
      "Multiprocess sampling (4 chains in 2 jobs)\n",
      "Metropolis: [Ncont]\n",
      "Sampling 4 chains for 1_000 tune and 10_000 draw iterations (4_000 + 40_000 draws total) took 130 seconds.\n",
      "Sampling: [Ncont]\n"
     ]
    },
    {
     "name": "stdout",
     "output_type": "stream",
     "text": [
      "Loop 53\n"
     ]
    },
    {
     "name": "stderr",
     "output_type": "stream",
     "text": [
      "Auto-assigning NUTS sampler...\n",
      "Initializing NUTS using jitter+adapt_diag...\n",
      "Multiprocess sampling (4 chains in 2 jobs)\n",
      "NUTS: [sig]\n",
      "Sampling 4 chains for 1_000 tune and 1_000 draw iterations (4_000 + 4_000 draws total) took 112 seconds.\n",
      "Sampling: [sig]\n",
      "Multiprocess sampling (4 chains in 2 jobs)\n",
      "Metropolis: [Ncont]\n",
      "Sampling 4 chains for 1_000 tune and 10_000 draw iterations (4_000 + 40_000 draws total) took 252 seconds.\n",
      "Sampling: [Ncont]\n"
     ]
    },
    {
     "name": "stdout",
     "output_type": "stream",
     "text": [
      "Loop 54\n"
     ]
    },
    {
     "name": "stderr",
     "output_type": "stream",
     "text": [
      "Auto-assigning NUTS sampler...\n",
      "Initializing NUTS using jitter+adapt_diag...\n",
      "Multiprocess sampling (4 chains in 2 jobs)\n",
      "NUTS: [sig]\n",
      "Sampling 4 chains for 1_000 tune and 1_000 draw iterations (4_000 + 4_000 draws total) took 49 seconds.\n",
      "Sampling: [sig]\n",
      "Multiprocess sampling (4 chains in 2 jobs)\n",
      "Metropolis: [Ncont]\n",
      "Sampling 4 chains for 1_000 tune and 10_000 draw iterations (4_000 + 40_000 draws total) took 62 seconds.\n",
      "Sampling: [Ncont]\n"
     ]
    },
    {
     "name": "stdout",
     "output_type": "stream",
     "text": [
      "Loop 55\n"
     ]
    },
    {
     "name": "stderr",
     "output_type": "stream",
     "text": [
      "Auto-assigning NUTS sampler...\n",
      "Initializing NUTS using jitter+adapt_diag...\n",
      "Multiprocess sampling (4 chains in 2 jobs)\n",
      "NUTS: [sig]\n",
      "Sampling 4 chains for 1_000 tune and 1_000 draw iterations (4_000 + 4_000 draws total) took 53 seconds.\n",
      "Sampling: [sig]\n",
      "Multiprocess sampling (4 chains in 2 jobs)\n",
      "Metropolis: [Ncont]\n",
      "Sampling 4 chains for 1_000 tune and 10_000 draw iterations (4_000 + 40_000 draws total) took 60 seconds.\n",
      "Sampling: [Ncont]\n"
     ]
    },
    {
     "name": "stdout",
     "output_type": "stream",
     "text": [
      "Loop 56\n"
     ]
    },
    {
     "name": "stderr",
     "output_type": "stream",
     "text": [
      "Auto-assigning NUTS sampler...\n",
      "Initializing NUTS using jitter+adapt_diag...\n",
      "Multiprocess sampling (4 chains in 2 jobs)\n",
      "NUTS: [sig]\n",
      "Sampling 4 chains for 1_000 tune and 1_000 draw iterations (4_000 + 4_000 draws total) took 51 seconds.\n",
      "Sampling: [sig]\n",
      "Multiprocess sampling (4 chains in 2 jobs)\n",
      "Metropolis: [Ncont]\n",
      "Sampling 4 chains for 1_000 tune and 10_000 draw iterations (4_000 + 40_000 draws total) took 55 seconds.\n",
      "Sampling: [Ncont]\n"
     ]
    },
    {
     "name": "stdout",
     "output_type": "stream",
     "text": [
      "Loop 57\n"
     ]
    },
    {
     "name": "stderr",
     "output_type": "stream",
     "text": [
      "Auto-assigning NUTS sampler...\n",
      "Initializing NUTS using jitter+adapt_diag...\n",
      "Multiprocess sampling (4 chains in 2 jobs)\n",
      "NUTS: [sig]\n",
      "Sampling 4 chains for 1_000 tune and 1_000 draw iterations (4_000 + 4_000 draws total) took 48 seconds.\n",
      "Sampling: [sig]\n",
      "Multiprocess sampling (4 chains in 2 jobs)\n",
      "Metropolis: [Ncont]\n",
      "Sampling 4 chains for 1_000 tune and 10_000 draw iterations (4_000 + 40_000 draws total) took 54 seconds.\n",
      "Sampling: [Ncont]\n"
     ]
    },
    {
     "name": "stdout",
     "output_type": "stream",
     "text": [
      "Loop 58\n"
     ]
    },
    {
     "name": "stderr",
     "output_type": "stream",
     "text": [
      "Auto-assigning NUTS sampler...\n",
      "Initializing NUTS using jitter+adapt_diag...\n",
      "Multiprocess sampling (4 chains in 2 jobs)\n",
      "NUTS: [sig]\n",
      "Sampling 4 chains for 1_000 tune and 1_000 draw iterations (4_000 + 4_000 draws total) took 48 seconds.\n",
      "Sampling: [sig]\n",
      "Multiprocess sampling (4 chains in 2 jobs)\n",
      "Metropolis: [Ncont]\n",
      "Sampling 4 chains for 1_000 tune and 10_000 draw iterations (4_000 + 40_000 draws total) took 52 seconds.\n",
      "Sampling: [Ncont]\n"
     ]
    },
    {
     "name": "stdout",
     "output_type": "stream",
     "text": [
      "Loop 59\n"
     ]
    },
    {
     "name": "stderr",
     "output_type": "stream",
     "text": [
      "Auto-assigning NUTS sampler...\n",
      "Initializing NUTS using jitter+adapt_diag...\n",
      "Multiprocess sampling (4 chains in 2 jobs)\n",
      "NUTS: [sig]\n",
      "Sampling 4 chains for 1_000 tune and 1_000 draw iterations (4_000 + 4_000 draws total) took 44 seconds.\n",
      "Sampling: [sig]\n",
      "Multiprocess sampling (4 chains in 2 jobs)\n",
      "Metropolis: [Ncont]\n",
      "Sampling 4 chains for 1_000 tune and 10_000 draw iterations (4_000 + 40_000 draws total) took 49 seconds.\n",
      "Sampling: [Ncont]\n"
     ]
    },
    {
     "name": "stdout",
     "output_type": "stream",
     "text": [
      "Loop 60\n"
     ]
    },
    {
     "name": "stderr",
     "output_type": "stream",
     "text": [
      "Auto-assigning NUTS sampler...\n",
      "Initializing NUTS using jitter+adapt_diag...\n",
      "Multiprocess sampling (4 chains in 2 jobs)\n",
      "NUTS: [sig]\n",
      "Sampling 4 chains for 1_000 tune and 1_000 draw iterations (4_000 + 4_000 draws total) took 46 seconds.\n",
      "Sampling: [sig]\n",
      "Multiprocess sampling (4 chains in 2 jobs)\n",
      "Metropolis: [Ncont]\n",
      "Sampling 4 chains for 1_000 tune and 10_000 draw iterations (4_000 + 40_000 draws total) took 49 seconds.\n",
      "Sampling: [Ncont]\n"
     ]
    },
    {
     "name": "stdout",
     "output_type": "stream",
     "text": [
      "Loop 61\n"
     ]
    },
    {
     "name": "stderr",
     "output_type": "stream",
     "text": [
      "Auto-assigning NUTS sampler...\n",
      "Initializing NUTS using jitter+adapt_diag...\n",
      "Multiprocess sampling (4 chains in 2 jobs)\n",
      "NUTS: [sig]\n",
      "Sampling 4 chains for 1_000 tune and 1_000 draw iterations (4_000 + 4_000 draws total) took 44 seconds.\n",
      "Sampling: [sig]\n",
      "Multiprocess sampling (4 chains in 2 jobs)\n",
      "Metropolis: [Ncont]\n",
      "Sampling 4 chains for 1_000 tune and 10_000 draw iterations (4_000 + 40_000 draws total) took 48 seconds.\n",
      "Sampling: [Ncont]\n"
     ]
    },
    {
     "name": "stdout",
     "output_type": "stream",
     "text": [
      "Loop 62\n"
     ]
    },
    {
     "name": "stderr",
     "output_type": "stream",
     "text": [
      "Auto-assigning NUTS sampler...\n",
      "Initializing NUTS using jitter+adapt_diag...\n",
      "Multiprocess sampling (4 chains in 2 jobs)\n",
      "NUTS: [sig]\n",
      "Sampling 4 chains for 1_000 tune and 1_000 draw iterations (4_000 + 4_000 draws total) took 39 seconds.\n",
      "Sampling: [sig]\n",
      "Multiprocess sampling (4 chains in 2 jobs)\n",
      "Metropolis: [Ncont]\n",
      "Sampling 4 chains for 1_000 tune and 10_000 draw iterations (4_000 + 40_000 draws total) took 50 seconds.\n",
      "Sampling: [Ncont]\n"
     ]
    },
    {
     "name": "stdout",
     "output_type": "stream",
     "text": [
      "Loop 63\n"
     ]
    },
    {
     "name": "stderr",
     "output_type": "stream",
     "text": [
      "Auto-assigning NUTS sampler...\n",
      "Initializing NUTS using jitter+adapt_diag...\n",
      "Multiprocess sampling (4 chains in 2 jobs)\n",
      "NUTS: [sig]\n",
      "Sampling 4 chains for 1_000 tune and 1_000 draw iterations (4_000 + 4_000 draws total) took 44 seconds.\n",
      "Sampling: [sig]\n",
      "Multiprocess sampling (4 chains in 2 jobs)\n",
      "Metropolis: [Ncont]\n",
      "Sampling 4 chains for 1_000 tune and 10_000 draw iterations (4_000 + 40_000 draws total) took 56 seconds.\n",
      "Sampling: [Ncont]\n"
     ]
    },
    {
     "name": "stdout",
     "output_type": "stream",
     "text": [
      "Loop 64\n"
     ]
    },
    {
     "name": "stderr",
     "output_type": "stream",
     "text": [
      "Auto-assigning NUTS sampler...\n",
      "Initializing NUTS using jitter+adapt_diag...\n",
      "Multiprocess sampling (4 chains in 2 jobs)\n",
      "NUTS: [sig]\n",
      "Sampling 4 chains for 1_000 tune and 1_000 draw iterations (4_000 + 4_000 draws total) took 47 seconds.\n",
      "Sampling: [sig]\n",
      "Multiprocess sampling (4 chains in 2 jobs)\n",
      "Metropolis: [Ncont]\n",
      "Sampling 4 chains for 1_000 tune and 10_000 draw iterations (4_000 + 40_000 draws total) took 55 seconds.\n",
      "Sampling: [Ncont]\n"
     ]
    },
    {
     "name": "stdout",
     "output_type": "stream",
     "text": [
      "Loop 65\n"
     ]
    },
    {
     "name": "stderr",
     "output_type": "stream",
     "text": [
      "Auto-assigning NUTS sampler...\n",
      "Initializing NUTS using jitter+adapt_diag...\n",
      "Multiprocess sampling (4 chains in 2 jobs)\n",
      "NUTS: [sig]\n",
      "Sampling 4 chains for 1_000 tune and 1_000 draw iterations (4_000 + 4_000 draws total) took 47 seconds.\n",
      "Sampling: [sig]\n",
      "Multiprocess sampling (4 chains in 2 jobs)\n",
      "Metropolis: [Ncont]\n",
      "Sampling 4 chains for 1_000 tune and 10_000 draw iterations (4_000 + 40_000 draws total) took 52 seconds.\n",
      "Sampling: [Ncont]\n"
     ]
    },
    {
     "name": "stdout",
     "output_type": "stream",
     "text": [
      "Loop 66\n"
     ]
    },
    {
     "name": "stderr",
     "output_type": "stream",
     "text": [
      "Auto-assigning NUTS sampler...\n",
      "Initializing NUTS using jitter+adapt_diag...\n",
      "Multiprocess sampling (4 chains in 2 jobs)\n",
      "NUTS: [sig]\n",
      "Sampling 4 chains for 1_000 tune and 1_000 draw iterations (4_000 + 4_000 draws total) took 44 seconds.\n",
      "Sampling: [sig]\n",
      "Multiprocess sampling (4 chains in 2 jobs)\n",
      "Metropolis: [Ncont]\n",
      "Sampling 4 chains for 1_000 tune and 10_000 draw iterations (4_000 + 40_000 draws total) took 51 seconds.\n",
      "Sampling: [Ncont]\n"
     ]
    },
    {
     "name": "stdout",
     "output_type": "stream",
     "text": [
      "Loop 67\n"
     ]
    },
    {
     "name": "stderr",
     "output_type": "stream",
     "text": [
      "Auto-assigning NUTS sampler...\n",
      "Initializing NUTS using jitter+adapt_diag...\n",
      "Multiprocess sampling (4 chains in 2 jobs)\n",
      "NUTS: [sig]\n",
      "Sampling 4 chains for 1_000 tune and 1_000 draw iterations (4_000 + 4_000 draws total) took 44 seconds.\n",
      "Sampling: [sig]\n",
      "Multiprocess sampling (4 chains in 2 jobs)\n",
      "Metropolis: [Ncont]\n",
      "Sampling 4 chains for 1_000 tune and 10_000 draw iterations (4_000 + 40_000 draws total) took 84 seconds.\n",
      "Sampling: [Ncont]\n"
     ]
    },
    {
     "name": "stdout",
     "output_type": "stream",
     "text": [
      "Loop 68\n"
     ]
    },
    {
     "name": "stderr",
     "output_type": "stream",
     "text": [
      "Auto-assigning NUTS sampler...\n",
      "Initializing NUTS using jitter+adapt_diag...\n",
      "Multiprocess sampling (4 chains in 2 jobs)\n",
      "NUTS: [sig]\n",
      "Sampling 4 chains for 1_000 tune and 1_000 draw iterations (4_000 + 4_000 draws total) took 47 seconds.\n",
      "Sampling: [sig]\n",
      "Multiprocess sampling (4 chains in 2 jobs)\n",
      "Metropolis: [Ncont]\n",
      "Sampling 4 chains for 1_000 tune and 10_000 draw iterations (4_000 + 40_000 draws total) took 48 seconds.\n",
      "Sampling: [Ncont]\n"
     ]
    },
    {
     "name": "stdout",
     "output_type": "stream",
     "text": [
      "Loop 69\n"
     ]
    },
    {
     "name": "stderr",
     "output_type": "stream",
     "text": [
      "Auto-assigning NUTS sampler...\n",
      "Initializing NUTS using jitter+adapt_diag...\n",
      "Multiprocess sampling (4 chains in 2 jobs)\n",
      "NUTS: [sig]\n",
      "Sampling 4 chains for 1_000 tune and 1_000 draw iterations (4_000 + 4_000 draws total) took 44 seconds.\n",
      "Sampling: [sig]\n",
      "Multiprocess sampling (4 chains in 2 jobs)\n",
      "Metropolis: [Ncont]\n",
      "Sampling 4 chains for 1_000 tune and 10_000 draw iterations (4_000 + 40_000 draws total) took 49 seconds.\n",
      "Sampling: [Ncont]\n"
     ]
    },
    {
     "name": "stdout",
     "output_type": "stream",
     "text": [
      "Loop 70\n"
     ]
    },
    {
     "name": "stderr",
     "output_type": "stream",
     "text": [
      "Auto-assigning NUTS sampler...\n",
      "Initializing NUTS using jitter+adapt_diag...\n",
      "Multiprocess sampling (4 chains in 2 jobs)\n",
      "NUTS: [sig]\n",
      "Sampling 4 chains for 1_000 tune and 1_000 draw iterations (4_000 + 4_000 draws total) took 42 seconds.\n",
      "Sampling: [sig]\n",
      "Multiprocess sampling (4 chains in 2 jobs)\n",
      "Metropolis: [Ncont]\n",
      "Sampling 4 chains for 1_000 tune and 10_000 draw iterations (4_000 + 40_000 draws total) took 50 seconds.\n",
      "Sampling: [Ncont]\n"
     ]
    },
    {
     "name": "stdout",
     "output_type": "stream",
     "text": [
      "Loop 71\n"
     ]
    },
    {
     "name": "stderr",
     "output_type": "stream",
     "text": [
      "Auto-assigning NUTS sampler...\n",
      "Initializing NUTS using jitter+adapt_diag...\n",
      "Multiprocess sampling (4 chains in 2 jobs)\n",
      "NUTS: [sig]\n",
      "Sampling 4 chains for 1_000 tune and 1_000 draw iterations (4_000 + 4_000 draws total) took 46 seconds.\n",
      "Sampling: [sig]\n",
      "Multiprocess sampling (4 chains in 2 jobs)\n",
      "Metropolis: [Ncont]\n",
      "Sampling 4 chains for 1_000 tune and 10_000 draw iterations (4_000 + 40_000 draws total) took 48 seconds.\n",
      "Sampling: [Ncont]\n"
     ]
    },
    {
     "name": "stdout",
     "output_type": "stream",
     "text": [
      "Loop 72\n"
     ]
    },
    {
     "name": "stderr",
     "output_type": "stream",
     "text": [
      "Auto-assigning NUTS sampler...\n",
      "Initializing NUTS using jitter+adapt_diag...\n",
      "Multiprocess sampling (4 chains in 2 jobs)\n",
      "NUTS: [sig]\n",
      "Sampling 4 chains for 1_000 tune and 1_000 draw iterations (4_000 + 4_000 draws total) took 43 seconds.\n",
      "Sampling: [sig]\n",
      "Multiprocess sampling (4 chains in 2 jobs)\n",
      "Metropolis: [Ncont]\n",
      "Sampling 4 chains for 1_000 tune and 10_000 draw iterations (4_000 + 40_000 draws total) took 40 seconds.\n",
      "Sampling: [Ncont]\n",
      "Auto-assigning NUTS sampler...\n",
      "Initializing NUTS using jitter+adapt_diag...\n"
     ]
    },
    {
     "name": "stdout",
     "output_type": "stream",
     "text": [
      "Loop 73\n"
     ]
    },
    {
     "name": "stderr",
     "output_type": "stream",
     "text": [
      "Multiprocess sampling (4 chains in 2 jobs)\n",
      "NUTS: [sig]\n",
      "Sampling 4 chains for 1_000 tune and 1_000 draw iterations (4_000 + 4_000 draws total) took 32 seconds.\n",
      "Sampling: [sig]\n",
      "Multiprocess sampling (4 chains in 2 jobs)\n",
      "Metropolis: [Ncont]\n",
      "Sampling 4 chains for 1_000 tune and 10_000 draw iterations (4_000 + 40_000 draws total) took 37 seconds.\n",
      "Sampling: [Ncont]\n"
     ]
    },
    {
     "name": "stdout",
     "output_type": "stream",
     "text": [
      "Loop 74\n"
     ]
    },
    {
     "name": "stderr",
     "output_type": "stream",
     "text": [
      "Auto-assigning NUTS sampler...\n",
      "Initializing NUTS using jitter+adapt_diag...\n",
      "Multiprocess sampling (4 chains in 2 jobs)\n",
      "NUTS: [sig]\n",
      "Sampling 4 chains for 1_000 tune and 1_000 draw iterations (4_000 + 4_000 draws total) took 33 seconds.\n",
      "Sampling: [sig]\n",
      "Multiprocess sampling (4 chains in 2 jobs)\n",
      "Metropolis: [Ncont]\n",
      "Sampling 4 chains for 1_000 tune and 10_000 draw iterations (4_000 + 40_000 draws total) took 39 seconds.\n",
      "Sampling: [Ncont]\n"
     ]
    },
    {
     "name": "stdout",
     "output_type": "stream",
     "text": [
      "Loop 75\n"
     ]
    },
    {
     "name": "stderr",
     "output_type": "stream",
     "text": [
      "Auto-assigning NUTS sampler...\n",
      "Initializing NUTS using jitter+adapt_diag...\n",
      "Multiprocess sampling (4 chains in 2 jobs)\n",
      "NUTS: [sig]\n",
      "Sampling 4 chains for 1_000 tune and 1_000 draw iterations (4_000 + 4_000 draws total) took 33 seconds.\n",
      "Sampling: [sig]\n",
      "Multiprocess sampling (4 chains in 2 jobs)\n",
      "Metropolis: [Ncont]\n",
      "Sampling 4 chains for 1_000 tune and 10_000 draw iterations (4_000 + 40_000 draws total) took 38 seconds.\n",
      "Sampling: [Ncont]\n"
     ]
    },
    {
     "name": "stdout",
     "output_type": "stream",
     "text": [
      "Loop 76\n"
     ]
    },
    {
     "name": "stderr",
     "output_type": "stream",
     "text": [
      "Auto-assigning NUTS sampler...\n",
      "Initializing NUTS using jitter+adapt_diag...\n",
      "Multiprocess sampling (4 chains in 2 jobs)\n",
      "NUTS: [sig]\n",
      "Sampling 4 chains for 1_000 tune and 1_000 draw iterations (4_000 + 4_000 draws total) took 33 seconds.\n",
      "Sampling: [sig]\n",
      "Multiprocess sampling (4 chains in 2 jobs)\n",
      "Metropolis: [Ncont]\n",
      "Sampling 4 chains for 1_000 tune and 10_000 draw iterations (4_000 + 40_000 draws total) took 36 seconds.\n",
      "Sampling: [Ncont]\n"
     ]
    },
    {
     "name": "stdout",
     "output_type": "stream",
     "text": [
      "Loop 77\n"
     ]
    },
    {
     "name": "stderr",
     "output_type": "stream",
     "text": [
      "Auto-assigning NUTS sampler...\n",
      "Initializing NUTS using jitter+adapt_diag...\n",
      "Multiprocess sampling (4 chains in 2 jobs)\n",
      "NUTS: [sig]\n",
      "Sampling 4 chains for 1_000 tune and 1_000 draw iterations (4_000 + 4_000 draws total) took 32 seconds.\n",
      "Sampling: [sig]\n",
      "Multiprocess sampling (4 chains in 2 jobs)\n",
      "Metropolis: [Ncont]\n",
      "Sampling 4 chains for 1_000 tune and 10_000 draw iterations (4_000 + 40_000 draws total) took 38 seconds.\n",
      "Sampling: [Ncont]\n"
     ]
    },
    {
     "name": "stdout",
     "output_type": "stream",
     "text": [
      "Loop 78\n"
     ]
    },
    {
     "name": "stderr",
     "output_type": "stream",
     "text": [
      "Auto-assigning NUTS sampler...\n",
      "Initializing NUTS using jitter+adapt_diag...\n",
      "Multiprocess sampling (4 chains in 2 jobs)\n",
      "NUTS: [sig]\n",
      "Sampling 4 chains for 1_000 tune and 1_000 draw iterations (4_000 + 4_000 draws total) took 38 seconds.\n",
      "Sampling: [sig]\n",
      "Multiprocess sampling (4 chains in 2 jobs)\n",
      "Metropolis: [Ncont]\n",
      "Sampling 4 chains for 1_000 tune and 10_000 draw iterations (4_000 + 40_000 draws total) took 36 seconds.\n",
      "Sampling: [Ncont]\n"
     ]
    },
    {
     "name": "stdout",
     "output_type": "stream",
     "text": [
      "Loop 79\n"
     ]
    },
    {
     "name": "stderr",
     "output_type": "stream",
     "text": [
      "Auto-assigning NUTS sampler...\n",
      "Initializing NUTS using jitter+adapt_diag...\n",
      "Multiprocess sampling (4 chains in 2 jobs)\n",
      "NUTS: [sig]\n",
      "Sampling 4 chains for 1_000 tune and 1_000 draw iterations (4_000 + 4_000 draws total) took 31 seconds.\n",
      "Sampling: [sig]\n",
      "Multiprocess sampling (4 chains in 2 jobs)\n",
      "Metropolis: [Ncont]\n",
      "Sampling 4 chains for 1_000 tune and 10_000 draw iterations (4_000 + 40_000 draws total) took 37 seconds.\n",
      "Sampling: [Ncont]\n"
     ]
    },
    {
     "name": "stdout",
     "output_type": "stream",
     "text": [
      "Loop 80\n"
     ]
    },
    {
     "name": "stderr",
     "output_type": "stream",
     "text": [
      "Auto-assigning NUTS sampler...\n",
      "Initializing NUTS using jitter+adapt_diag...\n",
      "Multiprocess sampling (4 chains in 2 jobs)\n",
      "NUTS: [sig]\n",
      "Sampling 4 chains for 1_000 tune and 1_000 draw iterations (4_000 + 4_000 draws total) took 31 seconds.\n",
      "Sampling: [sig]\n",
      "Multiprocess sampling (4 chains in 2 jobs)\n",
      "Metropolis: [Ncont]\n",
      "Sampling 4 chains for 1_000 tune and 10_000 draw iterations (4_000 + 40_000 draws total) took 36 seconds.\n",
      "Sampling: [Ncont]\n"
     ]
    }
   ],
   "source": [
    "t1 = time.time()\n",
    "#looping 10,000 times\n",
    "for i in range(81):\n",
    "    print('Loop '+str(i))\n",
    "    SEED = np.random.randint(100000)\n",
    "    SAMPLE_KWARGS = {\"chains\": 4, \"tune\": 1000, \"draws\":1000,\n",
    "                     \"random_seed\": [SEED, SEED + 1, SEED + 2, SEED + 3]}\n",
    "    with pm.Model() as P_siglos:\n",
    "        y_obs = pm.Gamma('sig', alpha=855+1, beta=O_cont)\n",
    "        sig_trace = pm.sample(**SAMPLE_KWARGS, progressbar=False)\n",
    "        sig_forecast = pm.sample_posterior_predictive(sig_trace, var_names=['sig'], progressbar=False)\n",
    "\n",
    "    sig_       = sig_forecast.posterior_predictive['sig'].data.flatten()\n",
    "    chosen_sig = random.choice(sig_)\n",
    "    chosen_sigs = np.append(chosen_sigs, chosen_sig)\n",
    "\n",
    "    SEED = np.random.randint(100000)\n",
    "    arr_seeds = np.append(arr_seeds, SEED)\n",
    "\n",
    "    SAMPLE_KWARGS = {\"chains\": 4, \"tune\": 1000, \"draws\":10000,\n",
    "                     \"random_seed\": [SEED, SEED + 1, SEED + 2, SEED + 3]}\n",
    "\n",
    "    with pm.Model() as P_Ncont:\n",
    "        y_obs          = pm.Poisson('Ncont', mu=chosen_sig*O_comp)\n",
    "        Ncont_trace    = pm.sample(**SAMPLE_KWARGS, progressbar=False)\n",
    "        Ncont_forecast = pm.sample_posterior_predictive(Ncont_trace, var_names=['Ncont'], progressbar=False)\n",
    "        \n",
    "    N_ = Ncont_forecast.posterior_predictive['Ncont'].data.flatten()\n",
    "    for k in range(1000):\n",
    "        chosen_N  = random.choice(N_)\n",
    "        chosen_Ns = np.append(chosen_Ns, chosen_N)\n",
    "\n",
    "        f_j = np.array([])\n",
    "        j = 0\n",
    "        while j < chosen_N:\n",
    "            ran_dec   = np.random.randint(100000)/100000\n",
    "            j_dm_     = inv_delm(ran_dec, a, b, c)\n",
    "            if (j_dm_ > 7.)|(j_dm_ < 0):\n",
    "                continue\n",
    "            else:\n",
    "                j_r_      = inv_P_r(ran_dec)\n",
    "                j_dm, j_r = int(np.round(j_dm_, 1)*10), int(np.round(j_r_/10))\n",
    "                f_j       = np.append(f_j, frac_mtx[j_dm,j_r])\n",
    "                j += 1\n",
    "        N_cont_det = np.append(N_cont_det, np.sum(f_j)/chosen_N)\n",
    "t2 = time.time()        "
   ]
  },
  {
   "cell_type": "code",
   "execution_count": 44,
   "id": "0c3d09ab",
   "metadata": {},
   "outputs": [
    {
     "data": {
      "text/plain": [
       "500"
      ]
     },
     "execution_count": 44,
     "metadata": {},
     "output_type": "execute_result"
    }
   ],
   "source": [
    "len(chosen_Ns)"
   ]
  },
  {
   "cell_type": "code",
   "execution_count": 55,
   "id": "baf5c4ad",
   "metadata": {
    "scrolled": false
   },
   "outputs": [
    {
     "data": {
      "text/plain": [
       "Text(0.5, 0, '$N_{comp} = N_{cand} - N_{cont}^{det}$')"
      ]
     },
     "execution_count": 55,
     "metadata": {},
     "output_type": "execute_result"
    },
    {
     "data": {
      "image/png": "[encoded data removed]",
      "text/plain": [
       "<Figure size 640x480 with 1 Axes>"
      ]
     },
     "metadata": {},
     "output_type": "display_data"
    }
   ],
   "source": [
    "#with 100 sigmas and 5 N_los chosen\n",
    "plt.subplots()\n",
    "plt.hist(1-chosen_Ns*N_cont_det, bins=np.arange(-7, 7, 1), density=True)\n",
    "plt.xlabel('$N_{comp} = N_{cand} - N_{cont}^{det}$')\n",
    "#plt.xlabel('Fraction of Detection')"
   ]
  },
  {
   "cell_type": "code",
   "execution_count": 57,
   "id": "d9e3eaff",
   "metadata": {
    "scrolled": false
   },
   "outputs": [
    {
     "data": {
      "text/plain": [
       "(array([  2.,   0.,   2.,   2.,  15.,   5.,  14.,  17.,  38., 296.]),\n",
       " array([0.83242002, 0.84914086, 0.86586171, 0.88258255, 0.89930339,\n",
       "        0.91602423, 0.93274507, 0.94946592, 0.96618676, 0.9829076 ,\n",
       "        0.99962844]),\n",
       " <BarContainer object of 10 artists>)"
      ]
     },
     "execution_count": 57,
     "metadata": {},
     "output_type": "execute_result"
    },
    {
     "data": {
      "image/png": "[encoded data removed]",
      "text/plain": [
       "<Figure size 640x480 with 1 Axes>"
      ]
     },
     "metadata": {},
     "output_type": "display_data"
    }
   ],
   "source": [
    "#with 100 sigmas and 5 N_los chosen\n",
    "plt.subplots()\n",
    "plt.hist(N_cont_det)#, bins=np.arange(25, 75, 1), density=True)\n",
    "#plt.xlabel('$N_{comp} = N_{cand} - N_{cont}^{det}$')\n",
    "#plt.xlabel('Fraction of Detection')"
   ]
  },
  {
   "cell_type": "markdown",
   "id": "dcf333ae",
   "metadata": {},
   "source": [
    "-----"
   ]
  },
  {
   "cell_type": "markdown",
   "id": "2826bf74",
   "metadata": {},
   "source": [
    "Test scripts are below"
   ]
  },
  {
   "cell_type": "code",
   "execution_count": 128,
   "id": "6d83f3d3",
   "metadata": {},
   "outputs": [],
   "source": [
    "def P_sig(sig, O_cont, N_cont):\n",
    "    return pm.(sig*O_cont)**N_cont * np.exp(-sig*O_cont) / scipy.special.factorial(N_cont)"
   ]
  },
  {
   "cell_type": "code",
   "execution_count": 86,
   "id": "18cb7a58",
   "metadata": {},
   "outputs": [],
   "source": [
    "N_cand = 92\n",
    "r1, r2 = 100, 1000\n",
    "r3, r4 = 2000, 5000\n",
    "O_cont = np.pi*(r4**2 - r3**2)\n",
    "N_cont_ = N_cont_arr\n",
    "sig_los = N_cont_arr/O_cont * np.pi * (r2**2 - r1**2)"
   ]
  },
  {
   "cell_type": "markdown",
   "id": "a66aa8f3",
   "metadata": {},
   "source": [
    "*Note: missng constant = (N_cont+1)/O_cont*"
   ]
  },
  {
   "cell_type": "code",
   "execution_count": null,
   "id": "50c05d33",
   "metadata": {},
   "outputs": [],
   "source": []
  },
  {
   "cell_type": "code",
   "execution_count": 182,
   "id": "518782da",
   "metadata": {},
   "outputs": [
    {
     "name": "stderr",
     "output_type": "stream",
     "text": [
      "Auto-assigning NUTS sampler...\n",
      "Initializing NUTS using jitter+adapt_diag...\n",
      "Multiprocess sampling (4 chains in 2 jobs)\n",
      "NUTS: [sig]\n"
     ]
    },
    {
     "data": {
      "text/html": [
       "\n",
       "<style>\n",
       "    /* Turns off some styling */\n",
       "    progress {\n",
       "        /* gets rid of default border in Firefox and Opera. */\n",
       "        border: none;\n",
       "        /* Needs to be in here for Safari polyfill so background images work as expected. */\n",
       "        background-size: auto;\n",
       "    }\n",
       "    progress:not([value]), progress:not([value])::-webkit-progress-bar {\n",
       "        background: repeating-linear-gradient(45deg, #7e7e7e, #7e7e7e 10px, #5c5c5c 10px, #5c5c5c 20px);\n",
       "    }\n",
       "    .progress-bar-interrupted, .progress-bar-interrupted::-webkit-progress-bar {\n",
       "        background: #F44336;\n",
       "    }\n",
       "</style>\n"
      ],
      "text/plain": [
       "<IPython.core.display.HTML object>"
      ]
     },
     "metadata": {},
     "output_type": "display_data"
    },
    {
     "data": {
      "text/html": [
       "\n",
       "    <div>\n",
       "      <progress value='8000' class='' max='8000' style='width:300px; height:20px; vertical-align: middle;'></progress>\n",
       "      100.00% [8000/8000 00:06&lt;00:00 Sampling 4 chains, 0 divergences]\n",
       "    </div>\n",
       "    "
      ],
      "text/plain": [
       "<IPython.core.display.HTML object>"
      ]
     },
     "metadata": {},
     "output_type": "display_data"
    },
    {
     "name": "stderr",
     "output_type": "stream",
     "text": [
      "Sampling 4 chains for 1_000 tune and 1_000 draw iterations (4_000 + 4_000 draws total) took 35 seconds.\n",
      "Sampling: [sig]\n"
     ]
    },
    {
     "data": {
      "text/html": [
       "\n",
       "<style>\n",
       "    /* Turns off some styling */\n",
       "    progress {\n",
       "        /* gets rid of default border in Firefox and Opera. */\n",
       "        border: none;\n",
       "        /* Needs to be in here for Safari polyfill so background images work as expected. */\n",
       "        background-size: auto;\n",
       "    }\n",
       "    progress:not([value]), progress:not([value])::-webkit-progress-bar {\n",
       "        background: repeating-linear-gradient(45deg, #7e7e7e, #7e7e7e 10px, #5c5c5c 10px, #5c5c5c 20px);\n",
       "    }\n",
       "    .progress-bar-interrupted, .progress-bar-interrupted::-webkit-progress-bar {\n",
       "        background: #F44336;\n",
       "    }\n",
       "</style>\n"
      ],
      "text/plain": [
       "<IPython.core.display.HTML object>"
      ]
     },
     "metadata": {},
     "output_type": "display_data"
    },
    {
     "data": {
      "text/html": [
       "\n",
       "    <div>\n",
       "      <progress value='4000' class='' max='4000' style='width:300px; height:20px; vertical-align: middle;'></progress>\n",
       "      100.00% [4000/4000 00:00&lt;00:00]\n",
       "    </div>\n",
       "    "
      ],
      "text/plain": [
       "<IPython.core.display.HTML object>"
      ]
     },
     "metadata": {},
     "output_type": "display_data"
    }
   ],
   "source": [
    "with pm.Model() as P_siglos:\n",
    "    y_obs = pm.Gamma('sig', alpha=855+1, beta=O_cont)\n",
    "    sig_trace = pm.sample(draws=1000, chains=4)\n",
    "    sig_forecast = pm.sample_posterior_predictive(sig_trace, var_names=['sig'])"
   ]
  },
  {
   "cell_type": "code",
   "execution_count": 188,
   "id": "9ea6b824",
   "metadata": {
    "collapsed": true
   },
   "outputs": [
    {
     "data": {
      "text/html": [
       "\n",
       "            <div>\n",
       "              <div class='xr-header'>\n",
       "                <div class=\"xr-obj-type\">arviz.InferenceData</div>\n",
       "              </div>\n",
       "              <ul class=\"xr-sections group-sections\">\n",
       "              \n",
       "            <li class = \"xr-section-item\">\n",
       "                  <input id=\"idata_posteriorac177f1f-9b91-417e-8b41-798734812f5a\" class=\"xr-section-summary-in\" type=\"checkbox\">\n",
       "                  <label for=\"idata_posteriorac177f1f-9b91-417e-8b41-798734812f5a\" class = \"xr-section-summary\">posterior</label>\n",
       "                  <div class=\"xr-section-inline-details\"></div>\n",
       "                  <div class=\"xr-section-details\">\n",
       "                      <ul id=\"xr-dataset-coord-list\" class=\"xr-var-list\">\n",
       "                          <div style=\"padding-left:2rem;\"><div><svg style=\"position: absolute; width: 0; height: 0; overflow: hidden\">\n",
       "<defs>\n",
       "<symbol id=\"icon-database\" viewBox=\"0 0 32 32\">\n",
       "<path d=\"M16 0c-8.837 0-16 2.239-16 5v4c0 2.761 7.163 5 16 5s16-2.239 16-5v-4c0-2.761-7.163-5-16-5z\"></path>\n",
       "<path d=\"M16 17c-8.837 0-16-2.239-16-5v6c0 2.761 7.163 5 16 5s16-2.239 16-5v-6c0 2.761-7.163 5-16 5z\"></path>\n",
       "<path d=\"M16 26c-8.837 0-16-2.239-16-5v6c0 2.761 7.163 5 16 5s16-2.239 16-5v-6c0 2.761-7.163 5-16 5z\"></path>\n",
       "</symbol>\n",
       "<symbol id=\"icon-file-text2\" viewBox=\"0 0 32 32\">\n",
       "<path d=\"M28.681 7.159c-0.694-0.947-1.662-2.053-2.724-3.116s-2.169-2.030-3.116-2.724c-1.612-1.182-2.393-1.319-2.841-1.319h-15.5c-1.378 0-2.5 1.121-2.5 2.5v27c0 1.378 1.122 2.5 2.5 2.5h23c1.378 0 2.5-1.122 2.5-2.5v-19.5c0-0.448-0.137-1.23-1.319-2.841zM24.543 5.457c0.959 0.959 1.712 1.825 2.268 2.543h-4.811v-4.811c0.718 0.556 1.584 1.309 2.543 2.268zM28 29.5c0 0.271-0.229 0.5-0.5 0.5h-23c-0.271 0-0.5-0.229-0.5-0.5v-27c0-0.271 0.229-0.5 0.5-0.5 0 0 15.499-0 15.5 0v7c0 0.552 0.448 1 1 1h7v19.5z\"></path>\n",
       "<path d=\"M23 26h-14c-0.552 0-1-0.448-1-1s0.448-1 1-1h14c0.552 0 1 0.448 1 1s-0.448 1-1 1z\"></path>\n",
       "<path d=\"M23 22h-14c-0.552 0-1-0.448-1-1s0.448-1 1-1h14c0.552 0 1 0.448 1 1s-0.448 1-1 1z\"></path>\n",
       "<path d=\"M23 18h-14c-0.552 0-1-0.448-1-1s0.448-1 1-1h14c0.552 0 1 0.448 1 1s-0.448 1-1 1z\"></path>\n",
       "</symbol>\n",
       "</defs>\n",
       "</svg>\n",
       "<style>/* CSS stylesheet for displaying xarray objects in jupyterlab.\n",
       " *\n",
       " */\n",
       "\n",
       ":root {\n",
       "  --xr-font-color0: var(--jp-content-font-color0, rgba(0, 0, 0, 1));\n",
       "  --xr-font-color2: var(--jp-content-font-color2, rgba(0, 0, 0, 0.54));\n",
       "  --xr-font-color3: var(--jp-content-font-color3, rgba(0, 0, 0, 0.38));\n",
       "  --xr-border-color: var(--jp-border-color2, #e0e0e0);\n",
       "  --xr-disabled-color: var(--jp-layout-color3, #bdbdbd);\n",
       "  --xr-background-color: var(--jp-layout-color0, white);\n",
       "  --xr-background-color-row-even: var(--jp-layout-color1, white);\n",
       "  --xr-background-color-row-odd: var(--jp-layout-color2, #eeeeee);\n",
       "}\n",
       "\n",
       "html[theme=dark],\n",
       "body[data-theme=dark],\n",
       "body.vscode-dark {\n",
       "  --xr-font-color0: rgba(255, 255, 255, 1);\n",
       "  --xr-font-color2: rgba(255, 255, 255, 0.54);\n",
       "  --xr-font-color3: rgba(255, 255, 255, 0.38);\n",
       "  --xr-border-color: #1F1F1F;\n",
       "  --xr-disabled-color: #515151;\n",
       "  --xr-background-color: #111111;\n",
       "  --xr-background-color-row-even: #111111;\n",
       "  --xr-background-color-row-odd: #313131;\n",
       "}\n",
       "\n",
       ".xr-wrap {\n",
       "  display: block !important;\n",
       "  min-width: 300px;\n",
       "  max-width: 700px;\n",
       "}\n",
       "\n",
       ".xr-text-repr-fallback {\n",
       "  /* fallback to plain text repr when CSS is not injected (untrusted notebook) */\n",
       "  display: none;\n",
       "}\n",
       "\n",
       ".xr-header {\n",
       "  padding-top: 6px;\n",
       "  padding-bottom: 6px;\n",
       "  margin-bottom: 4px;\n",
       "  border-bottom: solid 1px var(--xr-border-color);\n",
       "}\n",
       "\n",
       ".xr-header > div,\n",
       ".xr-header > ul {\n",
       "  display: inline;\n",
       "  margin-top: 0;\n",
       "  margin-bottom: 0;\n",
       "}\n",
       "\n",
       ".xr-obj-type,\n",
       ".xr-array-name {\n",
       "  margin-left: 2px;\n",
       "  margin-right: 10px;\n",
       "}\n",
       "\n",
       ".xr-obj-type {\n",
       "  color: var(--xr-font-color2);\n",
       "}\n",
       "\n",
       ".xr-sections {\n",
       "  padding-left: 0 !important;\n",
       "  display: grid;\n",
       "  grid-template-columns: 150px auto auto 1fr 20px 20px;\n",
       "}\n",
       "\n",
       ".xr-section-item {\n",
       "  display: contents;\n",
       "}\n",
       "\n",
       ".xr-section-item input {\n",
       "  display: none;\n",
       "}\n",
       "\n",
       ".xr-section-item input + label {\n",
       "  color: var(--xr-disabled-color);\n",
       "}\n",
       "\n",
       ".xr-section-item input:enabled + label {\n",
       "  cursor: pointer;\n",
       "  color: var(--xr-font-color2);\n",
       "}\n",
       "\n",
       ".xr-section-item input:enabled + label:hover {\n",
       "  color: var(--xr-font-color0);\n",
       "}\n",
       "\n",
       ".xr-section-summary {\n",
       "  grid-column: 1;\n",
       "  color: var(--xr-font-color2);\n",
       "  font-weight: 500;\n",
       "}\n",
       "\n",
       ".xr-section-summary > span {\n",
       "  display: inline-block;\n",
       "  padding-left: 0.5em;\n",
       "}\n",
       "\n",
       ".xr-section-summary-in:disabled + label {\n",
       "  color: var(--xr-font-color2);\n",
       "}\n",
       "\n",
       ".xr-section-summary-in + label:before {\n",
       "  display: inline-block;\n",
       "  content: '►';\n",
       "  font-size: 11px;\n",
       "  width: 15px;\n",
       "  text-align: center;\n",
       "}\n",
       "\n",
       ".xr-section-summary-in:disabled + label:before {\n",
       "  color: var(--xr-disabled-color);\n",
       "}\n",
       "\n",
       ".xr-section-summary-in:checked + label:before {\n",
       "  content: '▼';\n",
       "}\n",
       "\n",
       ".xr-section-summary-in:checked + label > span {\n",
       "  display: none;\n",
       "}\n",
       "\n",
       ".xr-section-summary,\n",
       ".xr-section-inline-details {\n",
       "  padding-top: 4px;\n",
       "  padding-bottom: 4px;\n",
       "}\n",
       "\n",
       ".xr-section-inline-details {\n",
       "  grid-column: 2 / -1;\n",
       "}\n",
       "\n",
       ".xr-section-details {\n",
       "  display: none;\n",
       "  grid-column: 1 / -1;\n",
       "  margin-bottom: 5px;\n",
       "}\n",
       "\n",
       ".xr-section-summary-in:checked ~ .xr-section-details {\n",
       "  display: contents;\n",
       "}\n",
       "\n",
       ".xr-array-wrap {\n",
       "  grid-column: 1 / -1;\n",
       "  display: grid;\n",
       "  grid-template-columns: 20px auto;\n",
       "}\n",
       "\n",
       ".xr-array-wrap > label {\n",
       "  grid-column: 1;\n",
       "  vertical-align: top;\n",
       "}\n",
       "\n",
       ".xr-preview {\n",
       "  color: var(--xr-font-color3);\n",
       "}\n",
       "\n",
       ".xr-array-preview,\n",
       ".xr-array-data {\n",
       "  padding: 0 5px !important;\n",
       "  grid-column: 2;\n",
       "}\n",
       "\n",
       ".xr-array-data,\n",
       ".xr-array-in:checked ~ .xr-array-preview {\n",
       "  display: none;\n",
       "}\n",
       "\n",
       ".xr-array-in:checked ~ .xr-array-data,\n",
       ".xr-array-preview {\n",
       "  display: inline-block;\n",
       "}\n",
       "\n",
       ".xr-dim-list {\n",
       "  display: inline-block !important;\n",
       "  list-style: none;\n",
       "  padding: 0 !important;\n",
       "  margin: 0;\n",
       "}\n",
       "\n",
       ".xr-dim-list li {\n",
       "  display: inline-block;\n",
       "  padding: 0;\n",
       "  margin: 0;\n",
       "}\n",
       "\n",
       ".xr-dim-list:before {\n",
       "  content: '(';\n",
       "}\n",
       "\n",
       ".xr-dim-list:after {\n",
       "  content: ')';\n",
       "}\n",
       "\n",
       ".xr-dim-list li:not(:last-child):after {\n",
       "  content: ',';\n",
       "  padding-right: 5px;\n",
       "}\n",
       "\n",
       ".xr-has-index {\n",
       "  font-weight: bold;\n",
       "}\n",
       "\n",
       ".xr-var-list,\n",
       ".xr-var-item {\n",
       "  display: contents;\n",
       "}\n",
       "\n",
       ".xr-var-item > div,\n",
       ".xr-var-item label,\n",
       ".xr-var-item > .xr-var-name span {\n",
       "  background-color: var(--xr-background-color-row-even);\n",
       "  margin-bottom: 0;\n",
       "}\n",
       "\n",
       ".xr-var-item > .xr-var-name:hover span {\n",
       "  padding-right: 5px;\n",
       "}\n",
       "\n",
       ".xr-var-list > li:nth-child(odd) > div,\n",
       ".xr-var-list > li:nth-child(odd) > label,\n",
       ".xr-var-list > li:nth-child(odd) > .xr-var-name span {\n",
       "  background-color: var(--xr-background-color-row-odd);\n",
       "}\n",
       "\n",
       ".xr-var-name {\n",
       "  grid-column: 1;\n",
       "}\n",
       "\n",
       ".xr-var-dims {\n",
       "  grid-column: 2;\n",
       "}\n",
       "\n",
       ".xr-var-dtype {\n",
       "  grid-column: 3;\n",
       "  text-align: right;\n",
       "  color: var(--xr-font-color2);\n",
       "}\n",
       "\n",
       ".xr-var-preview {\n",
       "  grid-column: 4;\n",
       "}\n",
       "\n",
       ".xr-index-preview {\n",
       "  grid-column: 2 / 5;\n",
       "  color: var(--xr-font-color2);\n",
       "}\n",
       "\n",
       ".xr-var-name,\n",
       ".xr-var-dims,\n",
       ".xr-var-dtype,\n",
       ".xr-preview,\n",
       ".xr-attrs dt {\n",
       "  white-space: nowrap;\n",
       "  overflow: hidden;\n",
       "  text-overflow: ellipsis;\n",
       "  padding-right: 10px;\n",
       "}\n",
       "\n",
       ".xr-var-name:hover,\n",
       ".xr-var-dims:hover,\n",
       ".xr-var-dtype:hover,\n",
       ".xr-attrs dt:hover {\n",
       "  overflow: visible;\n",
       "  width: auto;\n",
       "  z-index: 1;\n",
       "}\n",
       "\n",
       ".xr-var-attrs,\n",
       ".xr-var-data,\n",
       ".xr-index-data {\n",
       "  display: none;\n",
       "  background-color: var(--xr-background-color) !important;\n",
       "  padding-bottom: 5px !important;\n",
       "}\n",
       "\n",
       ".xr-var-attrs-in:checked ~ .xr-var-attrs,\n",
       ".xr-var-data-in:checked ~ .xr-var-data,\n",
       ".xr-index-data-in:checked ~ .xr-index-data {\n",
       "  display: block;\n",
       "}\n",
       "\n",
       ".xr-var-data > table {\n",
       "  float: right;\n",
       "}\n",
       "\n",
       ".xr-var-name span,\n",
       ".xr-var-data,\n",
       ".xr-index-name div,\n",
       ".xr-index-data,\n",
       ".xr-attrs {\n",
       "  padding-left: 25px !important;\n",
       "}\n",
       "\n",
       ".xr-attrs,\n",
       ".xr-var-attrs,\n",
       ".xr-var-data,\n",
       ".xr-index-data {\n",
       "  grid-column: 1 / -1;\n",
       "}\n",
       "\n",
       "dl.xr-attrs {\n",
       "  padding: 0;\n",
       "  margin: 0;\n",
       "  display: grid;\n",
       "  grid-template-columns: 125px auto;\n",
       "}\n",
       "\n",
       ".xr-attrs dt,\n",
       ".xr-attrs dd {\n",
       "  padding: 0;\n",
       "  margin: 0;\n",
       "  float: left;\n",
       "  padding-right: 10px;\n",
       "  width: auto;\n",
       "}\n",
       "\n",
       ".xr-attrs dt {\n",
       "  font-weight: normal;\n",
       "  grid-column: 1;\n",
       "}\n",
       "\n",
       ".xr-attrs dt:hover span {\n",
       "  display: inline-block;\n",
       "  background: var(--xr-background-color);\n",
       "  padding-right: 10px;\n",
       "}\n",
       "\n",
       ".xr-attrs dd {\n",
       "  grid-column: 2;\n",
       "  white-space: pre-wrap;\n",
       "  word-break: break-all;\n",
       "}\n",
       "\n",
       ".xr-icon-database,\n",
       ".xr-icon-file-text2,\n",
       ".xr-no-icon {\n",
       "  display: inline-block;\n",
       "  vertical-align: middle;\n",
       "  width: 1em;\n",
       "  height: 1.5em !important;\n",
       "  stroke-width: 0;\n",
       "  stroke: currentColor;\n",
       "  fill: currentColor;\n",
       "}\n",
       "</style><pre class='xr-text-repr-fallback'>&lt;xarray.Dataset&gt;\n",
       "Dimensions:  (chain: 4, draw: 1000)\n",
       "Coordinates:\n",
       "  * chain    (chain) int64 0 1 2 3\n",
       "  * draw     (draw) int64 0 1 2 3 4 5 6 7 8 ... 992 993 994 995 996 997 998 999\n",
       "Data variables:\n",
       "    sig      (chain, draw) float64 1.265e-05 1.283e-05 ... 1.293e-05 1.294e-05\n",
       "Attributes:\n",
       "    created_at:                 2023-08-22T19:35:39.506763\n",
       "    arviz_version:              0.15.1\n",
       "    inference_library:          pymc\n",
       "    inference_library_version:  5.4.0\n",
       "    sampling_time:              34.67947864532471\n",
       "    tuning_steps:               1000</pre><div class='xr-wrap' style='display:none'><div class='xr-header'><div class='xr-obj-type'>xarray.Dataset</div></div><ul class='xr-sections'><li class='xr-section-item'><input id='section-8dd8c322-7f5b-486f-91f4-e0192b1da1e6' class='xr-section-summary-in' type='checkbox' disabled ><label for='section-8dd8c322-7f5b-486f-91f4-e0192b1da1e6' class='xr-section-summary'  title='Expand/collapse section'>Dimensions:</label><div class='xr-section-inline-details'><ul class='xr-dim-list'><li><span class='xr-has-index'>chain</span>: 4</li><li><span class='xr-has-index'>draw</span>: 1000</li></ul></div><div class='xr-section-details'></div></li><li class='xr-section-item'><input id='section-934183e5-53e6-46ad-a9c6-d36d6760c7e8' class='xr-section-summary-in' type='checkbox'  checked><label for='section-934183e5-53e6-46ad-a9c6-d36d6760c7e8' class='xr-section-summary' >Coordinates: <span>(2)</span></label><div class='xr-section-inline-details'></div><div class='xr-section-details'><ul class='xr-var-list'><li class='xr-var-item'><div class='xr-var-name'><span class='xr-has-index'>chain</span></div><div class='xr-var-dims'>(chain)</div><div class='xr-var-dtype'>int64</div><div class='xr-var-preview xr-preview'>0 1 2 3</div><input id='attrs-37d2197f-a8d5-4674-965c-5883d9bd1d9f' class='xr-var-attrs-in' type='checkbox' disabled><label for='attrs-37d2197f-a8d5-4674-965c-5883d9bd1d9f' title='Show/Hide attributes'><svg class='icon xr-icon-file-text2'><use xlink:href='#icon-file-text2'></use></svg></label><input id='data-81bff898-6750-429b-ba6b-7ebf0da2a797' class='xr-var-data-in' type='checkbox'><label for='data-81bff898-6750-429b-ba6b-7ebf0da2a797' title='Show/Hide data repr'><svg class='icon xr-icon-database'><use xlink:href='#icon-database'></use></svg></label><div class='xr-var-attrs'><dl class='xr-attrs'></dl></div><div class='xr-var-data'><pre>array([0, 1, 2, 3])</pre></div></li><li class='xr-var-item'><div class='xr-var-name'><span class='xr-has-index'>draw</span></div><div class='xr-var-dims'>(draw)</div><div class='xr-var-dtype'>int64</div><div class='xr-var-preview xr-preview'>0 1 2 3 4 5 ... 995 996 997 998 999</div><input id='attrs-8a33c160-a090-47e3-ab54-de8b131ad53c' class='xr-var-attrs-in' type='checkbox' disabled><label for='attrs-8a33c160-a090-47e3-ab54-de8b131ad53c' title='Show/Hide attributes'><svg class='icon xr-icon-file-text2'><use xlink:href='#icon-file-text2'></use></svg></label><input id='data-43ebbbf5-a667-4a96-97ec-6a83aa7e8f92' class='xr-var-data-in' type='checkbox'><label for='data-43ebbbf5-a667-4a96-97ec-6a83aa7e8f92' title='Show/Hide data repr'><svg class='icon xr-icon-database'><use xlink:href='#icon-database'></use></svg></label><div class='xr-var-attrs'><dl class='xr-attrs'></dl></div><div class='xr-var-data'><pre>array([  0,   1,   2, ..., 997, 998, 999])</pre></div></li></ul></div></li><li class='xr-section-item'><input id='section-053be135-87eb-4b2e-9574-f53485ffeaa4' class='xr-section-summary-in' type='checkbox'  checked><label for='section-053be135-87eb-4b2e-9574-f53485ffeaa4' class='xr-section-summary' >Data variables: <span>(1)</span></label><div class='xr-section-inline-details'></div><div class='xr-section-details'><ul class='xr-var-list'><li class='xr-var-item'><div class='xr-var-name'><span>sig</span></div><div class='xr-var-dims'>(chain, draw)</div><div class='xr-var-dtype'>float64</div><div class='xr-var-preview xr-preview'>1.265e-05 1.283e-05 ... 1.294e-05</div><input id='attrs-472f5540-a64a-437e-a097-aaff57e7ef8e' class='xr-var-attrs-in' type='checkbox' disabled><label for='attrs-472f5540-a64a-437e-a097-aaff57e7ef8e' title='Show/Hide attributes'><svg class='icon xr-icon-file-text2'><use xlink:href='#icon-file-text2'></use></svg></label><input id='data-cbb9ab57-98c6-4691-b969-4c19b11cf00f' class='xr-var-data-in' type='checkbox'><label for='data-cbb9ab57-98c6-4691-b969-4c19b11cf00f' title='Show/Hide data repr'><svg class='icon xr-icon-database'><use xlink:href='#icon-database'></use></svg></label><div class='xr-var-attrs'><dl class='xr-attrs'></dl></div><div class='xr-var-data'><pre>array([[1.26548176e-05, 1.28320097e-05, 1.27210763e-05, ...,\n",
       "        1.28130743e-05, 1.32361647e-05, 1.30934188e-05],\n",
       "       [1.24912367e-05, 1.24912367e-05, 1.26351226e-05, ...,\n",
       "        1.33525681e-05, 1.29973479e-05, 1.29973479e-05],\n",
       "       [1.29373106e-05, 1.28175046e-05, 1.28175046e-05, ...,\n",
       "        1.37176988e-05, 1.30295050e-05, 1.29296584e-05],\n",
       "       [1.31856889e-05, 1.32877609e-05, 1.36550145e-05, ...,\n",
       "        1.28893524e-05, 1.29320546e-05, 1.29355378e-05]])</pre></div></li></ul></div></li><li class='xr-section-item'><input id='section-aba617da-4c04-4510-8e8d-cc38b9841ac7' class='xr-section-summary-in' type='checkbox'  ><label for='section-aba617da-4c04-4510-8e8d-cc38b9841ac7' class='xr-section-summary' >Indexes: <span>(2)</span></label><div class='xr-section-inline-details'></div><div class='xr-section-details'><ul class='xr-var-list'><li class='xr-var-item'><div class='xr-index-name'><div>chain</div></div><div class='xr-index-preview'>PandasIndex</div><div></div><input id='index-bf3875ad-ea8f-4413-b4d6-7d4e6334b3d9' class='xr-index-data-in' type='checkbox'/><label for='index-bf3875ad-ea8f-4413-b4d6-7d4e6334b3d9' title='Show/Hide index repr'><svg class='icon xr-icon-database'><use xlink:href='#icon-database'></use></svg></label><div class='xr-index-data'><pre>PandasIndex(Int64Index([0, 1, 2, 3], dtype=&#x27;int64&#x27;, name=&#x27;chain&#x27;))</pre></div></li><li class='xr-var-item'><div class='xr-index-name'><div>draw</div></div><div class='xr-index-preview'>PandasIndex</div><div></div><input id='index-8e34c9ca-51cc-404f-96ed-ff216d380e66' class='xr-index-data-in' type='checkbox'/><label for='index-8e34c9ca-51cc-404f-96ed-ff216d380e66' title='Show/Hide index repr'><svg class='icon xr-icon-database'><use xlink:href='#icon-database'></use></svg></label><div class='xr-index-data'><pre>PandasIndex(Int64Index([  0,   1,   2,   3,   4,   5,   6,   7,   8,   9,\n",
       "            ...\n",
       "            990, 991, 992, 993, 994, 995, 996, 997, 998, 999],\n",
       "           dtype=&#x27;int64&#x27;, name=&#x27;draw&#x27;, length=1000))</pre></div></li></ul></div></li><li class='xr-section-item'><input id='section-00583f1c-7cc7-4ec7-b57d-71cd24eb1c46' class='xr-section-summary-in' type='checkbox'  checked><label for='section-00583f1c-7cc7-4ec7-b57d-71cd24eb1c46' class='xr-section-summary' >Attributes: <span>(6)</span></label><div class='xr-section-inline-details'></div><div class='xr-section-details'><dl class='xr-attrs'><dt><span>created_at :</span></dt><dd>2023-08-22T19:35:39.506763</dd><dt><span>arviz_version :</span></dt><dd>0.15.1</dd><dt><span>inference_library :</span></dt><dd>pymc</dd><dt><span>inference_library_version :</span></dt><dd>5.4.0</dd><dt><span>sampling_time :</span></dt><dd>34.67947864532471</dd><dt><span>tuning_steps :</span></dt><dd>1000</dd></dl></div></li></ul></div></div><br></div>\n",
       "                      </ul>\n",
       "                  </div>\n",
       "            </li>\n",
       "            \n",
       "            <li class = \"xr-section-item\">\n",
       "                  <input id=\"idata_sample_statsb8898733-d5dd-4a31-a1c9-99fd9252fd70\" class=\"xr-section-summary-in\" type=\"checkbox\">\n",
       "                  <label for=\"idata_sample_statsb8898733-d5dd-4a31-a1c9-99fd9252fd70\" class = \"xr-section-summary\">sample_stats</label>\n",
       "                  <div class=\"xr-section-inline-details\"></div>\n",
       "                  <div class=\"xr-section-details\">\n",
       "                      <ul id=\"xr-dataset-coord-list\" class=\"xr-var-list\">\n",
       "                          <div style=\"padding-left:2rem;\"><div><svg style=\"position: absolute; width: 0; height: 0; overflow: hidden\">\n",
       "<defs>\n",
       "<symbol id=\"icon-database\" viewBox=\"0 0 32 32\">\n",
       "<path d=\"M16 0c-8.837 0-16 2.239-16 5v4c0 2.761 7.163 5 16 5s16-2.239 16-5v-4c0-2.761-7.163-5-16-5z\"></path>\n",
       "<path d=\"M16 17c-8.837 0-16-2.239-16-5v6c0 2.761 7.163 5 16 5s16-2.239 16-5v-6c0 2.761-7.163 5-16 5z\"></path>\n",
       "<path d=\"M16 26c-8.837 0-16-2.239-16-5v6c0 2.761 7.163 5 16 5s16-2.239 16-5v-6c0 2.761-7.163 5-16 5z\"></path>\n",
       "</symbol>\n",
       "<symbol id=\"icon-file-text2\" viewBox=\"0 0 32 32\">\n",
       "<path d=\"M28.681 7.159c-0.694-0.947-1.662-2.053-2.724-3.116s-2.169-2.030-3.116-2.724c-1.612-1.182-2.393-1.319-2.841-1.319h-15.5c-1.378 0-2.5 1.121-2.5 2.5v27c0 1.378 1.122 2.5 2.5 2.5h23c1.378 0 2.5-1.122 2.5-2.5v-19.5c0-0.448-0.137-1.23-1.319-2.841zM24.543 5.457c0.959 0.959 1.712 1.825 2.268 2.543h-4.811v-4.811c0.718 0.556 1.584 1.309 2.543 2.268zM28 29.5c0 0.271-0.229 0.5-0.5 0.5h-23c-0.271 0-0.5-0.229-0.5-0.5v-27c0-0.271 0.229-0.5 0.5-0.5 0 0 15.499-0 15.5 0v7c0 0.552 0.448 1 1 1h7v19.5z\"></path>\n",
       "<path d=\"M23 26h-14c-0.552 0-1-0.448-1-1s0.448-1 1-1h14c0.552 0 1 0.448 1 1s-0.448 1-1 1z\"></path>\n",
       "<path d=\"M23 22h-14c-0.552 0-1-0.448-1-1s0.448-1 1-1h14c0.552 0 1 0.448 1 1s-0.448 1-1 1z\"></path>\n",
       "<path d=\"M23 18h-14c-0.552 0-1-0.448-1-1s0.448-1 1-1h14c0.552 0 1 0.448 1 1s-0.448 1-1 1z\"></path>\n",
       "</symbol>\n",
       "</defs>\n",
       "</svg>\n",
       "<style>/* CSS stylesheet for displaying xarray objects in jupyterlab.\n",
       " *\n",
       " */\n",
       "\n",
       ":root {\n",
       "  --xr-font-color0: var(--jp-content-font-color0, rgba(0, 0, 0, 1));\n",
       "  --xr-font-color2: var(--jp-content-font-color2, rgba(0, 0, 0, 0.54));\n",
       "  --xr-font-color3: var(--jp-content-font-color3, rgba(0, 0, 0, 0.38));\n",
       "  --xr-border-color: var(--jp-border-color2, #e0e0e0);\n",
       "  --xr-disabled-color: var(--jp-layout-color3, #bdbdbd);\n",
       "  --xr-background-color: var(--jp-layout-color0, white);\n",
       "  --xr-background-color-row-even: var(--jp-layout-color1, white);\n",
       "  --xr-background-color-row-odd: var(--jp-layout-color2, #eeeeee);\n",
       "}\n",
       "\n",
       "html[theme=dark],\n",
       "body[data-theme=dark],\n",
       "body.vscode-dark {\n",
       "  --xr-font-color0: rgba(255, 255, 255, 1);\n",
       "  --xr-font-color2: rgba(255, 255, 255, 0.54);\n",
       "  --xr-font-color3: rgba(255, 255, 255, 0.38);\n",
       "  --xr-border-color: #1F1F1F;\n",
       "  --xr-disabled-color: #515151;\n",
       "  --xr-background-color: #111111;\n",
       "  --xr-background-color-row-even: #111111;\n",
       "  --xr-background-color-row-odd: #313131;\n",
       "}\n",
       "\n",
       ".xr-wrap {\n",
       "  display: block !important;\n",
       "  min-width: 300px;\n",
       "  max-width: 700px;\n",
       "}\n",
       "\n",
       ".xr-text-repr-fallback {\n",
       "  /* fallback to plain text repr when CSS is not injected (untrusted notebook) */\n",
       "  display: none;\n",
       "}\n",
       "\n",
       ".xr-header {\n",
       "  padding-top: 6px;\n",
       "  padding-bottom: 6px;\n",
       "  margin-bottom: 4px;\n",
       "  border-bottom: solid 1px var(--xr-border-color);\n",
       "}\n",
       "\n",
       ".xr-header > div,\n",
       ".xr-header > ul {\n",
       "  display: inline;\n",
       "  margin-top: 0;\n",
       "  margin-bottom: 0;\n",
       "}\n",
       "\n",
       ".xr-obj-type,\n",
       ".xr-array-name {\n",
       "  margin-left: 2px;\n",
       "  margin-right: 10px;\n",
       "}\n",
       "\n",
       ".xr-obj-type {\n",
       "  color: var(--xr-font-color2);\n",
       "}\n",
       "\n",
       ".xr-sections {\n",
       "  padding-left: 0 !important;\n",
       "  display: grid;\n",
       "  grid-template-columns: 150px auto auto 1fr 20px 20px;\n",
       "}\n",
       "\n",
       ".xr-section-item {\n",
       "  display: contents;\n",
       "}\n",
       "\n",
       ".xr-section-item input {\n",
       "  display: none;\n",
       "}\n",
       "\n",
       ".xr-section-item input + label {\n",
       "  color: var(--xr-disabled-color);\n",
       "}\n",
       "\n",
       ".xr-section-item input:enabled + label {\n",
       "  cursor: pointer;\n",
       "  color: var(--xr-font-color2);\n",
       "}\n",
       "\n",
       ".xr-section-item input:enabled + label:hover {\n",
       "  color: var(--xr-font-color0);\n",
       "}\n",
       "\n",
       ".xr-section-summary {\n",
       "  grid-column: 1;\n",
       "  color: var(--xr-font-color2);\n",
       "  font-weight: 500;\n",
       "}\n",
       "\n",
       ".xr-section-summary > span {\n",
       "  display: inline-block;\n",
       "  padding-left: 0.5em;\n",
       "}\n",
       "\n",
       ".xr-section-summary-in:disabled + label {\n",
       "  color: var(--xr-font-color2);\n",
       "}\n",
       "\n",
       ".xr-section-summary-in + label:before {\n",
       "  display: inline-block;\n",
       "  content: '►';\n",
       "  font-size: 11px;\n",
       "  width: 15px;\n",
       "  text-align: center;\n",
       "}\n",
       "\n",
       ".xr-section-summary-in:disabled + label:before {\n",
       "  color: var(--xr-disabled-color);\n",
       "}\n",
       "\n",
       ".xr-section-summary-in:checked + label:before {\n",
       "  content: '▼';\n",
       "}\n",
       "\n",
       ".xr-section-summary-in:checked + label > span {\n",
       "  display: none;\n",
       "}\n",
       "\n",
       ".xr-section-summary,\n",
       ".xr-section-inline-details {\n",
       "  padding-top: 4px;\n",
       "  padding-bottom: 4px;\n",
       "}\n",
       "\n",
       ".xr-section-inline-details {\n",
       "  grid-column: 2 / -1;\n",
       "}\n",
       "\n",
       ".xr-section-details {\n",
       "  display: none;\n",
       "  grid-column: 1 / -1;\n",
       "  margin-bottom: 5px;\n",
       "}\n",
       "\n",
       ".xr-section-summary-in:checked ~ .xr-section-details {\n",
       "  display: contents;\n",
       "}\n",
       "\n",
       ".xr-array-wrap {\n",
       "  grid-column: 1 / -1;\n",
       "  display: grid;\n",
       "  grid-template-columns: 20px auto;\n",
       "}\n",
       "\n",
       ".xr-array-wrap > label {\n",
       "  grid-column: 1;\n",
       "  vertical-align: top;\n",
       "}\n",
       "\n",
       ".xr-preview {\n",
       "  color: var(--xr-font-color3);\n",
       "}\n",
       "\n",
       ".xr-array-preview,\n",
       ".xr-array-data {\n",
       "  padding: 0 5px !important;\n",
       "  grid-column: 2;\n",
       "}\n",
       "\n",
       ".xr-array-data,\n",
       ".xr-array-in:checked ~ .xr-array-preview {\n",
       "  display: none;\n",
       "}\n",
       "\n",
       ".xr-array-in:checked ~ .xr-array-data,\n",
       ".xr-array-preview {\n",
       "  display: inline-block;\n",
       "}\n",
       "\n",
       ".xr-dim-list {\n",
       "  display: inline-block !important;\n",
       "  list-style: none;\n",
       "  padding: 0 !important;\n",
       "  margin: 0;\n",
       "}\n",
       "\n",
       ".xr-dim-list li {\n",
       "  display: inline-block;\n",
       "  padding: 0;\n",
       "  margin: 0;\n",
       "}\n",
       "\n",
       ".xr-dim-list:before {\n",
       "  content: '(';\n",
       "}\n",
       "\n",
       ".xr-dim-list:after {\n",
       "  content: ')';\n",
       "}\n",
       "\n",
       ".xr-dim-list li:not(:last-child):after {\n",
       "  content: ',';\n",
       "  padding-right: 5px;\n",
       "}\n",
       "\n",
       ".xr-has-index {\n",
       "  font-weight: bold;\n",
       "}\n",
       "\n",
       ".xr-var-list,\n",
       ".xr-var-item {\n",
       "  display: contents;\n",
       "}\n",
       "\n",
       ".xr-var-item > div,\n",
       ".xr-var-item label,\n",
       ".xr-var-item > .xr-var-name span {\n",
       "  background-color: var(--xr-background-color-row-even);\n",
       "  margin-bottom: 0;\n",
       "}\n",
       "\n",
       ".xr-var-item > .xr-var-name:hover span {\n",
       "  padding-right: 5px;\n",
       "}\n",
       "\n",
       ".xr-var-list > li:nth-child(odd) > div,\n",
       ".xr-var-list > li:nth-child(odd) > label,\n",
       ".xr-var-list > li:nth-child(odd) > .xr-var-name span {\n",
       "  background-color: var(--xr-background-color-row-odd);\n",
       "}\n",
       "\n",
       ".xr-var-name {\n",
       "  grid-column: 1;\n",
       "}\n",
       "\n",
       ".xr-var-dims {\n",
       "  grid-column: 2;\n",
       "}\n",
       "\n",
       ".xr-var-dtype {\n",
       "  grid-column: 3;\n",
       "  text-align: right;\n",
       "  color: var(--xr-font-color2);\n",
       "}\n",
       "\n",
       ".xr-var-preview {\n",
       "  grid-column: 4;\n",
       "}\n",
       "\n",
       ".xr-index-preview {\n",
       "  grid-column: 2 / 5;\n",
       "  color: var(--xr-font-color2);\n",
       "}\n",
       "\n",
       ".xr-var-name,\n",
       ".xr-var-dims,\n",
       ".xr-var-dtype,\n",
       ".xr-preview,\n",
       ".xr-attrs dt {\n",
       "  white-space: nowrap;\n",
       "  overflow: hidden;\n",
       "  text-overflow: ellipsis;\n",
       "  padding-right: 10px;\n",
       "}\n",
       "\n",
       ".xr-var-name:hover,\n",
       ".xr-var-dims:hover,\n",
       ".xr-var-dtype:hover,\n",
       ".xr-attrs dt:hover {\n",
       "  overflow: visible;\n",
       "  width: auto;\n",
       "  z-index: 1;\n",
       "}\n",
       "\n",
       ".xr-var-attrs,\n",
       ".xr-var-data,\n",
       ".xr-index-data {\n",
       "  display: none;\n",
       "  background-color: var(--xr-background-color) !important;\n",
       "  padding-bottom: 5px !important;\n",
       "}\n",
       "\n",
       ".xr-var-attrs-in:checked ~ .xr-var-attrs,\n",
       ".xr-var-data-in:checked ~ .xr-var-data,\n",
       ".xr-index-data-in:checked ~ .xr-index-data {\n",
       "  display: block;\n",
       "}\n",
       "\n",
       ".xr-var-data > table {\n",
       "  float: right;\n",
       "}\n",
       "\n",
       ".xr-var-name span,\n",
       ".xr-var-data,\n",
       ".xr-index-name div,\n",
       ".xr-index-data,\n",
       ".xr-attrs {\n",
       "  padding-left: 25px !important;\n",
       "}\n",
       "\n",
       ".xr-attrs,\n",
       ".xr-var-attrs,\n",
       ".xr-var-data,\n",
       ".xr-index-data {\n",
       "  grid-column: 1 / -1;\n",
       "}\n",
       "\n",
       "dl.xr-attrs {\n",
       "  padding: 0;\n",
       "  margin: 0;\n",
       "  display: grid;\n",
       "  grid-template-columns: 125px auto;\n",
       "}\n",
       "\n",
       ".xr-attrs dt,\n",
       ".xr-attrs dd {\n",
       "  padding: 0;\n",
       "  margin: 0;\n",
       "  float: left;\n",
       "  padding-right: 10px;\n",
       "  width: auto;\n",
       "}\n",
       "\n",
       ".xr-attrs dt {\n",
       "  font-weight: normal;\n",
       "  grid-column: 1;\n",
       "}\n",
       "\n",
       ".xr-attrs dt:hover span {\n",
       "  display: inline-block;\n",
       "  background: var(--xr-background-color);\n",
       "  padding-right: 10px;\n",
       "}\n",
       "\n",
       ".xr-attrs dd {\n",
       "  grid-column: 2;\n",
       "  white-space: pre-wrap;\n",
       "  word-break: break-all;\n",
       "}\n",
       "\n",
       ".xr-icon-database,\n",
       ".xr-icon-file-text2,\n",
       ".xr-no-icon {\n",
       "  display: inline-block;\n",
       "  vertical-align: middle;\n",
       "  width: 1em;\n",
       "  height: 1.5em !important;\n",
       "  stroke-width: 0;\n",
       "  stroke: currentColor;\n",
       "  fill: currentColor;\n",
       "}\n",
       "</style><pre class='xr-text-repr-fallback'>&lt;xarray.Dataset&gt;\n",
       "Dimensions:                (chain: 4, draw: 1000)\n",
       "Coordinates:\n",
       "  * chain                  (chain) int64 0 1 2 3\n",
       "  * draw                   (draw) int64 0 1 2 3 4 5 ... 994 995 996 997 998 999\n",
       "Data variables: (12/17)\n",
       "    largest_eigval         (chain, draw) float64 nan nan nan nan ... nan nan nan\n",
       "    max_energy_error       (chain, draw) float64 0.08 -0.1138 ... 0.1533\n",
       "    reached_max_treedepth  (chain, draw) bool False False False ... False False\n",
       "    acceptance_rate        (chain, draw) float64 0.9493 0.9913 ... 1.0 0.9058\n",
       "    index_in_trajectory    (chain, draw) int64 -1 -1 1 1 0 1 0 ... 0 1 1 0 1 -2\n",
       "    energy_error           (chain, draw) float64 0.03862 -0.1138 ... -0.0003655\n",
       "    ...                     ...\n",
       "    smallest_eigval        (chain, draw) float64 nan nan nan nan ... nan nan nan\n",
       "    step_size              (chain, draw) float64 1.214 1.214 ... 1.267 1.267\n",
       "    n_steps                (chain, draw) float64 3.0 3.0 1.0 3.0 ... 3.0 1.0 3.0\n",
       "    perf_counter_start     (chain, draw) float64 1.108e+04 ... 1.109e+04\n",
       "    process_time_diff      (chain, draw) float64 0.000638 0.000877 ... 0.000503\n",
       "    perf_counter_diff      (chain, draw) float64 0.0007534 ... 0.0005026\n",
       "Attributes:\n",
       "    created_at:                 2023-08-22T19:35:39.594065\n",
       "    arviz_version:              0.15.1\n",
       "    inference_library:          pymc\n",
       "    inference_library_version:  5.4.0\n",
       "    sampling_time:              34.67947864532471\n",
       "    tuning_steps:               1000</pre><div class='xr-wrap' style='display:none'><div class='xr-header'><div class='xr-obj-type'>xarray.Dataset</div></div><ul class='xr-sections'><li class='xr-section-item'><input id='section-bf655bb5-460d-49b8-a89a-333775b085bd' class='xr-section-summary-in' type='checkbox' disabled ><label for='section-bf655bb5-460d-49b8-a89a-333775b085bd' class='xr-section-summary'  title='Expand/collapse section'>Dimensions:</label><div class='xr-section-inline-details'><ul class='xr-dim-list'><li><span class='xr-has-index'>chain</span>: 4</li><li><span class='xr-has-index'>draw</span>: 1000</li></ul></div><div class='xr-section-details'></div></li><li class='xr-section-item'><input id='section-c6777d5d-f265-4111-a8da-349f2751a7f6' class='xr-section-summary-in' type='checkbox'  checked><label for='section-c6777d5d-f265-4111-a8da-349f2751a7f6' class='xr-section-summary' >Coordinates: <span>(2)</span></label><div class='xr-section-inline-details'></div><div class='xr-section-details'><ul class='xr-var-list'><li class='xr-var-item'><div class='xr-var-name'><span class='xr-has-index'>chain</span></div><div class='xr-var-dims'>(chain)</div><div class='xr-var-dtype'>int64</div><div class='xr-var-preview xr-preview'>0 1 2 3</div><input id='attrs-783835b4-7f94-4bad-bd8b-072c935c82ec' class='xr-var-attrs-in' type='checkbox' disabled><label for='attrs-783835b4-7f94-4bad-bd8b-072c935c82ec' title='Show/Hide attributes'><svg class='icon xr-icon-file-text2'><use xlink:href='#icon-file-text2'></use></svg></label><input id='data-b4d3157b-8db4-440a-b481-a8833e0dd662' class='xr-var-data-in' type='checkbox'><label for='data-b4d3157b-8db4-440a-b481-a8833e0dd662' title='Show/Hide data repr'><svg class='icon xr-icon-database'><use xlink:href='#icon-database'></use></svg></label><div class='xr-var-attrs'><dl class='xr-attrs'></dl></div><div class='xr-var-data'><pre>array([0, 1, 2, 3])</pre></div></li><li class='xr-var-item'><div class='xr-var-name'><span class='xr-has-index'>draw</span></div><div class='xr-var-dims'>(draw)</div><div class='xr-var-dtype'>int64</div><div class='xr-var-preview xr-preview'>0 1 2 3 4 5 ... 995 996 997 998 999</div><input id='attrs-187f9cb5-4c24-4340-a580-6e4330e3ffa5' class='xr-var-attrs-in' type='checkbox' disabled><label for='attrs-187f9cb5-4c24-4340-a580-6e4330e3ffa5' title='Show/Hide attributes'><svg class='icon xr-icon-file-text2'><use xlink:href='#icon-file-text2'></use></svg></label><input id='data-9f3438f2-7c01-42af-92eb-9af39ec11bdc' class='xr-var-data-in' type='checkbox'><label for='data-9f3438f2-7c01-42af-92eb-9af39ec11bdc' title='Show/Hide data repr'><svg class='icon xr-icon-database'><use xlink:href='#icon-database'></use></svg></label><div class='xr-var-attrs'><dl class='xr-attrs'></dl></div><div class='xr-var-data'><pre>array([  0,   1,   2, ..., 997, 998, 999])</pre></div></li></ul></div></li><li class='xr-section-item'><input id='section-54ab868b-118e-411b-b95b-f93b81379261' class='xr-section-summary-in' type='checkbox'  ><label for='section-54ab868b-118e-411b-b95b-f93b81379261' class='xr-section-summary' >Data variables: <span>(17)</span></label><div class='xr-section-inline-details'></div><div class='xr-section-details'><ul class='xr-var-list'><li class='xr-var-item'><div class='xr-var-name'><span>largest_eigval</span></div><div class='xr-var-dims'>(chain, draw)</div><div class='xr-var-dtype'>float64</div><div class='xr-var-preview xr-preview'>nan nan nan nan ... nan nan nan nan</div><input id='attrs-c92497e7-ff29-4e3a-b2df-c3714f6279e5' class='xr-var-attrs-in' type='checkbox' disabled><label for='attrs-c92497e7-ff29-4e3a-b2df-c3714f6279e5' title='Show/Hide attributes'><svg class='icon xr-icon-file-text2'><use xlink:href='#icon-file-text2'></use></svg></label><input id='data-f34dd776-6589-477b-8d11-3ff04c6302c5' class='xr-var-data-in' type='checkbox'><label for='data-f34dd776-6589-477b-8d11-3ff04c6302c5' title='Show/Hide data repr'><svg class='icon xr-icon-database'><use xlink:href='#icon-database'></use></svg></label><div class='xr-var-attrs'><dl class='xr-attrs'></dl></div><div class='xr-var-data'><pre>array([[nan, nan, nan, ..., nan, nan, nan],\n",
       "       [nan, nan, nan, ..., nan, nan, nan],\n",
       "       [nan, nan, nan, ..., nan, nan, nan],\n",
       "       [nan, nan, nan, ..., nan, nan, nan]])</pre></div></li><li class='xr-var-item'><div class='xr-var-name'><span>max_energy_error</span></div><div class='xr-var-dims'>(chain, draw)</div><div class='xr-var-dtype'>float64</div><div class='xr-var-preview xr-preview'>0.08 -0.1138 ... -0.006291 0.1533</div><input id='attrs-def53fa4-24a7-4f52-9238-443ed446e9f5' class='xr-var-attrs-in' type='checkbox' disabled><label for='attrs-def53fa4-24a7-4f52-9238-443ed446e9f5' title='Show/Hide attributes'><svg class='icon xr-icon-file-text2'><use xlink:href='#icon-file-text2'></use></svg></label><input id='data-7bce4232-40be-4bee-8ea9-a3037821a83d' class='xr-var-data-in' type='checkbox'><label for='data-7bce4232-40be-4bee-8ea9-a3037821a83d' title='Show/Hide data repr'><svg class='icon xr-icon-database'><use xlink:href='#icon-database'></use></svg></label><div class='xr-var-attrs'><dl class='xr-attrs'></dl></div><div class='xr-var-data'><pre>array([[ 8.00010664e-02, -1.13799290e-01,  6.09948055e-02, ...,\n",
       "         2.23724501e-02,  1.32897708e+00, -7.49745715e-02],\n",
       "       [-3.11755593e-01,  3.42685293e-01, -1.44716698e-01, ...,\n",
       "         2.82539599e-01, -1.72304842e-01,  9.89524494e-01],\n",
       "       [-1.25291149e-03,  3.30858512e-01,  1.03230160e-01, ...,\n",
       "         7.55857300e-01, -5.79064080e-01, -3.01288812e-03],\n",
       "       [ 1.67428293e-01,  6.12545106e-02,  4.16661782e-01, ...,\n",
       "         1.96038545e+00, -6.29131658e-03,  1.53250426e-01]])</pre></div></li><li class='xr-var-item'><div class='xr-var-name'><span>reached_max_treedepth</span></div><div class='xr-var-dims'>(chain, draw)</div><div class='xr-var-dtype'>bool</div><div class='xr-var-preview xr-preview'>False False False ... False False</div><input id='attrs-5559ada9-b234-431f-a270-6a5f1ebc89d8' class='xr-var-attrs-in' type='checkbox' disabled><label for='attrs-5559ada9-b234-431f-a270-6a5f1ebc89d8' title='Show/Hide attributes'><svg class='icon xr-icon-file-text2'><use xlink:href='#icon-file-text2'></use></svg></label><input id='data-46274e51-3eb0-4451-a7f0-271078677af6' class='xr-var-data-in' type='checkbox'><label for='data-46274e51-3eb0-4451-a7f0-271078677af6' title='Show/Hide data repr'><svg class='icon xr-icon-database'><use xlink:href='#icon-database'></use></svg></label><div class='xr-var-attrs'><dl class='xr-attrs'></dl></div><div class='xr-var-data'><pre>array([[False, False, False, ..., False, False, False],\n",
       "       [False, False, False, ..., False, False, False],\n",
       "       [False, False, False, ..., False, False, False],\n",
       "       [False, False, False, ..., False, False, False]])</pre></div></li><li class='xr-var-item'><div class='xr-var-name'><span>acceptance_rate</span></div><div class='xr-var-dims'>(chain, draw)</div><div class='xr-var-dtype'>float64</div><div class='xr-var-preview xr-preview'>0.9493 0.9913 0.9408 ... 1.0 0.9058</div><input id='attrs-3f172947-faf4-416f-b546-457db46d0c4f' class='xr-var-attrs-in' type='checkbox' disabled><label for='attrs-3f172947-faf4-416f-b546-457db46d0c4f' title='Show/Hide attributes'><svg class='icon xr-icon-file-text2'><use xlink:href='#icon-file-text2'></use></svg></label><input id='data-b4aa3d59-9843-4cc2-9b70-737aa7407582' class='xr-var-data-in' type='checkbox'><label for='data-b4aa3d59-9843-4cc2-9b70-737aa7407582' title='Show/Hide data repr'><svg class='icon xr-icon-database'><use xlink:href='#icon-database'></use></svg></label><div class='xr-var-attrs'><dl class='xr-attrs'></dl></div><div class='xr-var-data'><pre>array([[0.94932688, 0.9913291 , 0.94082813, ..., 0.97787596, 0.52318163,\n",
       "        1.        ],\n",
       "       [1.        , 0.70986157, 1.        , ..., 0.84563557, 1.        ,\n",
       "        0.37175342],\n",
       "       [1.        , 0.81416302, 0.90191936, ..., 0.62489667, 1.        ,\n",
       "        1.        ],\n",
       "       [0.9187067 , 0.94058382, 0.65924385, ..., 0.43589821, 1.        ,\n",
       "        0.90578445]])</pre></div></li><li class='xr-var-item'><div class='xr-var-name'><span>index_in_trajectory</span></div><div class='xr-var-dims'>(chain, draw)</div><div class='xr-var-dtype'>int64</div><div class='xr-var-preview xr-preview'>-1 -1 1 1 0 1 0 ... 1 0 1 1 0 1 -2</div><input id='attrs-a891f4bd-9a0e-480e-bb19-1a1e0ee187b3' class='xr-var-attrs-in' type='checkbox' disabled><label for='attrs-a891f4bd-9a0e-480e-bb19-1a1e0ee187b3' title='Show/Hide attributes'><svg class='icon xr-icon-file-text2'><use xlink:href='#icon-file-text2'></use></svg></label><input id='data-e729e912-3f2b-48fd-920e-374209be6c77' class='xr-var-data-in' type='checkbox'><label for='data-e729e912-3f2b-48fd-920e-374209be6c77' title='Show/Hide data repr'><svg class='icon xr-icon-database'><use xlink:href='#icon-database'></use></svg></label><div class='xr-var-attrs'><dl class='xr-attrs'></dl></div><div class='xr-var-data'><pre>array([[-1, -1,  1, ..., -1, -2,  1],\n",
       "       [ 1,  0, -1, ..., -2,  1,  0],\n",
       "       [ 1, -2,  0, ...,  3,  1, -2],\n",
       "       [ 2,  1, -1, ...,  0,  1, -2]])</pre></div></li><li class='xr-var-item'><div class='xr-var-name'><span>energy_error</span></div><div class='xr-var-dims'>(chain, draw)</div><div class='xr-var-dtype'>float64</div><div class='xr-var-preview xr-preview'>0.03862 -0.1138 ... -0.0003655</div><input id='attrs-50d466dd-2bed-4c70-b944-72eba3224944' class='xr-var-attrs-in' type='checkbox' disabled><label for='attrs-50d466dd-2bed-4c70-b944-72eba3224944' title='Show/Hide attributes'><svg class='icon xr-icon-file-text2'><use xlink:href='#icon-file-text2'></use></svg></label><input id='data-4717af6d-e796-4f91-810f-5710e4c6e01e' class='xr-var-data-in' type='checkbox'><label for='data-4717af6d-e796-4f91-810f-5710e4c6e01e' title='Show/Hide data repr'><svg class='icon xr-icon-database'><use xlink:href='#icon-database'></use></svg></label><div class='xr-var-attrs'><dl class='xr-attrs'></dl></div><div class='xr-var-data'><pre>array([[ 3.86183304e-02, -1.13799290e-01,  6.09948055e-02, ...,\n",
       "         2.23724501e-02,  1.76300062e-02, -7.49745715e-02],\n",
       "       [-2.00716338e-01,  0.00000000e+00, -1.44716698e-01, ...,\n",
       "        -5.28948899e-04, -1.72034299e-01,  0.00000000e+00],\n",
       "       [-1.25291149e-03,  2.76220176e-02,  0.00000000e+00, ...,\n",
       "         5.61383405e-01, -5.79064080e-01, -9.85708781e-04],\n",
       "       [-8.02506563e-02,  6.12545106e-02,  4.16661782e-01, ...,\n",
       "         0.00000000e+00, -6.29131658e-03, -3.65532202e-04]])</pre></div></li><li class='xr-var-item'><div class='xr-var-name'><span>diverging</span></div><div class='xr-var-dims'>(chain, draw)</div><div class='xr-var-dtype'>bool</div><div class='xr-var-preview xr-preview'>False False False ... False False</div><input id='attrs-1faf2d14-60e4-4816-8e9c-3c40ee52d867' class='xr-var-attrs-in' type='checkbox' disabled><label for='attrs-1faf2d14-60e4-4816-8e9c-3c40ee52d867' title='Show/Hide attributes'><svg class='icon xr-icon-file-text2'><use xlink:href='#icon-file-text2'></use></svg></label><input id='data-626d2de3-81ea-4d7a-9146-90e4301c333b' class='xr-var-data-in' type='checkbox'><label for='data-626d2de3-81ea-4d7a-9146-90e4301c333b' title='Show/Hide data repr'><svg class='icon xr-icon-database'><use xlink:href='#icon-database'></use></svg></label><div class='xr-var-attrs'><dl class='xr-attrs'></dl></div><div class='xr-var-data'><pre>array([[False, False, False, ..., False, False, False],\n",
       "       [False, False, False, ..., False, False, False],\n",
       "       [False, False, False, ..., False, False, False],\n",
       "       [False, False, False, ..., False, False, False]])</pre></div></li><li class='xr-var-item'><div class='xr-var-name'><span>tree_depth</span></div><div class='xr-var-dims'>(chain, draw)</div><div class='xr-var-dtype'>int64</div><div class='xr-var-preview xr-preview'>2 2 1 2 1 1 1 1 ... 2 1 1 2 1 2 1 2</div><input id='attrs-3ed576c5-ebce-4a36-9819-80df02e3ee7f' class='xr-var-attrs-in' type='checkbox' disabled><label for='attrs-3ed576c5-ebce-4a36-9819-80df02e3ee7f' title='Show/Hide attributes'><svg class='icon xr-icon-file-text2'><use xlink:href='#icon-file-text2'></use></svg></label><input id='data-178b81c1-b1cc-4fad-a56a-bbe6b6e7df74' class='xr-var-data-in' type='checkbox'><label for='data-178b81c1-b1cc-4fad-a56a-bbe6b6e7df74' title='Show/Hide data repr'><svg class='icon xr-icon-database'><use xlink:href='#icon-database'></use></svg></label><div class='xr-var-attrs'><dl class='xr-attrs'></dl></div><div class='xr-var-data'><pre>array([[2, 2, 1, ..., 1, 2, 1],\n",
       "       [2, 1, 1, ..., 2, 2, 1],\n",
       "       [1, 2, 1, ..., 2, 2, 2],\n",
       "       [2, 1, 1, ..., 2, 1, 2]])</pre></div></li><li class='xr-var-item'><div class='xr-var-name'><span>lp</span></div><div class='xr-var-dims'>(chain, draw)</div><div class='xr-var-dtype'>float64</div><div class='xr-var-preview xr-preview'>2.192 2.405 2.291 ... 2.452 2.453</div><input id='attrs-2e061fbe-7c8f-46be-909b-d3f8a19b0ca8' class='xr-var-attrs-in' type='checkbox' disabled><label for='attrs-2e061fbe-7c8f-46be-909b-d3f8a19b0ca8' title='Show/Hide attributes'><svg class='icon xr-icon-file-text2'><use xlink:href='#icon-file-text2'></use></svg></label><input id='data-1b99d1a1-e8ac-4ae2-89af-983a77a1489a' class='xr-var-data-in' type='checkbox'><label for='data-1b99d1a1-e8ac-4ae2-89af-983a77a1489a' title='Show/Hide data repr'><svg class='icon xr-icon-database'><use xlink:href='#icon-database'></use></svg></label><div class='xr-var-attrs'><dl class='xr-attrs'></dl></div><div class='xr-var-data'><pre>array([[2.19223559, 2.40479362, 2.29111428, ..., 2.38994828, 2.28587823,\n",
       "        2.42161404],\n",
       "       [1.84711811, 1.84711811, 2.1583312 , ..., 2.10139521, 2.45582164,\n",
       "        2.45582164],\n",
       "       [2.4534968 , 2.39358899, 2.39358899, ..., 1.10576038, 2.44954476,\n",
       "        2.45187951],\n",
       "       [2.34536488, 2.21220575, 1.32072344, ..., 2.43840365, 2.45241816,\n",
       "        2.45314879]])</pre></div></li><li class='xr-var-item'><div class='xr-var-name'><span>step_size_bar</span></div><div class='xr-var-dims'>(chain, draw)</div><div class='xr-var-dtype'>float64</div><div class='xr-var-preview xr-preview'>1.403 1.403 1.403 ... 1.289 1.289</div><input id='attrs-10faeb53-05f3-4e43-af98-e9547d856e25' class='xr-var-attrs-in' type='checkbox' disabled><label for='attrs-10faeb53-05f3-4e43-af98-e9547d856e25' title='Show/Hide attributes'><svg class='icon xr-icon-file-text2'><use xlink:href='#icon-file-text2'></use></svg></label><input id='data-bd7d49bb-8406-4dca-82af-dd5c19c49aee' class='xr-var-data-in' type='checkbox'><label for='data-bd7d49bb-8406-4dca-82af-dd5c19c49aee' title='Show/Hide data repr'><svg class='icon xr-icon-database'><use xlink:href='#icon-database'></use></svg></label><div class='xr-var-attrs'><dl class='xr-attrs'></dl></div><div class='xr-var-data'><pre>array([[1.40284212, 1.40284212, 1.40284212, ..., 1.40284212, 1.40284212,\n",
       "        1.40284212],\n",
       "       [1.35062612, 1.35062612, 1.35062612, ..., 1.35062612, 1.35062612,\n",
       "        1.35062612],\n",
       "       [1.35440466, 1.35440466, 1.35440466, ..., 1.35440466, 1.35440466,\n",
       "        1.35440466],\n",
       "       [1.2887799 , 1.2887799 , 1.2887799 , ..., 1.2887799 , 1.2887799 ,\n",
       "        1.2887799 ]])</pre></div></li><li class='xr-var-item'><div class='xr-var-name'><span>energy</span></div><div class='xr-var-dims'>(chain, draw)</div><div class='xr-var-dtype'>float64</div><div class='xr-var-preview xr-preview'>-2.087 -2.273 ... -2.443 -2.262</div><input id='attrs-f8673c6b-bc1a-470f-ab80-de7a902e6c39' class='xr-var-attrs-in' type='checkbox' disabled><label for='attrs-f8673c6b-bc1a-470f-ab80-de7a902e6c39' title='Show/Hide attributes'><svg class='icon xr-icon-file-text2'><use xlink:href='#icon-file-text2'></use></svg></label><input id='data-72aa614a-d406-4ab2-9611-6d0699454852' class='xr-var-data-in' type='checkbox'><label for='data-72aa614a-d406-4ab2-9611-6d0699454852' title='Show/Hide data repr'><svg class='icon xr-icon-database'><use xlink:href='#icon-database'></use></svg></label><div class='xr-var-attrs'><dl class='xr-attrs'></dl></div><div class='xr-var-data'><pre>array([[-2.08679304, -2.27298371, -2.25977792, ..., -2.37476943,\n",
       "        -1.29728597, -2.33668626],\n",
       "       [-1.34072522, -1.18115129, -1.85980034, ..., -1.6427196 ,\n",
       "        -2.27321432, -1.43300294],\n",
       "       [-2.45044817, -1.95600228, -2.23288421, ..., -0.73958267,\n",
       "        -1.68235076, -2.44985492],\n",
       "       [-1.95135324, -2.16544725, -1.22563438, ..., -0.12018568,\n",
       "        -2.44303976, -2.26223071]])</pre></div></li><li class='xr-var-item'><div class='xr-var-name'><span>smallest_eigval</span></div><div class='xr-var-dims'>(chain, draw)</div><div class='xr-var-dtype'>float64</div><div class='xr-var-preview xr-preview'>nan nan nan nan ... nan nan nan nan</div><input id='attrs-6e03a914-9924-4ee9-9fd9-3b51063523f6' class='xr-var-attrs-in' type='checkbox' disabled><label for='attrs-6e03a914-9924-4ee9-9fd9-3b51063523f6' title='Show/Hide attributes'><svg class='icon xr-icon-file-text2'><use xlink:href='#icon-file-text2'></use></svg></label><input id='data-308fbcbf-9db2-4bc0-9480-6fb1e4ae0ccd' class='xr-var-data-in' type='checkbox'><label for='data-308fbcbf-9db2-4bc0-9480-6fb1e4ae0ccd' title='Show/Hide data repr'><svg class='icon xr-icon-database'><use xlink:href='#icon-database'></use></svg></label><div class='xr-var-attrs'><dl class='xr-attrs'></dl></div><div class='xr-var-data'><pre>array([[nan, nan, nan, ..., nan, nan, nan],\n",
       "       [nan, nan, nan, ..., nan, nan, nan],\n",
       "       [nan, nan, nan, ..., nan, nan, nan],\n",
       "       [nan, nan, nan, ..., nan, nan, nan]])</pre></div></li><li class='xr-var-item'><div class='xr-var-name'><span>step_size</span></div><div class='xr-var-dims'>(chain, draw)</div><div class='xr-var-dtype'>float64</div><div class='xr-var-preview xr-preview'>1.214 1.214 1.214 ... 1.267 1.267</div><input id='attrs-7de9f6b6-8dee-469b-814a-d58f29506cfb' class='xr-var-attrs-in' type='checkbox' disabled><label for='attrs-7de9f6b6-8dee-469b-814a-d58f29506cfb' title='Show/Hide attributes'><svg class='icon xr-icon-file-text2'><use xlink:href='#icon-file-text2'></use></svg></label><input id='data-ca88a832-5b7b-4974-b8cf-dadaa44e4fb4' class='xr-var-data-in' type='checkbox'><label for='data-ca88a832-5b7b-4974-b8cf-dadaa44e4fb4' title='Show/Hide data repr'><svg class='icon xr-icon-database'><use xlink:href='#icon-database'></use></svg></label><div class='xr-var-attrs'><dl class='xr-attrs'></dl></div><div class='xr-var-data'><pre>array([[1.21417563, 1.21417563, 1.21417563, ..., 1.21417563, 1.21417563,\n",
       "        1.21417563],\n",
       "       [1.37517574, 1.37517574, 1.37517574, ..., 1.37517574, 1.37517574,\n",
       "        1.37517574],\n",
       "       [1.37026742, 1.37026742, 1.37026742, ..., 1.37026742, 1.37026742,\n",
       "        1.37026742],\n",
       "       [1.26676577, 1.26676577, 1.26676577, ..., 1.26676577, 1.26676577,\n",
       "        1.26676577]])</pre></div></li><li class='xr-var-item'><div class='xr-var-name'><span>n_steps</span></div><div class='xr-var-dims'>(chain, draw)</div><div class='xr-var-dtype'>float64</div><div class='xr-var-preview xr-preview'>3.0 3.0 1.0 3.0 ... 1.0 3.0 1.0 3.0</div><input id='attrs-a3bebda4-3b56-4b52-982d-6112b1898ebd' class='xr-var-attrs-in' type='checkbox' disabled><label for='attrs-a3bebda4-3b56-4b52-982d-6112b1898ebd' title='Show/Hide attributes'><svg class='icon xr-icon-file-text2'><use xlink:href='#icon-file-text2'></use></svg></label><input id='data-f720ebd2-944d-4f81-b8d9-555f1e93067f' class='xr-var-data-in' type='checkbox'><label for='data-f720ebd2-944d-4f81-b8d9-555f1e93067f' title='Show/Hide data repr'><svg class='icon xr-icon-database'><use xlink:href='#icon-database'></use></svg></label><div class='xr-var-attrs'><dl class='xr-attrs'></dl></div><div class='xr-var-data'><pre>array([[3., 3., 1., ..., 1., 3., 1.],\n",
       "       [3., 1., 1., ..., 3., 3., 1.],\n",
       "       [1., 3., 1., ..., 3., 3., 3.],\n",
       "       [3., 1., 1., ..., 3., 1., 3.]])</pre></div></li><li class='xr-var-item'><div class='xr-var-name'><span>perf_counter_start</span></div><div class='xr-var-dims'>(chain, draw)</div><div class='xr-var-dtype'>float64</div><div class='xr-var-preview xr-preview'>1.108e+04 1.108e+04 ... 1.109e+04</div><input id='attrs-4c72361d-d5e8-494d-bc6a-4054daca840e' class='xr-var-attrs-in' type='checkbox' disabled><label for='attrs-4c72361d-d5e8-494d-bc6a-4054daca840e' title='Show/Hide attributes'><svg class='icon xr-icon-file-text2'><use xlink:href='#icon-file-text2'></use></svg></label><input id='data-a7ab24e0-bc1d-4c4c-816b-cb28abded29b' class='xr-var-data-in' type='checkbox'><label for='data-a7ab24e0-bc1d-4c4c-816b-cb28abded29b' title='Show/Hide data repr'><svg class='icon xr-icon-database'><use xlink:href='#icon-database'></use></svg></label><div class='xr-var-attrs'><dl class='xr-attrs'></dl></div><div class='xr-var-data'><pre>array([[11082.02392771, 11082.02491073, 11082.0260082 , ...,\n",
       "        11083.29722301, 11083.30015839, 11083.30300526],\n",
       "       [11082.09490515, 11082.09611267, 11082.09691983, ...,\n",
       "        11083.4544331 , 11083.45550999, 11083.45669437],\n",
       "       [11084.807565  , 11084.80827422, 11084.80929111, ...,\n",
       "        11086.02658877, 11086.02817747, 11086.0292896 ],\n",
       "       [11084.95592057, 11084.95668966, 11084.95721496, ...,\n",
       "        11086.17261525, 11086.17325128, 11086.17365709]])</pre></div></li><li class='xr-var-item'><div class='xr-var-name'><span>process_time_diff</span></div><div class='xr-var-dims'>(chain, draw)</div><div class='xr-var-dtype'>float64</div><div class='xr-var-preview xr-preview'>0.000638 0.000877 ... 0.000503</div><input id='attrs-9d49d197-744f-46aa-82eb-3a8749286297' class='xr-var-attrs-in' type='checkbox' disabled><label for='attrs-9d49d197-744f-46aa-82eb-3a8749286297' title='Show/Hide attributes'><svg class='icon xr-icon-file-text2'><use xlink:href='#icon-file-text2'></use></svg></label><input id='data-20a78de5-cfc0-43f7-b53e-7e62adee0bde' class='xr-var-data-in' type='checkbox'><label for='data-20a78de5-cfc0-43f7-b53e-7e62adee0bde' title='Show/Hide data repr'><svg class='icon xr-icon-database'><use xlink:href='#icon-database'></use></svg></label><div class='xr-var-attrs'><dl class='xr-attrs'></dl></div><div class='xr-var-data'><pre>array([[0.000638, 0.000877, 0.00046 , ..., 0.001698, 0.001201, 0.000535],\n",
       "       [0.000925, 0.000485, 0.000649, ..., 0.000842, 0.000904, 0.000321],\n",
       "       [0.000487, 0.000823, 0.000463, ..., 0.000935, 0.000806, 0.00083 ],\n",
       "       [0.00058 , 0.000319, 0.000701, ..., 0.000491, 0.000262, 0.000503]])</pre></div></li><li class='xr-var-item'><div class='xr-var-name'><span>perf_counter_diff</span></div><div class='xr-var-dims'>(chain, draw)</div><div class='xr-var-dtype'>float64</div><div class='xr-var-preview xr-preview'>0.0007534 0.0008766 ... 0.0005026</div><input id='attrs-553c00d8-a35b-41bd-b4e8-acf711c57301' class='xr-var-attrs-in' type='checkbox' disabled><label for='attrs-553c00d8-a35b-41bd-b4e8-acf711c57301' title='Show/Hide attributes'><svg class='icon xr-icon-file-text2'><use xlink:href='#icon-file-text2'></use></svg></label><input id='data-befe7315-a080-43ab-b83f-71b270837928' class='xr-var-data-in' type='checkbox'><label for='data-befe7315-a080-43ab-b83f-71b270837928' title='Show/Hide data repr'><svg class='icon xr-icon-database'><use xlink:href='#icon-database'></use></svg></label><div class='xr-var-attrs'><dl class='xr-attrs'></dl></div><div class='xr-var-data'><pre>array([[0.00075343, 0.0008766 , 0.00045958, ..., 0.00213011, 0.00250538,\n",
       "        0.000535  ],\n",
       "       [0.00092554, 0.00048462, 0.0012222 , ..., 0.00084089, 0.00090526,\n",
       "        0.0003207 ],\n",
       "       [0.00048767, 0.00082265, 0.00046247, ..., 0.00123089, 0.00081718,\n",
       "        0.00095581],\n",
       "       [0.00058018, 0.00032677, 0.00113393, ..., 0.00049066, 0.00026192,\n",
       "        0.00050256]])</pre></div></li></ul></div></li><li class='xr-section-item'><input id='section-b9740e9e-155e-4402-a44d-ce4ff5407694' class='xr-section-summary-in' type='checkbox'  ><label for='section-b9740e9e-155e-4402-a44d-ce4ff5407694' class='xr-section-summary' >Indexes: <span>(2)</span></label><div class='xr-section-inline-details'></div><div class='xr-section-details'><ul class='xr-var-list'><li class='xr-var-item'><div class='xr-index-name'><div>chain</div></div><div class='xr-index-preview'>PandasIndex</div><div></div><input id='index-91b2afdf-f325-43d8-8933-883d924bffaa' class='xr-index-data-in' type='checkbox'/><label for='index-91b2afdf-f325-43d8-8933-883d924bffaa' title='Show/Hide index repr'><svg class='icon xr-icon-database'><use xlink:href='#icon-database'></use></svg></label><div class='xr-index-data'><pre>PandasIndex(Int64Index([0, 1, 2, 3], dtype=&#x27;int64&#x27;, name=&#x27;chain&#x27;))</pre></div></li><li class='xr-var-item'><div class='xr-index-name'><div>draw</div></div><div class='xr-index-preview'>PandasIndex</div><div></div><input id='index-4d320cec-dc86-4978-8ec2-3318d6bb90ec' class='xr-index-data-in' type='checkbox'/><label for='index-4d320cec-dc86-4978-8ec2-3318d6bb90ec' title='Show/Hide index repr'><svg class='icon xr-icon-database'><use xlink:href='#icon-database'></use></svg></label><div class='xr-index-data'><pre>PandasIndex(Int64Index([  0,   1,   2,   3,   4,   5,   6,   7,   8,   9,\n",
       "            ...\n",
       "            990, 991, 992, 993, 994, 995, 996, 997, 998, 999],\n",
       "           dtype=&#x27;int64&#x27;, name=&#x27;draw&#x27;, length=1000))</pre></div></li></ul></div></li><li class='xr-section-item'><input id='section-ee5d99c9-d261-45ec-a0ff-6cc80246daa9' class='xr-section-summary-in' type='checkbox'  checked><label for='section-ee5d99c9-d261-45ec-a0ff-6cc80246daa9' class='xr-section-summary' >Attributes: <span>(6)</span></label><div class='xr-section-inline-details'></div><div class='xr-section-details'><dl class='xr-attrs'><dt><span>created_at :</span></dt><dd>2023-08-22T19:35:39.594065</dd><dt><span>arviz_version :</span></dt><dd>0.15.1</dd><dt><span>inference_library :</span></dt><dd>pymc</dd><dt><span>inference_library_version :</span></dt><dd>5.4.0</dd><dt><span>sampling_time :</span></dt><dd>34.67947864532471</dd><dt><span>tuning_steps :</span></dt><dd>1000</dd></dl></div></li></ul></div></div><br></div>\n",
       "                      </ul>\n",
       "                  </div>\n",
       "            </li>\n",
       "            \n",
       "              </ul>\n",
       "            </div>\n",
       "            <style> /* CSS stylesheet for displaying InferenceData objects in jupyterlab.\n",
       " *\n",
       " */\n",
       "\n",
       ":root {\n",
       "  --xr-font-color0: var(--jp-content-font-color0, rgba(0, 0, 0, 1));\n",
       "  --xr-font-color2: var(--jp-content-font-color2, rgba(0, 0, 0, 0.54));\n",
       "  --xr-font-color3: var(--jp-content-font-color3, rgba(0, 0, 0, 0.38));\n",
       "  --xr-border-color: var(--jp-border-color2, #e0e0e0);\n",
       "  --xr-disabled-color: var(--jp-layout-color3, #bdbdbd);\n",
       "  --xr-background-color: var(--jp-layout-color0, white);\n",
       "  --xr-background-color-row-even: var(--jp-layout-color1, white);\n",
       "  --xr-background-color-row-odd: var(--jp-layout-color2, #eeeeee);\n",
       "}\n",
       "\n",
       "html[theme=dark],\n",
       "body.vscode-dark {\n",
       "  --xr-font-color0: rgba(255, 255, 255, 1);\n",
       "  --xr-font-color2: rgba(255, 255, 255, 0.54);\n",
       "  --xr-font-color3: rgba(255, 255, 255, 0.38);\n",
       "  --xr-border-color: #1F1F1F;\n",
       "  --xr-disabled-color: #515151;\n",
       "  --xr-background-color: #111111;\n",
       "  --xr-background-color-row-even: #111111;\n",
       "  --xr-background-color-row-odd: #313131;\n",
       "}\n",
       "\n",
       ".xr-wrap {\n",
       "  display: block;\n",
       "  min-width: 300px;\n",
       "  max-width: 700px;\n",
       "}\n",
       "\n",
       ".xr-text-repr-fallback {\n",
       "  /* fallback to plain text repr when CSS is not injected (untrusted notebook) */\n",
       "  display: none;\n",
       "}\n",
       "\n",
       ".xr-header {\n",
       "  padding-top: 6px;\n",
       "  padding-bottom: 6px;\n",
       "  margin-bottom: 4px;\n",
       "  border-bottom: solid 1px var(--xr-border-color);\n",
       "}\n",
       "\n",
       ".xr-header > div,\n",
       ".xr-header > ul {\n",
       "  display: inline;\n",
       "  margin-top: 0;\n",
       "  margin-bottom: 0;\n",
       "}\n",
       "\n",
       ".xr-obj-type,\n",
       ".xr-array-name {\n",
       "  margin-left: 2px;\n",
       "  margin-right: 10px;\n",
       "}\n",
       "\n",
       ".xr-obj-type {\n",
       "  color: var(--xr-font-color2);\n",
       "}\n",
       "\n",
       ".xr-sections {\n",
       "  padding-left: 0 !important;\n",
       "  display: grid;\n",
       "  grid-template-columns: 150px auto auto 1fr 20px 20px;\n",
       "}\n",
       "\n",
       ".xr-sections.group-sections {\n",
       "  grid-template-columns: auto;\n",
       "}\n",
       "\n",
       ".xr-section-item {\n",
       "  display: contents;\n",
       "}\n",
       "\n",
       ".xr-section-item input {\n",
       "  display: none;\n",
       "}\n",
       "\n",
       ".xr-section-item input + label {\n",
       "  color: var(--xr-disabled-color);\n",
       "}\n",
       "\n",
       ".xr-section-item input:enabled + label {\n",
       "  cursor: pointer;\n",
       "  color: var(--xr-font-color2);\n",
       "}\n",
       "\n",
       ".xr-section-item input:enabled + label:hover {\n",
       "  color: var(--xr-font-color0);\n",
       "}\n",
       "\n",
       ".xr-section-summary {\n",
       "  grid-column: 1;\n",
       "  color: var(--xr-font-color2);\n",
       "  font-weight: 500;\n",
       "}\n",
       "\n",
       ".xr-section-summary > span {\n",
       "  display: inline-block;\n",
       "  padding-left: 0.5em;\n",
       "}\n",
       "\n",
       ".xr-section-summary-in:disabled + label {\n",
       "  color: var(--xr-font-color2);\n",
       "}\n",
       "\n",
       ".xr-section-summary-in + label:before {\n",
       "  display: inline-block;\n",
       "  content: '►';\n",
       "  font-size: 11px;\n",
       "  width: 15px;\n",
       "  text-align: center;\n",
       "}\n",
       "\n",
       ".xr-section-summary-in:disabled + label:before {\n",
       "  color: var(--xr-disabled-color);\n",
       "}\n",
       "\n",
       ".xr-section-summary-in:checked + label:before {\n",
       "  content: '▼';\n",
       "}\n",
       "\n",
       ".xr-section-summary-in:checked + label > span {\n",
       "  display: none;\n",
       "}\n",
       "\n",
       ".xr-section-summary,\n",
       ".xr-section-inline-details {\n",
       "  padding-top: 4px;\n",
       "  padding-bottom: 4px;\n",
       "}\n",
       "\n",
       ".xr-section-inline-details {\n",
       "  grid-column: 2 / -1;\n",
       "}\n",
       "\n",
       ".xr-section-details {\n",
       "  display: none;\n",
       "  grid-column: 1 / -1;\n",
       "  margin-bottom: 5px;\n",
       "}\n",
       "\n",
       ".xr-section-summary-in:checked ~ .xr-section-details {\n",
       "  display: contents;\n",
       "}\n",
       "\n",
       ".xr-array-wrap {\n",
       "  grid-column: 1 / -1;\n",
       "  display: grid;\n",
       "  grid-template-columns: 20px auto;\n",
       "}\n",
       "\n",
       ".xr-array-wrap > label {\n",
       "  grid-column: 1;\n",
       "  vertical-align: top;\n",
       "}\n",
       "\n",
       ".xr-preview {\n",
       "  color: var(--xr-font-color3);\n",
       "}\n",
       "\n",
       ".xr-array-preview,\n",
       ".xr-array-data {\n",
       "  padding: 0 5px !important;\n",
       "  grid-column: 2;\n",
       "}\n",
       "\n",
       ".xr-array-data,\n",
       ".xr-array-in:checked ~ .xr-array-preview {\n",
       "  display: none;\n",
       "}\n",
       "\n",
       ".xr-array-in:checked ~ .xr-array-data,\n",
       ".xr-array-preview {\n",
       "  display: inline-block;\n",
       "}\n",
       "\n",
       ".xr-dim-list {\n",
       "  display: inline-block !important;\n",
       "  list-style: none;\n",
       "  padding: 0 !important;\n",
       "  margin: 0;\n",
       "}\n",
       "\n",
       ".xr-dim-list li {\n",
       "  display: inline-block;\n",
       "  padding: 0;\n",
       "  margin: 0;\n",
       "}\n",
       "\n",
       ".xr-dim-list:before {\n",
       "  content: '(';\n",
       "}\n",
       "\n",
       ".xr-dim-list:after {\n",
       "  content: ')';\n",
       "}\n",
       "\n",
       ".xr-dim-list li:not(:last-child):after {\n",
       "  content: ',';\n",
       "  padding-right: 5px;\n",
       "}\n",
       "\n",
       ".xr-has-index {\n",
       "  font-weight: bold;\n",
       "}\n",
       "\n",
       ".xr-var-list,\n",
       ".xr-var-item {\n",
       "  display: contents;\n",
       "}\n",
       "\n",
       ".xr-var-item > div,\n",
       ".xr-var-item label,\n",
       ".xr-var-item > .xr-var-name span {\n",
       "  background-color: var(--xr-background-color-row-even);\n",
       "  margin-bottom: 0;\n",
       "}\n",
       "\n",
       ".xr-var-item > .xr-var-name:hover span {\n",
       "  padding-right: 5px;\n",
       "}\n",
       "\n",
       ".xr-var-list > li:nth-child(odd) > div,\n",
       ".xr-var-list > li:nth-child(odd) > label,\n",
       ".xr-var-list > li:nth-child(odd) > .xr-var-name span {\n",
       "  background-color: var(--xr-background-color-row-odd);\n",
       "}\n",
       "\n",
       ".xr-var-name {\n",
       "  grid-column: 1;\n",
       "}\n",
       "\n",
       ".xr-var-dims {\n",
       "  grid-column: 2;\n",
       "}\n",
       "\n",
       ".xr-var-dtype {\n",
       "  grid-column: 3;\n",
       "  text-align: right;\n",
       "  color: var(--xr-font-color2);\n",
       "}\n",
       "\n",
       ".xr-var-preview {\n",
       "  grid-column: 4;\n",
       "}\n",
       "\n",
       ".xr-var-name,\n",
       ".xr-var-dims,\n",
       ".xr-var-dtype,\n",
       ".xr-preview,\n",
       ".xr-attrs dt {\n",
       "  white-space: nowrap;\n",
       "  overflow: hidden;\n",
       "  text-overflow: ellipsis;\n",
       "  padding-right: 10px;\n",
       "}\n",
       "\n",
       ".xr-var-name:hover,\n",
       ".xr-var-dims:hover,\n",
       ".xr-var-dtype:hover,\n",
       ".xr-attrs dt:hover {\n",
       "  overflow: visible;\n",
       "  width: auto;\n",
       "  z-index: 1;\n",
       "}\n",
       "\n",
       ".xr-var-attrs,\n",
       ".xr-var-data {\n",
       "  display: none;\n",
       "  background-color: var(--xr-background-color) !important;\n",
       "  padding-bottom: 5px !important;\n",
       "}\n",
       "\n",
       ".xr-var-attrs-in:checked ~ .xr-var-attrs,\n",
       ".xr-var-data-in:checked ~ .xr-var-data {\n",
       "  display: block;\n",
       "}\n",
       "\n",
       ".xr-var-data > table {\n",
       "  float: right;\n",
       "}\n",
       "\n",
       ".xr-var-name span,\n",
       ".xr-var-data,\n",
       ".xr-attrs {\n",
       "  padding-left: 25px !important;\n",
       "}\n",
       "\n",
       ".xr-attrs,\n",
       ".xr-var-attrs,\n",
       ".xr-var-data {\n",
       "  grid-column: 1 / -1;\n",
       "}\n",
       "\n",
       "dl.xr-attrs {\n",
       "  padding: 0;\n",
       "  margin: 0;\n",
       "  display: grid;\n",
       "  grid-template-columns: 125px auto;\n",
       "}\n",
       "\n",
       ".xr-attrs dt, dd {\n",
       "  padding: 0;\n",
       "  margin: 0;\n",
       "  float: left;\n",
       "  padding-right: 10px;\n",
       "  width: auto;\n",
       "}\n",
       "\n",
       ".xr-attrs dt {\n",
       "  font-weight: normal;\n",
       "  grid-column: 1;\n",
       "}\n",
       "\n",
       ".xr-attrs dt:hover span {\n",
       "  display: inline-block;\n",
       "  background: var(--xr-background-color);\n",
       "  padding-right: 10px;\n",
       "}\n",
       "\n",
       ".xr-attrs dd {\n",
       "  grid-column: 2;\n",
       "  white-space: pre-wrap;\n",
       "  word-break: break-all;\n",
       "}\n",
       "\n",
       ".xr-icon-database,\n",
       ".xr-icon-file-text2 {\n",
       "  display: inline-block;\n",
       "  vertical-align: middle;\n",
       "  width: 1em;\n",
       "  height: 1.5em !important;\n",
       "  stroke-width: 0;\n",
       "  stroke: currentColor;\n",
       "  fill: currentColor;\n",
       "}\n",
       ".xr-wrap{width:700px!important;} </style>"
      ],
      "text/plain": [
       "Inference data with groups:\n",
       "\t> posterior\n",
       "\t> sample_stats"
      ]
     },
     "execution_count": 188,
     "metadata": {},
     "output_type": "execute_result"
    }
   ],
   "source": [
    "sig_trace"
   ]
  },
  {
   "cell_type": "markdown",
   "id": "19ffbfb2",
   "metadata": {},
   "source": [
    "## 1000 Draws"
   ]
  },
  {
   "cell_type": "markdown",
   "id": "ad05c43e",
   "metadata": {},
   "source": [
    "### $\\Delta m = -\\frac{ln[(A - N)/B]}{c}$\n",
    "$r = N(r_2^2 - r_1^2) + r_1^2$"
   ]
  },
  {
   "cell_type": "code",
   "execution_count": 376,
   "id": "2f98279e",
   "metadata": {},
   "outputs": [],
   "source": [
    "def solv_delm(n_):\n",
    "    a, b, c = 1.53778978, 1.49562009, 0.14470388\n",
    "    return -1 * np.log((a-n_)/b) / c\n",
    "\n",
    "def solv_r(n_):\n",
    "    r1, r2 = 100, 1000\n",
    "    return np.sqrt(n_ * (r2**2 - r1**2) + r1**2)"
   ]
  },
  {
   "cell_type": "code",
   "execution_count": null,
   "id": "a4e72b01",
   "metadata": {},
   "outputs": [],
   "source": []
  },
  {
   "cell_type": "code",
   "execution_count": null,
   "id": "c1bc9088",
   "metadata": {},
   "outputs": [],
   "source": []
  },
  {
   "cell_type": "code",
   "execution_count": 206,
   "id": "e78401c4",
   "metadata": {
    "scrolled": false
   },
   "outputs": [
    {
     "data": {
      "text/plain": [
       "Text(0, 0.5, 'P($\\\\Sigma$)')"
      ]
     },
     "execution_count": 206,
     "metadata": {},
     "output_type": "execute_result"
    },
    {
     "data": {
      "image/png": "[encoded data removed]",
      "text/plain": [
       "<Figure size 640x480 with 1 Axes>"
      ]
     },
     "metadata": {},
     "output_type": "display_data"
    }
   ],
   "source": [
    "#with 1000 draws hist\n",
    "fig, ax = plt.subplots()\n",
    "ax.hist(sig_forecast.posterior_predictive['sig'].data.flatten()\n",
    "        , density=True, bins=np.linspace(1.10e-5, 1.5e-5, 100), color='maroon')\n",
    "ax.set_xlabel('$\\Sigma$')\n",
    "ax.set_ylabel('P($\\Sigma$)')"
   ]
  },
  {
   "cell_type": "code",
   "execution_count": 207,
   "id": "6887668f",
   "metadata": {
    "scrolled": true
   },
   "outputs": [
    {
     "data": {
      "text/plain": [
       "Text(0, 0.5, 'P($\\\\Sigma$)')"
      ]
     },
     "execution_count": 207,
     "metadata": {},
     "output_type": "execute_result"
    },
    {
     "data": {
      "image/png": "[encoded data removed]",
      "text/plain": [
       "<Figure size 640x480 with 1 Axes>"
      ]
     },
     "metadata": {},
     "output_type": "display_data"
    }
   ],
   "source": [
    "plt.subplots()\n",
    "plt.plot(sig_forecast.posterior_predictive['sig'].data.flatten(), '.', ms=1, \n",
    "         color='maroon')\n",
    "plt.ylabel('P($\\Sigma$)')"
   ]
  },
  {
   "cell_type": "code",
   "execution_count": 212,
   "id": "3399848e",
   "metadata": {},
   "outputs": [
    {
     "data": {
      "text/plain": [
       "(100, 1000)"
      ]
     },
     "execution_count": 212,
     "metadata": {},
     "output_type": "execute_result"
    }
   ],
   "source": [
    "\n",
    "O_comp = np.pi*(r2**2-r1**1)\n",
    "r1, r2"
   ]
  },
  {
   "cell_type": "code",
   "execution_count": 240,
   "id": "89c3e08b",
   "metadata": {},
   "outputs": [
    {
     "name": "stdout",
     "output_type": "stream",
     "text": [
      "246216\n",
      "501488\n",
      "217474\n",
      "386269\n",
      "208693\n",
      "994407\n",
      "465078\n",
      "909263\n",
      "468670\n",
      "531430\n"
     ]
    }
   ],
   "source": [
    "for i in range(10):\n",
    "    #random.seed()\n",
    "    print(np.random.randint(1000000))"
   ]
  },
  {
   "cell_type": "code",
   "execution_count": 213,
   "id": "1272e202",
   "metadata": {},
   "outputs": [
    {
     "name": "stderr",
     "output_type": "stream",
     "text": [
      "Multiprocess sampling (4 chains in 2 jobs)\n",
      "Metropolis: [Ncont]\n"
     ]
    },
    {
     "data": {
      "text/html": [
       "\n",
       "<style>\n",
       "    /* Turns off some styling */\n",
       "    progress {\n",
       "        /* gets rid of default border in Firefox and Opera. */\n",
       "        border: none;\n",
       "        /* Needs to be in here for Safari polyfill so background images work as expected. */\n",
       "        background-size: auto;\n",
       "    }\n",
       "    progress:not([value]), progress:not([value])::-webkit-progress-bar {\n",
       "        background: repeating-linear-gradient(45deg, #7e7e7e, #7e7e7e 10px, #5c5c5c 10px, #5c5c5c 20px);\n",
       "    }\n",
       "    .progress-bar-interrupted, .progress-bar-interrupted::-webkit-progress-bar {\n",
       "        background: #F44336;\n",
       "    }\n",
       "</style>\n"
      ],
      "text/plain": [
       "<IPython.core.display.HTML object>"
      ]
     },
     "metadata": {},
     "output_type": "display_data"
    },
    {
     "data": {
      "text/html": [
       "\n",
       "    <div>\n",
       "      <progress value='8000' class='' max='8000' style='width:300px; height:20px; vertical-align: middle;'></progress>\n",
       "      100.00% [8000/8000 00:02&lt;00:00 Sampling 4 chains, 0 divergences]\n",
       "    </div>\n",
       "    "
      ],
      "text/plain": [
       "<IPython.core.display.HTML object>"
      ]
     },
     "metadata": {},
     "output_type": "display_data"
    },
    {
     "name": "stderr",
     "output_type": "stream",
     "text": [
      "Sampling 4 chains for 1_000 tune and 1_000 draw iterations (4_000 + 4_000 draws total) took 33 seconds.\n",
      "Sampling: [Ncont]\n"
     ]
    },
    {
     "data": {
      "text/html": [
       "\n",
       "<style>\n",
       "    /* Turns off some styling */\n",
       "    progress {\n",
       "        /* gets rid of default border in Firefox and Opera. */\n",
       "        border: none;\n",
       "        /* Needs to be in here for Safari polyfill so background images work as expected. */\n",
       "        background-size: auto;\n",
       "    }\n",
       "    progress:not([value]), progress:not([value])::-webkit-progress-bar {\n",
       "        background: repeating-linear-gradient(45deg, #7e7e7e, #7e7e7e 10px, #5c5c5c 10px, #5c5c5c 20px);\n",
       "    }\n",
       "    .progress-bar-interrupted, .progress-bar-interrupted::-webkit-progress-bar {\n",
       "        background: #F44336;\n",
       "    }\n",
       "</style>\n"
      ],
      "text/plain": [
       "<IPython.core.display.HTML object>"
      ]
     },
     "metadata": {},
     "output_type": "display_data"
    },
    {
     "data": {
      "text/html": [
       "\n",
       "    <div>\n",
       "      <progress value='4000' class='' max='4000' style='width:300px; height:20px; vertical-align: middle;'></progress>\n",
       "      100.00% [4000/4000 00:00&lt;00:00]\n",
       "    </div>\n",
       "    "
      ],
      "text/plain": [
       "<IPython.core.display.HTML object>"
      ]
     },
     "metadata": {},
     "output_type": "display_data"
    }
   ],
   "source": [
    "sig_       = sig_forecast.posterior_predictive['sig'].data.flatten()\n",
    "chosen_sig = random.choice(sig_)\n",
    "\n",
    "\n",
    "SEED = np.random.randint(100000)\n",
    "\n",
    "SAMPLE_KWARGS = {\"chains\": 4, \"tune\": 1000,\n",
    "                 \"random_seed\": [SEED, SEED + 1, SEED + 2, SEED + 3]}\n",
    "\n",
    "with pm.Model() as P_Ncont:\n",
    "    y_obs = pm.Poisson('Ncont', mu=chosen_sig*O_comp)\n",
    "    Ncont_trace = pm.sample(draws=1000, chains=4, seed=SAMPLE_KWARGS)\n",
    "    Ncont_forecast = pm.sample_posterior_predictive(Ncont_trace, var_names=['Ncont'])\n",
    "    \n",
    "chosen_N = random.choice(N_)\n",
    "\n",
    "n_bin, bins, a = plt.hist(N_, cumulative=True, density=True, \n",
    "                      bins=np.arange(24.5, 65.5, 1))\n"
   ]
  },
  {
   "cell_type": "code",
   "execution_count": 482,
   "id": "bf0bb857",
   "metadata": {
    "scrolled": true
   },
   "outputs": [
    {
     "name": "stdout",
     "output_type": "stream",
     "text": [
      "Help on class Exponential in module pymc.distributions.continuous:\n",
      "\n",
      "class Exponential(PositiveContinuous)\n",
      " |  Exponential(name: str, *args, rng=None, dims: Union[str, Sequence[Optional[str]], NoneType] = None, initval=None, observed=None, total_size=None, transform=UNSET, **kwargs) -> pytensor.tensor.var.TensorVariable\n",
      " |  \n",
      " |  Exponential log-likelihood.\n",
      " |  \n",
      " |  The pdf of this distribution is\n",
      " |  \n",
      " |  .. math::\n",
      " |  \n",
      " |     f(x \\mid \\lambda) = \\lambda \\exp\\left\\{ -\\lambda x \\right\\}\n",
      " |  \n",
      " |  .. plot::\n",
      " |      :context: close-figs\n",
      " |  \n",
      " |      import matplotlib.pyplot as plt\n",
      " |      import numpy as np\n",
      " |      import scipy.stats as st\n",
      " |      import arviz as az\n",
      " |      plt.style.use('arviz-darkgrid')\n",
      " |      x = np.linspace(0, 3, 100)\n",
      " |      for lam in [0.5, 1., 2.]:\n",
      " |          pdf = st.expon.pdf(x, scale=1.0/lam)\n",
      " |          plt.plot(x, pdf, label=r'$\\lambda$ = {}'.format(lam))\n",
      " |      plt.xlabel('x', fontsize=12)\n",
      " |      plt.ylabel('f(x)', fontsize=12)\n",
      " |      plt.legend(loc=1)\n",
      " |      plt.show()\n",
      " |  \n",
      " |  ========  ============================\n",
      " |  Support   :math:`x \\in [0, \\infty)`\n",
      " |  Mean      :math:`\\dfrac{1}{\\lambda}`\n",
      " |  Variance  :math:`\\dfrac{1}{\\lambda^2}`\n",
      " |  ========  ============================\n",
      " |  \n",
      " |  Parameters\n",
      " |  ----------\n",
      " |  lam : tensor_like of float\n",
      " |      Rate or inverse scale (``lam`` > 0).\n",
      " |  scale: tensor_like of float\n",
      " |      Alternative parameter (scale = 1/lam).\n",
      " |  \n",
      " |  Method resolution order:\n",
      " |      Exponential\n",
      " |      PositiveContinuous\n",
      " |      pymc.distributions.distribution.Continuous\n",
      " |      pymc.distributions.distribution.Distribution\n",
      " |      builtins.object\n",
      " |  \n",
      " |  Methods defined here:\n",
      " |  \n",
      " |  icdf(value, mu)\n",
      " |  \n",
      " |  logcdf(value, mu)\n",
      " |  \n",
      " |  logp(value, mu)\n",
      " |  \n",
      " |  moment(rv, size, mu)\n",
      " |  \n",
      " |  ----------------------------------------------------------------------\n",
      " |  Class methods defined here:\n",
      " |  \n",
      " |  dist(lam=None, scale=None, *args, **kwargs) from pymc.distributions.distribution.DistributionMeta\n",
      " |      Creates a tensor variable corresponding to the `cls` distribution.\n",
      " |      \n",
      " |      Parameters\n",
      " |      ----------\n",
      " |      dist_params : array-like\n",
      " |          The inputs to the `RandomVariable` `Op`.\n",
      " |      shape : int, tuple, Variable, optional\n",
      " |          A tuple of sizes for each dimension of the new RV.\n",
      " |      **kwargs\n",
      " |          Keyword arguments that will be forwarded to the PyTensor RV Op.\n",
      " |          Most prominently: ``size`` or ``dtype``.\n",
      " |      \n",
      " |      Returns\n",
      " |      -------\n",
      " |      rv : TensorVariable\n",
      " |          The created random variable tensor.\n",
      " |  \n",
      " |  ----------------------------------------------------------------------\n",
      " |  Data and other attributes defined here:\n",
      " |  \n",
      " |  __abstractmethods__ = frozenset()\n",
      " |  \n",
      " |  rv_op = <pytensor.tensor.random.basic.ExponentialRV object>\n",
      " |  \n",
      " |  rv_type = <class 'pytensor.tensor.random.basic.ExponentialRV'>\n",
      " |      An exponential continuous random variable.\n",
      " |      \n",
      " |      The probability density function for `exponential` in terms of its scale parameter :math:`\\beta` is:\n",
      " |      \n",
      " |      .. math::\n",
      " |      \n",
      " |          f(x; \\beta) = \\frac{\\exp(-x / \\beta)}{\\beta}\n",
      " |      \n",
      " |      for :math:`x \\geq 0` and :math:`\\beta > 0`.\n",
      " |  \n",
      " |  \n",
      " |  ----------------------------------------------------------------------\n",
      " |  Static methods inherited from pymc.distributions.distribution.Distribution:\n",
      " |  \n",
      " |  __new__(cls, name: str, *args, rng=None, dims: Union[str, Sequence[Optional[str]], NoneType] = None, initval=None, observed=None, total_size=None, transform=UNSET, **kwargs) -> pytensor.tensor.var.TensorVariable\n",
      " |      Adds a tensor variable corresponding to a PyMC distribution to the current model.\n",
      " |      \n",
      " |      Note that all remaining kwargs must be compatible with ``.dist()``\n",
      " |      \n",
      " |      Parameters\n",
      " |      ----------\n",
      " |      cls : type\n",
      " |          A PyMC distribution.\n",
      " |      name : str\n",
      " |          Name for the new model variable.\n",
      " |      rng : optional\n",
      " |          Random number generator to use with the RandomVariable.\n",
      " |      dims : tuple, optional\n",
      " |          A tuple of dimension names known to the model. When shape is not provided,\n",
      " |          the shape of dims is used to define the shape of the variable.\n",
      " |      initval : optional\n",
      " |          Numeric or symbolic untransformed initial value of matching shape,\n",
      " |          or one of the following initial value strategies: \"moment\", \"prior\".\n",
      " |          Depending on the sampler's settings, a random jitter may be added to numeric, symbolic\n",
      " |          or moment-based initial values in the transformed space.\n",
      " |      observed : optional\n",
      " |          Observed data to be passed when registering the random variable in the model.\n",
      " |          When neither shape nor dims is provided, the shape of observed is used to\n",
      " |          define the shape of the variable.\n",
      " |          See ``Model.register_rv``.\n",
      " |      total_size : float, optional\n",
      " |          See ``Model.register_rv``.\n",
      " |      transform : optional\n",
      " |          See ``Model.register_rv``.\n",
      " |      **kwargs\n",
      " |          Keyword arguments that will be forwarded to ``.dist()`` or the PyTensor RV Op.\n",
      " |          Most prominently: ``shape`` for ``.dist()`` or ``dtype`` for the Op.\n",
      " |      \n",
      " |      Returns\n",
      " |      -------\n",
      " |      rv : TensorVariable\n",
      " |          The created random variable tensor, registered in the Model.\n",
      " |  \n",
      " |  ----------------------------------------------------------------------\n",
      " |  Data descriptors inherited from pymc.distributions.distribution.Distribution:\n",
      " |  \n",
      " |  __dict__\n",
      " |      dictionary for instance variables (if defined)\n",
      " |  \n",
      " |  __weakref__\n",
      " |      list of weak references to the object (if defined)\n",
      " |  \n",
      " |  ----------------------------------------------------------------------\n",
      " |  Data and other attributes inherited from pymc.distributions.distribution.Distribution:\n",
      " |  \n",
      " |  __annotations__ = {'rv_op': [<class 'pytensor.tensor.random.op.RandomV...\n",
      "\n"
     ]
    }
   ],
   "source": [
    "help(pm.Exponential)"
   ]
  },
  {
   "cell_type": "code",
   "execution_count": 484,
   "id": "1dc854e6",
   "metadata": {},
   "outputs": [
    {
     "ename": "NameError",
     "evalue": "name 'pop' is not defined",
     "output_type": "error",
     "traceback": [
      "\u001b[0;31m---------------------------------------------------------------------------\u001b[0m",
      "\u001b[0;31mNameError\u001b[0m                                 Traceback (most recent call last)",
      "Cell \u001b[0;32mIn[484], line 5\u001b[0m\n\u001b[1;32m      1\u001b[0m \u001b[38;5;66;03m#SEED = np.random.randint(100000)\u001b[39;00m\n\u001b[1;32m      2\u001b[0m \n\u001b[1;32m      3\u001b[0m \u001b[38;5;66;03m#SAMPLE_KWARGS = {\"chains\": 4, \"tune\": 100,\u001b[39;00m\n\u001b[1;32m      4\u001b[0m \u001b[38;5;66;03m#                 \"random_seed\": [SEED, SEED + 1, SEED + 2, SEED + 3]}\u001b[39;00m\n\u001b[0;32m----> 5\u001b[0m a, b, c \u001b[38;5;241m=\u001b[39m \u001b[43mpop\u001b[49m\n\u001b[1;32m      6\u001b[0m \u001b[38;5;28;01mwith\u001b[39;00m pm\u001b[38;5;241m.\u001b[39mModel() \u001b[38;5;28;01mas\u001b[39;00m P_dm:\n\u001b[1;32m      7\u001b[0m     y_obs \u001b[38;5;241m=\u001b[39m popt[\u001b[38;5;241m0\u001b[39m] \u001b[38;5;241m-\u001b[39m popt[\u001b[38;5;241m1\u001b[39m]\u001b[38;5;241m/\u001b[39mpopt[\u001b[38;5;241m2\u001b[39m]\u001b[38;5;241m*\u001b[39mpm\u001b[38;5;241m.\u001b[39mExponential(\u001b[38;5;124m'\u001b[39m\u001b[38;5;124mdm\u001b[39m\u001b[38;5;124m'\u001b[39m, lam\u001b[38;5;241m=\u001b[39mpopt[\u001b[38;5;241m2\u001b[39m])\n",
      "\u001b[0;31mNameError\u001b[0m: name 'pop' is not defined"
     ]
    }
   ],
   "source": [
    "#SEED = np.random.randint(100000)\n",
    "\n",
    "#SAMPLE_KWARGS = {\"chains\": 4, \"tune\": 100,\n",
    "#                 \"random_seed\": [SEED, SEED + 1, SEED + 2, SEED + 3]}\n",
    "a, b, c = pop\n",
    "with pm.Model() as P_dm:\n",
    "    y_obs = popt[0] - popt[1]/popt[2]*pm.Exponential('dm', lam=popt[2])\n",
    "    dm_trace = pm.sample(draws=47, chains=1, random_seed=np.random.randint(100000))\n",
    "    dm_forecast = pm.sample_posterior_predictive(dm_trace, var_names=['dm'])\n",
    "    \n",
    "#chosen_N = random.choice(N_)\n"
   ]
  },
  {
   "cell_type": "code",
   "execution_count": 479,
   "id": "2620d52a",
   "metadata": {},
   "outputs": [
    {
     "data": {
      "text/plain": [
       "(array([24., 12.,  5.,  4.,  1.,  0.,  0.,  0.,  0.,  1.]),\n",
       " array([2.11681977e-02, 4.56067231e+00, 9.10017642e+00, 1.36396805e+01,\n",
       "        1.81791846e+01, 2.27186887e+01, 2.72581929e+01, 3.17976970e+01,\n",
       "        3.63372011e+01, 4.08767052e+01, 4.54162093e+01]),\n",
       " <BarContainer object of 10 artists>)"
      ]
     },
     "execution_count": 479,
     "metadata": {},
     "output_type": "execute_result"
    },
    {
     "data": {
      "image/png": "[encoded data removed]",
      "text/plain": [
       "<Figure size 640x480 with 1 Axes>"
      ]
     },
     "metadata": {},
     "output_type": "display_data"
    }
   ],
   "source": [
    "dm_arr = dm_forecast.posterior_predictive['dm'].data\n",
    "plt.subplots()\n",
    "plt.hist(dm_arr[0])\n",
    "plt.hist(dm_arr[1])\n",
    "plt.hist(dm_arr[2])\n",
    "plt.hist(dm_arr[3])"
   ]
  },
  {
   "cell_type": "code",
   "execution_count": null,
   "id": "f738d66f",
   "metadata": {},
   "outputs": [],
   "source": [
    "plt.xlabel('N_cont drawn from the distribution')\n",
    "plt.ylabel('density of N_cont')"
   ]
  },
  {
   "cell_type": "code",
   "execution_count": 411,
   "id": "6de6a20a",
   "metadata": {
    "collapsed": true
   },
   "outputs": [
    {
     "data": {
      "text/plain": [
       "Text(0.5, 0, 'N_cont drawn from the distribution')"
      ]
     },
     "execution_count": 411,
     "metadata": {},
     "output_type": "execute_result"
    },
    {
     "data": {
      "image/png": "[encoded data removed]",
      "text/plain": [
       "<Figure size 640x480 with 1 Axes>"
      ]
     },
     "metadata": {},
     "output_type": "display_data"
    }
   ],
   "source": [
    "N_ = Ncont_forecast.posterior_predictive['Ncont'].data.flatten()\n",
    "plt.subplots()\n",
    "n_bin, bins, a = plt.hist(N_,\n",
    "                      bins=np.arange(24.5, 65.5, 1))\n",
    "#plt.arrow(47, 0.8, -47, 0, width=0.01, color='k', length_includes_head = True,\n",
    "#         head_width=0.05, head_length=2)\n",
    "#plt.vlines(47, 0, 0.8, color='k', ls='--')\n",
    "plt.xlabel('N_cont drawn from the distribution')\n",
    "#plt.ylabel('density of N_cont')"
   ]
  },
  {
   "cell_type": "code",
   "execution_count": 373,
   "id": "772af547",
   "metadata": {
    "scrolled": false
   },
   "outputs": [
    {
     "data": {
      "text/plain": [
       "Text(0, 0.5, 'density of N_cont')"
      ]
     },
     "execution_count": 373,
     "metadata": {},
     "output_type": "execute_result"
    },
    {
     "data": {
      "image/png": "[encoded data removed]",
      "text/plain": [
       "<Figure size 640x480 with 1 Axes>"
      ]
     },
     "metadata": {},
     "output_type": "display_data"
    }
   ],
   "source": [
    "N_ = Ncont_forecast.posterior_predictive['Ncont'].data.flatten()\n",
    "plt.subplots()\n",
    "n_bin, bins, a = plt.hist(N_, cumulative=True, density=True, \n",
    "                      bins=np.arange(24.5, 65.5, 1))\n",
    "plt.arrow(47, 0.8, -47, 0, width=0.01, color='k', length_includes_head = True,\n",
    "         head_width=0.05, head_length=2)\n",
    "plt.vlines(47, 0, 0.8, color='k', ls='--')\n",
    "plt.xlabel('N_cont drawn from the distribution')\n",
    "plt.ylabel('density of N_cont')"
   ]
  },
  {
   "cell_type": "code",
   "execution_count": 402,
   "id": "f08a7a15",
   "metadata": {},
   "outputs": [],
   "source": [
    "solved_delm = solv_delm(n_)\n",
    "solved_r    = solv_r(n_)\n",
    "i_dm, i_r = int(np.round(solved_delm, 1)*10), int(np.round(solved_r/10))\n",
    "frac_mtx[i_dm,i_r]"
   ]
  },
  {
   "cell_type": "code",
   "execution_count": 320,
   "id": "4f0b7530",
   "metadata": {},
   "outputs": [
    {
     "data": {
      "text/plain": [
       "4.97730794152777"
      ]
     },
     "execution_count": 320,
     "metadata": {},
     "output_type": "execute_result"
    }
   ],
   "source": [
    "a, b, c = 1.53778978, 1.49562009, 0.14470388\n",
    "n_ = n[np.where(bins==chosen_N-0.5)][0]\n",
    "-1*np.log((a-n_)/b)/c"
   ]
  },
  {
   "cell_type": "code",
   "execution_count": 408,
   "id": "8d8de670",
   "metadata": {},
   "outputs": [
    {
     "data": {
      "text/plain": [
       "0.9999997962190745"
      ]
     },
     "execution_count": 408,
     "metadata": {},
     "output_type": "execute_result"
    }
   ],
   "source": [
    "frac_mtx[i_dm,i_r]"
   ]
  },
  {
   "cell_type": "code",
   "execution_count": 393,
   "id": "e04b1549",
   "metadata": {
    "scrolled": true
   },
   "outputs": [
    {
     "data": {
      "text/plain": [
       "5.0"
      ]
     },
     "execution_count": 393,
     "metadata": {},
     "output_type": "execute_result"
    }
   ],
   "source": [
    "np.round(solved_delm, 1)"
   ]
  },
  {
   "cell_type": "code",
   "execution_count": 404,
   "id": "46144c22",
   "metadata": {
    "collapsed": true
   },
   "outputs": [
    {
     "data": {
      "text/plain": [
       "(50, 90)"
      ]
     },
     "execution_count": 404,
     "metadata": {},
     "output_type": "execute_result"
    }
   ],
   "source": [
    "i_dm, i_r"
   ]
  },
  {
   "cell_type": "code",
   "execution_count": null,
   "id": "88004710",
   "metadata": {},
   "outputs": [],
   "source": []
  }
 ],
 "metadata": {
  "kernelspec": {
   "display_name": "Python 3 (ipykernel)",
   "language": "python",
   "name": "python3"
  },
  "language_info": {
   "codemirror_mode": {
    "name": "ipython",
    "version": 3
   },
   "file_extension": ".py",
   "mimetype": "text/x-python",
   "name": "python",
   "nbconvert_exporter": "python",
   "pygments_lexer": "ipython3",
   "version": "3.9.13"
  }
 },
 "nbformat": 4,
 "nbformat_minor": 5
}
