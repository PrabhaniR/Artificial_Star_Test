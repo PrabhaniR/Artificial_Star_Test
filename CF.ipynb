{
 "cells": [
  {
   "cell_type": "code",
   "execution_count": 152,
   "id": "4ebff1a5",
   "metadata": {},
   "outputs": [],
   "source": [
    "from astropy.io import fits\n",
    "import numpy as np\n",
    "import os\n",
    "import matplotlib.pyplot as plt\n",
    "from matplotlib import cm, colors\n",
    "from astropy.wcs import WCS\n",
    "from astropy import units as u\n",
    "from astropy.coordinates import SkyCoord\n",
    "from astropy.coordinates import ICRS, Galactic, FK4, FK5\n",
    "import scipy\n",
    "import matplotlib.patches as patches\n",
    "import pandas as pd\n",
    "from scipy.io import readsav\n",
    "from regions import Regions #read_ds9, write_ds9\n",
    "import csv\n",
    "import math\n",
    "from scipy.optimize import curve_fit\n",
    "import time\n",
    "from pathlib import Path\n",
    "from pyds9 import ds9\n",
    "from scipy.integrate import quad\n",
    "from astropy.table import QTable, Table, Column, vstack\n",
    "from astropy.visualization.stretch import AsinhStretch\n",
    "from astropy.visualization import ImageNormalize, simple_norm\n",
    "import matplotlib.patches as patches"
   ]
  },
  {
   "cell_type": "code",
   "execution_count": 3,
   "id": "6f52d32f",
   "metadata": {},
   "outputs": [],
   "source": [
    "hdr = fits.getheader('ISF_Mosaic_Trial5_drz_sci.fits')\n",
    "im  = fits.getdata('ISF_Mosaic_Trial5_drz_sci.fits')\n",
    "wcs = WCS(hdr)"
   ]
  },
  {
   "cell_type": "code",
   "execution_count": 4,
   "id": "0c734e3d",
   "metadata": {},
   "outputs": [],
   "source": [
    "def write_regf(ra, dec, fname, c, text, r=None, update=False):\n",
    "    \"\"\"\n",
    "    fname - file name to be written\n",
    "    c - region color\n",
    "    \"\"\"\n",
    "    xx, yy = ra, dec\n",
    "    text = np.array(text, dtype=str)\n",
    "    if r==None:\n",
    "        r =25\n",
    "    else:\n",
    "        r=r\n",
    "    if update == True:\n",
    "        with open(fname) as unt:\n",
    "            lines = unt.readlines()\n",
    "        with open(fname, 'w') as unt:    \n",
    "            unt.writelines(lines)\n",
    "\n",
    "            for i in range(len(xx)):\n",
    "                unt.write('\\n')\n",
    "                if text.size == 0:\n",
    "                    unt.write('circle('+str(xx[i])+', '+str(yy[i])+', '+str(r)+'i) #color='+c+'')\n",
    "                else:\n",
    "                    unt.write('circle('+str(xx[i])+', '+str(yy[i])+', '+str(r)+'i) #color='+c+\n",
    "                              ' text={'+str(text[i])+'}')\n",
    "    else:\n",
    "        with open(fname, 'w') as unt:\n",
    "            unt.write('fk5')\n",
    "            for i in range(len(xx)):\n",
    "                unt.write('\\n')\n",
    "                if text.size == 0:\n",
    "                    unt.write('circle('+str(xx[i])+', '+str(yy[i])+', '+str(r)+'i) #color='+c+'')\n",
    "                else:\n",
    "                    unt.write('circle('+str(xx[i])+', '+str(yy[i])+', '+str(r)+'i) #color='+c+\n",
    "                              ' text={'+str(text[i])+'}')"
   ]
  },
  {
   "cell_type": "code",
   "execution_count": 5,
   "id": "6c8ab2c4",
   "metadata": {},
   "outputs": [],
   "source": [
    "def norm_logistic_reg(x, mu, sig):\n",
    "    w = 1/(1+np.exp(-((x-mu)/sig)))\n",
    "    return w"
   ]
  },
  {
   "cell_type": "code",
   "execution_count": 6,
   "id": "cf0901f5",
   "metadata": {
    "scrolled": false
   },
   "outputs": [],
   "source": [
    "def r_times_logistic_reg(x, m, s):\n",
    "    w = x/(1+np.exp(-((x-m)/s)))\n",
    "    return w"
   ]
  },
  {
   "cell_type": "code",
   "execution_count": 7,
   "id": "fc8dbada",
   "metadata": {},
   "outputs": [
    {
     "data": {
      "image/png": "[encoded data removed]",
      "text/plain": [
       "<Figure size 640x480 with 1 Axes>"
      ]
     },
     "metadata": {},
     "output_type": "display_data"
    }
   ],
   "source": [
    "frac_mtx = np.loadtxt('Fraction_dm_sep_array.txt')\n",
    "fig, ax = plt.subplots()\n",
    "plt.imshow(frac_mtx, origin='lower', cmap='gray')\n",
    "locs = plt.xticks()\n",
    "plt.xticks(locs[0][1::], np.arange(0, 2001, 250))\n",
    "locs = plt.yticks()\n",
    "plt.yticks(locs[0][1:-1], np.arange(0, 9, 1))\n",
    "plt.xlabel('sep (AU)')\n",
    "plt.ylabel('$\\Delta$m');"
   ]
  },
  {
   "cell_type": "code",
   "execution_count": 8,
   "id": "91225836",
   "metadata": {},
   "outputs": [],
   "source": [
    "df_params = pd.read_csv('mu_sig_params.csv')\n",
    "mu, sig = np.array(df_params['mu']), np.array(df_params['sig'])\n",
    "df_flame = pd.read_csv('dm_sep_flame.csv')\n",
    "sep_flame, dm_flame = np.array(df_flame['sep']), np.array(df_flame['dm'])"
   ]
  },
  {
   "cell_type": "code",
   "execution_count": 316,
   "id": "e6a0aca9",
   "metadata": {},
   "outputs": [],
   "source": [
    "df_final = pd.read_csv('dash_rereduce_removed_combined_with_rereduceII_with_VISION.csv')\n",
    "df_final2 = df_final\n",
    "ra_f2 = np.array(df_final2['RA_d'])\n",
    "dec_f2 = np.array(df_final2['DEC_d'])\n",
    "m_f2 = np.array(df_final2['MAG_d'])\n",
    "me_f2 = np.array(df_final2['MAG_d_unc'])\n",
    "h_f2 = np.array(df_final2['H_v'])\n",
    "he_f2 = np.array(df_final2['He_v'])\n",
    "k_f2 = np.array(df_final2['Ks_v'])\n",
    "ke_f2 = np.array(df_final2['Kse_v'])\n",
    "fwhm_f2 = np.array(df_final2['FWHM_d'])\n",
    "rsat_f2 = np.array(df_final2['R_SAT_d'])\n",
    "clas_f2 = np.array(df_final2['class'], dtype=str)\n",
    "\n",
    "yso_clas = np.array(['protostars', 'disks', 'td', 'nd_proto_faint'])\n",
    "proto_clas = np.array(['protostars', 'nd_proto_faint'])\n",
    "prems_clas = np.array(['disks', 'td'])\n",
    "\n",
    "i_yso, = np.where(np.isin(clas_f2, yso_clas))\n",
    "i_proto, = np.where(np.isin(clas_f2, proto_clas))\n",
    "i_prems, = np.where(np.isin(clas_f2, prems_clas))"
   ]
  },
  {
   "cell_type": "code",
   "execution_count": null,
   "id": "1c3f1aeb",
   "metadata": {},
   "outputs": [],
   "source": []
  },
  {
   "cell_type": "code",
   "execution_count": 311,
   "id": "8ccbbc51",
   "metadata": {},
   "outputs": [],
   "source": [
    "write_regf(ra_f2[np.isfinite(ra_f2)], dec_f2[np.isfinite(ra_f2)], 'Final_Catalog.reg', 'green', [])"
   ]
  },
  {
   "cell_type": "code",
   "execution_count": 10,
   "id": "a4b369c4",
   "metadata": {},
   "outputs": [
    {
     "data": {
      "text/plain": [
       "<matplotlib.legend.Legend at 0x7ff63a607a30>"
      ]
     },
     "execution_count": 10,
     "metadata": {},
     "output_type": "execute_result"
    },
    {
     "data": {
      "image/png": "[encoded data removed]",
      "text/plain": [
       "<Figure size 640x480 with 1 Axes>"
      ]
     },
     "metadata": {},
     "output_type": "display_data"
    }
   ],
   "source": [
    "dms = np.arange(0, 8.01, 1/10)\n",
    "seps = np.arange(50, 2050., 100/10)\n",
    "dm_mtx, sep_mtx = np.indices((len(dms), len(seps)))\n",
    "#sep_mtx = np.tile(np.arange(0, 2000.1, 0.1), )\n",
    "dm_mtx, sep_mtx = (np.flip(dm_mtx,0))/10, 100*(sep_mtx+5)/10\n",
    "frac_mtx = np.zeros(dm_mtx.shape)\n",
    "n_dm = len(dms)\n",
    "for i in range(len(mu)):\n",
    "    frac_mtx[i, :] =  norm_logistic_reg(seps, mu[i], sig[i])\n",
    "\n",
    "cmap = plt.cm.cool\n",
    "category_colors = plt.colormaps['cool'](\n",
    "        np.linspace(0.10, 0.85, 6))\n",
    "\n",
    "fig, ax = plt.subplots()\n",
    "#plt.imshow(frac_mtx, origin='lower', cmap='Greys_r', aspect=\"auto\")\n",
    "#colors=[category_colors[0]]\n",
    "\n",
    "c25 = ax.contour(np.arange(0, len(seps), 1), np.arange(0, n_dm, 1), frac_mtx[:,:], \n",
    "           [0.25], colors='k', alpha=0.6)\n",
    "c50 = ax.contour(np.arange(0, len(seps), 1), np.arange(0, n_dm, 1), frac_mtx[:,:], \n",
    "           [0.50], colors='k', alpha=0.6)\n",
    "c75 = ax.contour(np.arange(0, len(seps), 1), np.arange(0, n_dm, 1), frac_mtx[:,:], \n",
    "           [0.75], colors='k', alpha=0.6)\n",
    "c95 = ax.contour(np.arange(0, len(seps), 1), np.arange(0, n_dm, 1), frac_mtx[:,:], \n",
    "           [0.95], colors='k', alpha=0.6)\n",
    "c99 = ax.contour(np.arange(0, len(seps), 1), np.arange(0, n_dm, 1), frac_mtx[:,:], \n",
    "           [0.99], colors='k', alpha=0.6)\n",
    "\n",
    "xt = ax.get_xticks()\n",
    "ax.set_xticks(xt[1::], np.round(xt[1::]*100/10).astype(int))\n",
    "yt = ax.get_yticks()\n",
    "ax.set_yticks(yt[1:-1], np.round((yt[1:-1])/10).astype(int))\n",
    "\n",
    "manual_locations = [(20, 60)]\n",
    "plt.clabel(c25, fontsize=9, inline=1, manual=manual_locations)\n",
    "manual_locations = [(30, 60)]\n",
    "plt.clabel(c50, fontsize=9, inline=1, manual=manual_locations)\n",
    "manual_locations = [(40, 60)]\n",
    "plt.clabel(c75, fontsize=9, inline=1, manual=manual_locations)\n",
    "manual_locations = [(50, 60)]\n",
    "plt.clabel(c95, fontsize=9, inline=1, manual=manual_locations)\n",
    "manual_locations = [(60, 60)]\n",
    "plt.clabel(c99, fontsize=9, inline=1, manual=manual_locations)\n",
    "\n",
    "ax.set_xlabel('Separation (AU)')\n",
    "ax.set_ylabel('$\\Delta$m')\n",
    "\n",
    "\n",
    "ra_cat, dec_cat, m_cat, i_yso = ra_f2, dec_f2, m_f2, i_yso\n",
    "N_total = len(i_yso)\n",
    "N_cand, N_cont = 0, 0\n",
    "r1_comp = 100\n",
    "r2_comp = 2000\n",
    "r1_cont = 2000\n",
    "r2_cont = 5000\n",
    "\n",
    "#Making a catalog object using all sources\n",
    "c2 = SkyCoord(ra=ra_cat*u.degree, dec=dec_cat*u.degree, \n",
    "              distance=390.*u.pc, frame='fk5')\n",
    "\n",
    "ra_yso  = ra_cat[i_yso]\n",
    "dec_yso = dec_cat[i_yso]\n",
    "m_yso   = m_cat[i_yso]\n",
    "\n",
    "i_tested = np.array([])\n",
    "N_cand   = np.array([])\n",
    "\n",
    "d_comp = np.array([])\n",
    "dm_comp = np.array([])\n",
    "\n",
    "for i in range(N_total):\n",
    "    #Making a catalog object using YSO\n",
    "    c1       = SkyCoord(ra=ra_yso[i]*u.degree, dec=dec_yso[i]*u.degree, distance=400.*u.pc, frame='fk5')\n",
    "    sep_     = c2.separation(c1).arcsec*400.\n",
    "    i_obj_,  = np.where((sep_>=r1_comp)&(sep_<=r2_comp)&(m_cat>10.5))\n",
    "    n_obj    = len(i_obj_)\n",
    "\n",
    "    if (n_obj>0)&(~np.isin(i_yso[i], i_tested))&(m_yso[i]<19.):\n",
    "        ra_sys  = np.append(ra_yso[i], ra_cat[i_obj_])\n",
    "        dec_sys = np.append(dec_yso[i], dec_cat[i_obj_])\n",
    "        m_sys   = np.append(m_yso[i], m_cat[i_obj_]) #adding primary and the companions to 1 array\n",
    "\n",
    "        i_prim, = np.where(m_sys==np.min(m_sys))\n",
    "        i_comp, = np.where(m_sys!=np.min(m_sys))\n",
    "        N_cand  = N_cand + len(i_comp)\n",
    "        ra_comp, dec_comp = ra_sys[i_comp], dec_sys[i_comp]\n",
    "        ra_prim, dec_prim = ra_sys[i_prim], dec_sys[i_prim]\n",
    "        m_prim = m_sys[i_prim]\n",
    "        c_comp = SkyCoord(ra=ra_comp*u.degree, dec=dec_comp*u.degree, distance=400.*u.pc, frame='fk5')\n",
    "\n",
    "        c_prim = SkyCoord(ra=ra_prim*u.degree, dec=dec_prim*u.degree, distance=400.*u.pc, frame='fk5')\n",
    "        sep_comp = c_comp.separation(c_prim).arcsec*400.\n",
    "        #ax.plot(sep_comp, m_sys[i_comp]-m_prim, '.r')\n",
    "        d_comp = np.append(d_comp, sep_comp)\n",
    "        dm_comp = np.append(dm_comp, np.abs((m_sys[i_comp]-m_prim)))\n",
    "ax.plot(d_comp/10, dm_comp*10, '.', c=category_colors[5], ms=4, label='ISF')\n",
    "ax.plot(sep_flame/10, dm_flame*10, '^', c=category_colors[0], ms=4, label='NGC2024')\n",
    "#ax.set_ylim(0, 100)\n",
    "#ax.set_yticks(np.arange(0, 11, 1))\n",
    "#yticks = ax.get_yticks()\n",
    "\n",
    "ax.set_yticks(np.arange(0, 110, 10), np.arange(0, 11, 1));\n",
    "ax.legend()"
   ]
  },
  {
   "cell_type": "code",
   "execution_count": 312,
   "id": "ec46d3e9",
   "metadata": {},
   "outputs": [],
   "source": [
    "def CF(ra_cat, dec_cat, m_cat, i_yso):\n",
    "    N_total = len(i_yso) #Total number of YSOs\n",
    "    N_cand, N_cont, N_comp = 0, 0, 0\n",
    "    \n",
    "    r1_comp = 100\n",
    "    r2_comp = 1000\n",
    "    r1_cont = 2000\n",
    "    r2_cont = 5000\n",
    "    \n",
    "    def r_times_logistic_reg(x, m, s):\n",
    "        w = x*1/(1+np.exp(-((x-m)/s)))\n",
    "        return w\n",
    "    \n",
    "    \n",
    "    #Making a catalog object using all sources\n",
    "    c2 = SkyCoord(ra=ra_cat*u.degree, dec=dec_cat*u.degree, \n",
    "                  distance=400.*u.pc, frame='fk5')\n",
    "   \n",
    "    ra_yso  = ra_cat[i_yso]\n",
    "    dec_yso = dec_cat[i_yso]\n",
    "    m_yso   = m_cat[i_yso]\n",
    "    \n",
    "    i_tested = np.array([])\n",
    "\n",
    "    R     = np.array([])\n",
    "    R_unc = np.array([])\n",
    "    N_cont_init = np.array([])\n",
    "    N_cont_corr = np.array([])\n",
    "    N_cont_prior_corr = np.array([])\n",
    "    N_cont  = 0\n",
    "    d_mag   = np.array([])\n",
    "    dist    = np.array([])\n",
    "    #fig, ax = plt.subplots()\n",
    "    \n",
    "    for i in range(N_total):\n",
    "        #Making a catalog object using the ith YSO\n",
    "        c1       = SkyCoord(ra=ra_yso[i]*u.degree, dec=dec_yso[i]*u.degree, distance=400.*u.pc, frame='fk5')\n",
    "        sep_     = c2.separation(c1).arcsec*400.\n",
    "        i_obj_,  = np.where((sep_>=r1_comp)&(sep_<=r2_comp))#&(m_cat>10.5))\n",
    "        n_obj    = len(i_obj_)\n",
    "        if (n_obj>0)&(~np.isin(i_yso[i], i_tested))&(m_yso[i]<19.):\n",
    "            ra_sys  = np.append(ra_yso[i], ra_cat[i_obj_])\n",
    "            dec_sys = np.append(dec_yso[i], dec_cat[i_obj_])\n",
    "            m_sys   = np.append(m_yso[i], m_cat[i_obj_]) #adding primary and the companions to 1 array\n",
    "            if len(i_tested)==0:\n",
    "                write_regf(ra_sys, dec_sys, 'companions.reg', 'red', [], r=30, update=False)\n",
    "            else:\n",
    "                write_regf(ra_sys, dec_sys, 'companions.reg', 'red', [], r=30, update=True)\n",
    "            \n",
    "            \n",
    "            i_prim, = np.where(m_sys==np.min(m_sys))\n",
    "            i_comp, = np.where(m_sys!=np.min(m_sys))\n",
    "            ra_comp, dec_comp = ra_sys[i_comp], dec_sys[i_comp]\n",
    "            ra_prim, dec_prim = ra_sys[i_prim], dec_sys[i_prim]\n",
    "            m_prim = m_sys[i_prim]\n",
    "            c_comp = SkyCoord(ra=ra_comp*u.degree, dec=dec_comp*u.degree, distance=400.*u.pc, frame='fk5')\n",
    "            c_prim = SkyCoord(ra=ra_prim*u.degree, dec=dec_prim*u.degree, distance=400.*u.pc, frame='fk5')\n",
    "            sep_comp = c_comp.separation(c_prim).arcsec*400.\n",
    "            \n",
    "            #making a new cat obj with the dimmest objects in the system\n",
    "            #n_obj is recalculated using the \"new\" primary.\n",
    "            sep      = c2.separation(c_prim).arcsec*400.\n",
    "            i_obj_,  = np.where((sep>=r1_comp)&(sep<=r2_comp))#&(m_cat>10.5))\n",
    "            n_obj    = len(i_obj_)\n",
    "            N_cand   = N_cand + n_obj\n",
    "            \n",
    "            i_cont,  = np.where((sep>=r1_cont)&(sep<=r2_cont))\n",
    "        else:\n",
    "            m_prim   = m_yso[i]\n",
    "            i_cont,  = np.where((sep_>=r1_cont)&(sep_<=r2_cont))\n",
    "        \n",
    "        N_cont_init = np.append(N_cont_init, len(i_cont))\n",
    "        n_cont = 0\n",
    "        if len(i_cont)>0: #N_contaminants is calculated around all YSOs in the region.\n",
    "            for j in range(len(i_cont)):\n",
    "                delta_m = m_cat[i_cont[j]]-m_prim\n",
    "                dm_ind  = int(np.abs(10*np.round(delta_m, 1)))\n",
    "                if dm_ind>80: #80: delta_mag=8\n",
    "                    mu_, sig_ = 0, 0\n",
    "                    R_ = 0\n",
    "                else:\n",
    "                    mu_  = mu[dm_ind]\n",
    "                    sig_ = sig[dm_ind]\n",
    "                    I  = quad(r_times_logistic_reg, r1_comp, r2_comp, args=(mu_, sig_))\n",
    "                    R_ = 2*np.pi * I[0] / (np.pi*(r2_cont**2 - r1_cont**2))\n",
    "                    R  = np.append(R, R_)\n",
    "                    d_mag=np.append(d_mag,dm_ind)\n",
    "                    R_unc   = np.append(R_unc, I[1])\n",
    "                    dist = np.append(dist, sep_[i_cont[j]])\n",
    "                n_cont  = n_cont + R_\n",
    "                \n",
    "            N_cont_corr = np.append(N_cont_corr, n_cont)\n",
    "            N_cont_prior_corr = np.append(N_cont_prior_corr, \n",
    "                                          len(i_cont)*\n",
    "                                          (r2_comp**2-r1_comp**2)/(r2_cont**2-r1_cont**2))\n",
    "            N_cont = N_cont + n_cont\n",
    "\n",
    "        i_tested = np.append(i_tested, i_yso[i])\n",
    "        i_tested = np.append(i_tested, i_obj_)\n",
    "    N_comp   = N_cand - N_cont\n",
    "        \n",
    "\n",
    "    category_colors = plt.colormaps['plasma'](np.linspace(0.05, 0.85, 5))\n",
    "    #for i in range(len(dist)):\n",
    "    #    ax.plot(dist[i], d_mag[i], '.', color=category_colors[int(100*np.round(R[i], 3))])           \n",
    "    #ax.plot(R, '.r')\n",
    "    print('N_cand: ', N_cand)\n",
    "    print('N_cont within 200-5000 (before correction): ', np.sum(N_cont_prior_corr))\n",
    "    print('N_cont within 200-5000: ', np.sum(N_cont_corr))\n",
    "    print('N_contaminants: ', np.sum(N_cont_init))\n",
    "    print('N_comp: ', N_comp)\n",
    "    print('CF ('+str(N_total)+'): ', N_comp/N_total)\n",
    "    return d_mag, R, dist"
   ]
  },
  {
   "cell_type": "code",
   "execution_count": 313,
   "id": "ca3c0b5e",
   "metadata": {
    "scrolled": false
   },
   "outputs": [
    {
     "name": "stdout",
     "output_type": "stream",
     "text": [
      "N_cand:  92\n",
      "N_cont within 200-5000 (before correction):  40.307142857142864\n",
      "N_cont within 200-5000:  33.80059972203079\n",
      "N_contaminants:  855.0\n",
      "N_comp:  58.19940027796918\n",
      "CF (671):  0.08673532083154871\n"
     ]
    }
   ],
   "source": [
    "dmag, R, dist = CF(ra_f2, dec_f2, m_f2, i_yso)"
   ]
  },
  {
   "cell_type": "code",
   "execution_count": 118,
   "id": "4ed8617b",
   "metadata": {
    "scrolled": false
   },
   "outputs": [
    {
     "data": {
      "text/plain": [
       "[<matplotlib.lines.Line2D at 0x7ff63b714e80>]"
      ]
     },
     "execution_count": 118,
     "metadata": {},
     "output_type": "execute_result"
    },
    {
     "data": {
      "image/png": "[encoded data removed]",
      "text/plain": [
       "<Figure size 640x480 with 1 Axes>"
      ]
     },
     "metadata": {},
     "output_type": "display_data"
    }
   ],
   "source": [
    "plt.subplot()\n",
    "plt.plot(R, '.r')"
   ]
  },
  {
   "cell_type": "code",
   "execution_count": 20,
   "id": "2c96261e",
   "metadata": {},
   "outputs": [
    {
     "data": {
      "text/plain": [
       "40.138"
      ]
     },
     "execution_count": 20,
     "metadata": {},
     "output_type": "execute_result"
    }
   ],
   "source": [
    "854*0.047"
   ]
  },
  {
   "cell_type": "code",
   "execution_count": 121,
   "id": "aea51453",
   "metadata": {},
   "outputs": [
    {
     "data": {
      "text/plain": [
       "[<matplotlib.lines.Line2D at 0x7ff63cfd5940>]"
      ]
     },
     "execution_count": 121,
     "metadata": {},
     "output_type": "execute_result"
    },
    {
     "data": {
      "image/png": "[encoded data removed]",
      "text/plain": [
       "<Figure size 640x480 with 1 Axes>"
      ]
     },
     "metadata": {},
     "output_type": "display_data"
    }
   ],
   "source": [
    "plt.subplot()\n",
    "plt.plot(dmag, R/(1000**2-100**2)*(5000**2-2000**2), '.r')"
   ]
  },
  {
   "cell_type": "markdown",
   "id": "53e3b235",
   "metadata": {},
   "source": [
    "--------------\n"
   ]
  },
  {
   "cell_type": "markdown",
   "id": "65123120",
   "metadata": {},
   "source": [
    "## Testing calculations with Guided Survey"
   ]
  },
  {
   "cell_type": "code",
   "execution_count": 297,
   "id": "a7250406",
   "metadata": {},
   "outputs": [],
   "source": [
    "def CF_G(ra_cat, dec_cat, m_cat, i_yso):\n",
    "#ra_cat, dec_cat, m_cat, i_yso = ra_Dcat, dec_Dcat, m_Dcat, i_Dyso\n",
    "    N_total = len(i_yso)\n",
    "    N_cand, N_cont, N_comp = 0, 0, 0\n",
    "    \n",
    "    r1_comp = 100\n",
    "    r2_comp = 1000\n",
    "    r1_cont = 2000\n",
    "    r2_cont = 5000\n",
    "    \n",
    "    def r_times_logistic_reg(x, m, s):\n",
    "        w = x*1/(1+np.exp(-((x-m)/s)))\n",
    "        return w\n",
    "    \n",
    "    \n",
    "    #Making a catalog object using all sources\n",
    "    c2 = SkyCoord(ra=ra_cat*u.degree, dec=dec_cat*u.degree, \n",
    "                  distance=420.*u.pc, frame='fk5')\n",
    "   \n",
    "    ra_yso  = ra_cat[i_yso]\n",
    "    dec_yso = dec_cat[i_yso]\n",
    "    m_yso   = m_cat[i_yso]\n",
    "    \n",
    "    i_tested = np.array([])\n",
    "\n",
    "    R     = np.array([])\n",
    "    R_unc = np.array([])\n",
    "    N_cont_init = np.array([])\n",
    "    N_cont_corr = np.array([])\n",
    "    N_cont_prior_corr = np.array([])\n",
    "    N_cont  = 0\n",
    "    d_mag   = np.array([])\n",
    "    dist    = np.array([])\n",
    "    #fig, ax = plt.subplots()\n",
    "    for i in range(N_total):\n",
    "        #Making a catalog object using YSO\n",
    "        c1       = SkyCoord(ra=ra_yso[i]*u.degree, dec=dec_yso[i]*u.degree, distance=420.*u.pc, frame='fk5')\n",
    "        sep_     = c2.separation(c1).arcsec*420.\n",
    "        i_obj_,  = np.where((sep_>=r1_comp)&(sep_<=r2_comp))#&(m_cat>10.5))\n",
    "        n_obj    = len(i_obj_)\n",
    "        if (n_obj>0)&(~np.isin(i_yso[i], i_tested))&(m_yso[i]<19.):\n",
    "            ra_sys  = np.append(ra_yso[i], ra_cat[i_obj_])\n",
    "            dec_sys = np.append(dec_yso[i], dec_cat[i_obj_])\n",
    "            m_sys   = np.append(m_yso[i], m_cat[i_obj_]) #adding primary and the companions to 1 array\n",
    "            \n",
    "            i_prim, = np.where(m_sys==np.min(m_sys))\n",
    "            i_comp, = np.where(m_sys!=np.min(m_sys))\n",
    "            ra_comp, dec_comp = ra_sys[i_comp], dec_sys[i_comp]\n",
    "            ra_prim, dec_prim = ra_sys[i_prim], dec_sys[i_prim]\n",
    "            m_prim = m_sys[i_prim]\n",
    "            c_comp = SkyCoord(ra=ra_comp*u.degree, dec=dec_comp*u.degree, distance=420.*u.pc, frame='fk5')\n",
    "            c_prim = SkyCoord(ra=ra_prim*u.degree, dec=dec_prim*u.degree, distance=420.*u.pc, frame='fk5')\n",
    "            sep_comp = c_comp.separation(c_prim).arcsec*420.\n",
    "            \n",
    "            #making a new cat obj with the dimmest objects in the system\n",
    "            sep      = c2.separation(c_prim).arcsec*420.\n",
    "            i_obj_,  = np.where((sep>=r1_comp)&(sep<=r2_comp))#&(m_cat>10.5))\n",
    "            n_obj    = len(i_obj_)\n",
    "            N_cand   = N_cand + n_obj\n",
    "            \n",
    "            i_cont,  = np.where((sep>=r1_cont)&(sep<=r2_cont))\n",
    "        else:\n",
    "            i_cont,  = np.where((sep_>=r1_cont)&(sep_<=r2_cont))\n",
    "        \n",
    "        N_cont_init = np.append(N_cont_init, len(i_cont))\n",
    "        n_cont = 0\n",
    "        if len(i_cont)>0:\n",
    "            for j in range(len(i_cont)):\n",
    "                delta_m = m_cat[i_cont[j]]-m_prim\n",
    "                dm_ind  = int(np.abs(10*np.round(delta_m, 1)))\n",
    "                if dm_ind>80:\n",
    "                    mu_, sig_ = 0, 0\n",
    "                    R_ = 0\n",
    "                else:\n",
    "                    mu_  = mu[dm_ind]\n",
    "                    sig_ = sig[dm_ind]\n",
    "                    I  = quad(r_times_logistic_reg, r1_comp, r2_comp, args=(mu_, sig_))\n",
    "                    R_ = 2*np.pi * I[0] / (np.pi*(r2_cont**2 - r1_cont**2))\n",
    "                    R  = np.append(R, R_)\n",
    "                    d_mag=np.append(d_mag,dm_ind)\n",
    "                    R_unc   = np.append(R_unc, I[1])\n",
    "                    dist = np.append(dist, sep_[i_cont[j]])\n",
    "                n_cont  = n_cont + R_\n",
    "                \n",
    "            N_cont_corr = np.append(N_cont_corr, n_cont)\n",
    "            N_cont_prior_corr = np.append(N_cont_prior_corr, \n",
    "                                          len(i_cont)*\n",
    "                                          (r2_comp**2-r1_comp**2)/(r2_cont**2-r1_cont**2))\n",
    "            N_cont = N_cont + n_cont\n",
    "\n",
    "        i_tested = np.append(i_tested, i_yso[i])\n",
    "        i_tested = np.append(i_tested, i_obj_)\n",
    "    N_comp   = N_cand - N_cont\n",
    "        \n",
    "\n",
    "    category_colors = plt.colormaps['plasma'](np.linspace(0.05, 0.85, 5))\n",
    "    #for i in range(len(dist)):\n",
    "    #    ax.plot(dist[i], d_mag[i], '.', color=category_colors[int(1000*np.round(R[i], 3))])           \n",
    "    #ax.plot(R, '.r')\n",
    "    print('N_cand: ', N_cand)\n",
    "    print('N_cont within 2000-5000 (before correction): ', np.sum(N_cont_prior_corr))\n",
    "    print('N_cont within 2000-5000: ', np.sum(N_cont_corr))\n",
    "    print('N_contaminants: ', np.sum(N_cont_init))\n",
    "    print('N_comp: ', N_comp-N_cont)\n",
    "    print('CF ('+str(N_total)+'): ', N_comp/N_total)\n",
    "    return d_mag, R, dist"
   ]
  },
  {
   "cell_type": "code",
   "execution_count": 22,
   "id": "727f748d",
   "metadata": {},
   "outputs": [],
   "source": [
    "guided =  Table.read('wfc3.txt', format='ascii')"
   ]
  },
  {
   "cell_type": "code",
   "execution_count": 23,
   "id": "18ff49ae",
   "metadata": {
    "collapsed": true
   },
   "outputs": [
    {
     "data": {
      "text/html": [
       "<div><i>Table length=4984</i>\n",
       "<table id=\"table140695550703264\" class=\"table-striped table-bordered table-condensed\">\n",
       "<thead><tr><th>ra</th><th>dec</th><th>wfc3m</th><th>wfc3u</th><th>nic1.6m</th><th>nic1.6u</th><th>nic2.05m</th><th>nic2.05u</th><th>irtfm</th><th>irtfu</th><th>hops</th><th>separation</th><th>closesthops</th><th>4thnearest</th></tr></thead>\n",
       "<thead><tr><th>float64</th><th>float64</th><th>float64</th><th>float64</th><th>float64</th><th>float64</th><th>float64</th><th>float64</th><th>float64</th><th>float64</th><th>float64</th><th>float64</th><th>float64</th><th>float64</th></tr></thead>\n",
       "<tr><td>88.737286</td><td>1.7155785</td><td>13.502162</td><td>0.041815419</td><td>0.0</td><td>0.0</td><td>0.0</td><td>0.0</td><td>10.042865</td><td>0.0069383709</td><td>3.0</td><td>0.0</td><td>3.0</td><td>226262.17</td></tr>\n",
       "<tr><td>83.867269</td><td>-5.1705367</td><td>10.153605</td><td>0.047382092</td><td>0.0</td><td>0.0</td><td>0.0</td><td>0.0</td><td>8.5100002</td><td>0.0099999998</td><td>-1041.0</td><td>0.0</td><td>-1041.0</td><td>11024.07</td></tr>\n",
       "<tr><td>83.867387</td><td>-5.1700753</td><td>13.109348</td><td>0.048968194</td><td>0.0</td><td>0.0</td><td>0.0</td><td>0.0</td><td>11.7</td><td>0.1</td><td>0.0</td><td>720.02943</td><td>-1041.0</td><td>0.0</td></tr>\n",
       "<tr><td>83.856884</td><td>-5.1325495</td><td>10.777232</td><td>0.027959219</td><td>10.489038</td><td>0.001</td><td>10.214037</td><td>0.001</td><td>10.07</td><td>0.1</td><td>0.0</td><td>450.22175</td><td>71.0</td><td>0.0</td></tr>\n",
       "<tr><td>83.856605</td><td>-5.1326541</td><td>18.24376</td><td>0.23583913</td><td>20.456038</td><td>0.0020000001</td><td>14.572037</td><td>0.0020000001</td><td>10.2</td><td>0.2</td><td>71.0</td><td>0.0</td><td>71.0</td><td>16048.257</td></tr>\n",
       "<tr><td>83.856402</td><td>-5.1324409</td><td>12.709577</td><td>0.029863019</td><td>12.474038</td><td>0.0020000001</td><td>12.162037</td><td>0.0020000001</td><td>11.35</td><td>0.0033656652</td><td>0.0</td><td>445.27254</td><td>71.0</td><td>0.0</td></tr>\n",
       "<tr><td>83.843163</td><td>-5.1275248</td><td>12.262151</td><td>0.030911366</td><td>0.0</td><td>0.0</td><td>0.0</td><td>0.0</td><td>8.3172455</td><td>0.003998179</td><td>-1053.0</td><td>0.0</td><td>-1053.0</td><td>18873.717</td></tr>\n",
       "<tr><td>84.680734</td><td>-7.0263693</td><td>12.645921</td><td>0.033995372</td><td>0.0</td><td>0.0</td><td>0.0</td><td>0.0</td><td>10.0</td><td>0.1</td><td>0.0</td><td>302.028</td><td>-1131.0</td><td>0.0</td></tr>\n",
       "<tr><td>84.680539</td><td>-7.0263264</td><td>13.060127</td><td>0.034622159</td><td>0.0</td><td>0.0</td><td>0.0</td><td>0.0</td><td>9.4700003</td><td>0.2</td><td>-1131.0</td><td>0.0</td><td>-1131.0</td><td>18026.508</td></tr>\n",
       "<tr><td>...</td><td>...</td><td>...</td><td>...</td><td>...</td><td>...</td><td>...</td><td>...</td><td>...</td><td>...</td><td>...</td><td>...</td><td>...</td><td>...</td></tr>\n",
       "<tr><td>86.90604</td><td>0.35176587</td><td>20.620189</td><td>0.062272657</td><td>0.0</td><td>0.0</td><td>0.0</td><td>0.0</td><td>0.0</td><td>0.0</td><td>0.0</td><td>25958.159</td><td>1011.0</td><td>0.0</td></tr>\n",
       "<tr><td>86.897452</td><td>0.34402652</td><td>19.765479</td><td>0.049681976</td><td>0.0</td><td>0.0</td><td>0.0</td><td>0.0</td><td>0.0</td><td>0.0</td><td>0.0</td><td>15555.302</td><td>1011.0</td><td>0.0</td></tr>\n",
       "<tr><td>86.896328</td><td>0.34525869</td><td>22.823253</td><td>0.047491789</td><td>0.0</td><td>0.0</td><td>0.0</td><td>0.0</td><td>0.0</td><td>0.0</td><td>0.0</td><td>18014.272</td><td>1011.0</td><td>0.0</td></tr>\n",
       "<tr><td>86.888578</td><td>0.3378484</td><td>21.007056</td><td>0.05754458</td><td>0.0</td><td>0.0</td><td>0.0</td><td>0.0</td><td>0.0</td><td>0.0</td><td>0.0</td><td>21304.257</td><td>1011.0</td><td>0.0</td></tr>\n",
       "<tr><td>86.906476</td><td>0.35603823</td><td>21.875085</td><td>0.053511823</td><td>0.0</td><td>0.0</td><td>0.0</td><td>0.0</td><td>0.0</td><td>0.0</td><td>0.0</td><td>32418.213</td><td>1011.0</td><td>0.0</td></tr>\n",
       "<tr><td>86.908487</td><td>0.35925079</td><td>22.555458</td><td>0.05621369</td><td>0.0</td><td>0.0</td><td>0.0</td><td>0.0</td><td>0.0</td><td>0.0</td><td>0.0</td><td>37823.363</td><td>1011.0</td><td>0.0</td></tr>\n",
       "<tr><td>86.896621</td><td>0.34828698</td><td>22.54869</td><td>0.049024891</td><td>0.0</td><td>0.0</td><td>0.0</td><td>0.0</td><td>0.0</td><td>0.0</td><td>0.0</td><td>21902.74</td><td>1011.0</td><td>0.0</td></tr>\n",
       "<tr><td>86.90541</td><td>0.3568824</td><td>21.030515</td><td>0.073407414</td><td>0.0</td><td>0.0</td><td>0.0</td><td>0.0</td><td>0.0</td><td>0.0</td><td>0.0</td><td>33412.761</td><td>1011.0</td><td>0.0</td></tr>\n",
       "<tr><td>86.903674</td><td>0.66327281</td><td>14.073316</td><td>0.055897364</td><td>0.0</td><td>0.0</td><td>0.0</td><td>0.0</td><td>0.0</td><td>0.0</td><td>-1195.0</td><td>0.0</td><td>-1195.0</td><td>29338.146</td></tr>\n",
       "<tr><td>83.833313</td><td>-5.2139012</td><td>12.528962</td><td>0.055550944</td><td>0.0</td><td>0.0</td><td>0.0</td><td>0.0</td><td>9.7471733</td><td>0.0043679029</td><td>-1035.0</td><td>0.0</td><td>-1035.0</td><td>15349.351</td></tr>\n",
       "</table></div>"
      ],
      "text/plain": [
       "<Table length=4984>\n",
       "    ra       dec       wfc3m      wfc3u     nic1.6m  ...    irtfu       hops  separation closesthops 4thnearest\n",
       " float64   float64    float64    float64    float64  ...   float64    float64  float64     float64    float64  \n",
       "--------- ---------- --------- ----------- --------- ... ------------ ------- ---------- ----------- ----------\n",
       "88.737286  1.7155785 13.502162 0.041815419       0.0 ... 0.0069383709     3.0        0.0         3.0  226262.17\n",
       "83.867269 -5.1705367 10.153605 0.047382092       0.0 ... 0.0099999998 -1041.0        0.0     -1041.0   11024.07\n",
       "83.867387 -5.1700753 13.109348 0.048968194       0.0 ...          0.1     0.0  720.02943     -1041.0        0.0\n",
       "83.856884 -5.1325495 10.777232 0.027959219 10.489038 ...          0.1     0.0  450.22175        71.0        0.0\n",
       "83.856605 -5.1326541  18.24376  0.23583913 20.456038 ...          0.2    71.0        0.0        71.0  16048.257\n",
       "83.856402 -5.1324409 12.709577 0.029863019 12.474038 ... 0.0033656652     0.0  445.27254        71.0        0.0\n",
       "83.843163 -5.1275248 12.262151 0.030911366       0.0 ...  0.003998179 -1053.0        0.0     -1053.0  18873.717\n",
       "84.680734 -7.0263693 12.645921 0.033995372       0.0 ...          0.1     0.0    302.028     -1131.0        0.0\n",
       "84.680539 -7.0263264 13.060127 0.034622159       0.0 ...          0.2 -1131.0        0.0     -1131.0  18026.508\n",
       "      ...        ...       ...         ...       ... ...          ...     ...        ...         ...        ...\n",
       " 86.90604 0.35176587 20.620189 0.062272657       0.0 ...          0.0     0.0  25958.159      1011.0        0.0\n",
       "86.897452 0.34402652 19.765479 0.049681976       0.0 ...          0.0     0.0  15555.302      1011.0        0.0\n",
       "86.896328 0.34525869 22.823253 0.047491789       0.0 ...          0.0     0.0  18014.272      1011.0        0.0\n",
       "86.888578  0.3378484 21.007056  0.05754458       0.0 ...          0.0     0.0  21304.257      1011.0        0.0\n",
       "86.906476 0.35603823 21.875085 0.053511823       0.0 ...          0.0     0.0  32418.213      1011.0        0.0\n",
       "86.908487 0.35925079 22.555458  0.05621369       0.0 ...          0.0     0.0  37823.363      1011.0        0.0\n",
       "86.896621 0.34828698  22.54869 0.049024891       0.0 ...          0.0     0.0   21902.74      1011.0        0.0\n",
       " 86.90541  0.3568824 21.030515 0.073407414       0.0 ...          0.0     0.0  33412.761      1011.0        0.0\n",
       "86.903674 0.66327281 14.073316 0.055897364       0.0 ...          0.0 -1195.0        0.0     -1195.0  29338.146\n",
       "83.833313 -5.2139012 12.528962 0.055550944       0.0 ... 0.0043679029 -1035.0        0.0     -1035.0  15349.351"
      ]
     },
     "execution_count": 23,
     "metadata": {},
     "output_type": "execute_result"
    }
   ],
   "source": [
    "catalog = guided[guided['wfc3m']!=-0.0]\n",
    "catalog"
   ]
  },
  {
   "cell_type": "code",
   "execution_count": 27,
   "id": "9ae55ba1",
   "metadata": {},
   "outputs": [],
   "source": [
    "#Pre-MS hops<0\n",
    "#Protostar hops>0\n",
    "#\n",
    "c_prems = catalog[(catalog['hops']<0)]\n",
    "c_proto = catalog[(catalog['hops']>0)]\n",
    "c_protocand = catalog[(catalog['separation']<1000.)&(catalog['separation']>100.)&(catalog['closesthops']>0.)\n",
    "        &(catalog['hops']==0.)]\n",
    "c_premscand = catalog[(catalog['hops']==0)&(catalog['separation']<1000)&(catalog['separation']>100)&(catalog['closesthops']<0.)]\n",
    "\n",
    "c_yso = vstack([c_prems, c_proto, c_protocand, c_premscand])\n"
   ]
  },
  {
   "cell_type": "code",
   "execution_count": 29,
   "id": "ee103f81",
   "metadata": {},
   "outputs": [
    {
     "data": {
      "text/plain": [
       "(4984, 129, 197, 20, 28)"
      ]
     },
     "execution_count": 29,
     "metadata": {},
     "output_type": "execute_result"
    }
   ],
   "source": [
    "len(catalog), len(c_proto), len(c_prems), len(c_protocand), len(c_premscand)"
   ]
  },
  {
   "cell_type": "code",
   "execution_count": 35,
   "id": "910abe3f",
   "metadata": {},
   "outputs": [],
   "source": [
    "i_Gprems, = np.where(catalog['hops']<0)\n",
    "i_Gproto, = np.where((catalog['hops']>0))\n",
    "i_Gyso,  = np.where(((catalog['hops']==0)&(catalog['separation']<1000)&(catalog['separation']>100)&\n",
    "         (catalog['closesthops']<0.))|(catalog['hops']<0)|(catalog['hops']>0))"
   ]
  },
  {
   "cell_type": "code",
   "execution_count": 132,
   "id": "e32f8e92",
   "metadata": {},
   "outputs": [],
   "source": [
    "ra_G  = catalog['ra']\n",
    "dec_G = catalog['dec']\n",
    "m_G   = catalog['wfc3m']"
   ]
  },
  {
   "cell_type": "code",
   "execution_count": 295,
   "id": "5d076953",
   "metadata": {
    "scrolled": false
   },
   "outputs": [
    {
     "name": "stdout",
     "output_type": "stream",
     "text": [
      "N_cand:  18\n",
      "N_cont within 200-5000 (before correction):  4.525714285714286\n",
      "N_cont within 200-5000:  1.984961660165176\n",
      "N_contaminants:  96.0\n",
      "N_comp:  14.030076679669648\n",
      "CF (129):  0.12414758402972732\n"
     ]
    }
   ],
   "source": [
    "deltam, R, separations = CF_G(ra_G, dec_G, m_G, i_Gproto)"
   ]
  },
  {
   "cell_type": "code",
   "execution_count": 294,
   "id": "2cdd365e",
   "metadata": {
    "scrolled": false
   },
   "outputs": [
    {
     "name": "stdout",
     "output_type": "stream",
     "text": [
      "N_cand:  28\n",
      "N_cont within 200-5000 (before correction):  7.731428571428572\n",
      "N_cont within 200-5000:  2.5903092560678522\n",
      "N_contaminants:  164.0\n",
      "N_comp:  22.819381487864298\n",
      "CF (197):  0.12898320174584849\n"
     ]
    }
   ],
   "source": [
    "deltam, R, separations = CF_G(ra_G, dec_G, m_G, i_Gprems)"
   ]
  },
  {
   "cell_type": "markdown",
   "id": "2e5b85bc",
   "metadata": {},
   "source": [
    "*NGC 2024 calculation*"
   ]
  },
  {
   "cell_type": "code",
   "execution_count": 92,
   "id": "fdc6bc68",
   "metadata": {},
   "outputs": [
    {
     "name": "stdout",
     "output_type": "stream",
     "text": [
      "* No. of all                               = 197\n",
      "* No. of candidate companions                       = 17\n",
      "* No. of projected contaminants between (2000-5000) = 1.87 (N of Cont. = 164)\n",
      "* No. of companions between (100-500)               = 15.13\n",
      "* Companion Fraction (CF)                           = 7.68%\n"
     ]
    }
   ],
   "source": [
    "#c = catalog\n",
    "ra, dec, m, i_yso = ra_G, dec_G, m_G, i_Gprems #np.append(i_prems, i_proto)\n",
    "\n",
    "c2 = SkyCoord(ra=ra*u.degree, dec=dec*u.degree, distance=420*u.pc, frame='fk5')\n",
    "   \n",
    "#if objtype == 0:\n",
    "obj_ra = ra[i_yso]\n",
    "obj_dec = dec[i_yso]\n",
    "#if objtype == 1:\n",
    "#    obj_ra = c_prems['ra']\n",
    "#    obj_dec = c_prems['dec']\n",
    "N_total = len(obj_ra)\n",
    "N_cand, N_cont = 0, 0\n",
    "r1_comp = 100\n",
    "r2_comp = 500\n",
    "r1_cont = 2000\n",
    "r2_cont = 5000\n",
    "for i in range(len(obj_ra)):\n",
    "    c1 = SkyCoord(ra=obj_ra[i]*u.degree, dec=obj_dec[i]*u.degree, distance=420*u.pc, frame='fk5')\n",
    "    \n",
    "    sep_ = c2.separation(c1).arcsec*420.\n",
    "    \n",
    "    i_,  = np.where((sep_>=r1_comp)&(sep_<=r2_comp))\n",
    "    i_cont,  = np.where((sep_>=r1_cont)&(sep_<=r2_cont))\n",
    "    if len(i_)>0:\n",
    "        #p += 1\n",
    "        N_cand = N_cand + len(i_)\n",
    "        \n",
    "    if len(i_cont)>0:\n",
    "        N_cont = N_cont + len(i_cont)\n",
    "        \n",
    "#if objtype == 0:\n",
    "#    objname = 'protostars  '\n",
    "#elif objtype == 1:\n",
    "#    objname = 'pre-ms stars'\n",
    "objname = 'all'\n",
    "    \n",
    "k      = 1\n",
    "O_comp = k*(r2_comp**2 - r1_comp**2)\n",
    "O_cont = k*(r2_cont**2 - r1_cont**2)\n",
    "    \n",
    "N_pcont = N_cont*(O_comp/O_cont)\n",
    "N_comp  = N_cand - N_pcont\n",
    "\n",
    "print('* No. of '+objname+'                               = '+ str(N_total))\n",
    "print('* No. of candidate companions                       = '+ str(N_cand))\n",
    "print('* No. of projected contaminants between ('+ str(r1_cont) + '-'+ str(r2_cont) +') = '+ \n",
    "      str(np.round(N_pcont, 2))+' (N of Cont. = '+str(N_cont)+')')\n",
    "print('* No. of companions between ('+ str(r1_comp) + '-'+ str(r2_comp) +')               = '+ \n",
    "      str(np.round(N_comp,  2)))\n",
    "print('* Companion Fraction (CF)                           = '+ \n",
    "      str(np.round(N_comp/N_total*100,  2))+'%')  "
   ]
  },
  {
   "cell_type": "markdown",
   "id": "e11feaaa",
   "metadata": {},
   "source": [
    "## CF in selected regions"
   ]
  },
  {
   "cell_type": "code",
   "execution_count": 173,
   "id": "4a05118d",
   "metadata": {},
   "outputs": [],
   "source": [
    "bubbles = np.array(['polygon,84.0937996,-4.6643728,84.0361250,-4.6371756,83.8813337,-4.6251247,83.7052917,-4.6463150,83.6445700,-4.7400856,83.6536554,-4.8792286,83.7204450,-4.9487983,83.7948363,-4.9984456,83.8661954,-5.0122947,83.9993721,-4.9899878,84.1385083,-4.9290058,84.2122792,-4.8932506,84.2354275,-4.8155203,84.1909571,-4.7429606,84.1514821,-4.7036636',\n",
    "'polygon,83.9552846,-5.2400872,83.9277117,-5.2234286,83.8904312,-5.2229525,83.8894500,-5.2224644,83.8557738,-5.2330406,83.8445725,-5.2516531,83.8435683,-5.2525444,83.8427167,-5.2539578,83.8374192,-5.2638636,83.8379479,-5.2908486,83.8404883,-5.3093069,83.8678763,-5.3245369,83.9081058,-5.3303844,83.9283888,-5.3323408,83.9665450,-5.3285953,83.9900500,-5.3197675,84.0006071,-5.3045022,83.9995825,-5.2943289,83.9982150,-5.2763558,83.9879917,-5.2614389',\n",
    "'polygon,83.9477946,-5.3589897,83.7261733,-5.2684994,83.5576179,-5.3591722,83.4232479,-5.4257900,83.3958350,-5.5769378,83.4413525,-5.7311178,83.5021133,-5.8036764,83.7327904,-5.8511961,83.8615088,-5.8313106,83.9657992,-5.7761033,84.0234688,-5.6900097,84.0478379,-5.5708197,84.0078788,-5.4671031'\n",
    "])"
   ]
  },
  {
   "cell_type": "code",
   "execution_count": 184,
   "id": "da805092",
   "metadata": {},
   "outputs": [
    {
     "data": {
      "image/png": "[encoded data removed]",
      "text/plain": [
       "<Figure size 640x480 with 1 Axes>"
      ]
     },
     "metadata": {},
     "output_type": "display_data"
    }
   ],
   "source": [
    "fig, ax = plt.subplots()\n",
    "stretch = AsinhStretch(a=0.005)\n",
    "norm = ImageNormalize(stretch=stretch, vmin=-1*np.abs(np.min(im))*0.1, vmax=np.max(im)*0.6)\n",
    "ax.imshow(im, origin='lower', norm=norm)\n",
    "borders = np.array([])\n",
    "for j in range(len(bubbles)):\n",
    "    region = []\n",
    "    coords = bubbles[j].split(',')[1::]\n",
    "    for i in range(int(len(coords)/2)):\n",
    "        #coords[i]\n",
    "        ra, dec = float(coords[2*i]), float(coords[2*i+1])\n",
    "        x, y = wcs.all_world2pix(ra, dec, 0)\n",
    "        region.append((x, y))\n",
    "    border = patches.Polygon(region, edgecolor='red', facecolor='none')\n",
    "    ax.add_patch(border)\n",
    "    borders = np.append(borders, border)"
   ]
  },
  {
   "cell_type": "markdown",
   "id": "1aa8cd0b",
   "metadata": {},
   "source": [
    "#### NGC 1977 extended "
   ]
  },
  {
   "cell_type": "code",
   "execution_count": 237,
   "id": "0d502a52",
   "metadata": {
    "scrolled": false
   },
   "outputs": [],
   "source": [
    "i_1 = np.array([])\n",
    "path = borders[0].get_path()\n",
    "for i in range(len(ra_f2)):\n",
    "    x_1, y_1 = wcs.all_world2pix(ra_f2[i], dec_f2[i], 0)\n",
    "    if path.contains_point((x_1, y_1)):\n",
    "        if ~np.isin(i, i_1):\n",
    "            i_1 = np.append(i_1, i)\n",
    "i_1 = np.array(i_1, int)"
   ]
  },
  {
   "cell_type": "markdown",
   "id": "039e18f7",
   "metadata": {},
   "source": [
    "All YSO"
   ]
  },
  {
   "cell_type": "code",
   "execution_count": 278,
   "id": "8c6d0490",
   "metadata": {
    "scrolled": false
   },
   "outputs": [
    {
     "name": "stdout",
     "output_type": "stream",
     "text": [
      "N_cand:  2\n",
      "N_cont within 200-5000 (before correction):  1.8857142857142857\n",
      "N_cont within 200-5000:  1.3708295131014774\n",
      "N_contaminants:  40.0\n",
      "N_comp:  -0.7416590262029552\n",
      "CF (43):  0.01463187178833773\n"
     ]
    }
   ],
   "source": [
    "#Contaminants - all survey objects\n",
    "dmag, R, dist = CF(ra_f2, dec_f2, m_f2, i_1[np.isin(i_1, i_yso)])"
   ]
  },
  {
   "cell_type": "markdown",
   "id": "9391c0c4",
   "metadata": {},
   "source": [
    "Protostars"
   ]
  },
  {
   "cell_type": "code",
   "execution_count": 319,
   "id": "e3a12987",
   "metadata": {
    "scrolled": false
   },
   "outputs": [
    {
     "name": "stdout",
     "output_type": "stream",
     "text": [
      "N_cand:  0\n",
      "N_cont within 200-5000 (before correction):  0.0\n",
      "N_cont within 200-5000:  0.0\n",
      "N_contaminants:  0.0\n",
      "N_comp:  0\n",
      "CF (2):  0.0\n"
     ]
    }
   ],
   "source": [
    "#Contaminants - all survey objects\n",
    "dmag, R, dist = CF(ra_f2, dec_f2, m_f2, i_1[np.isin(i_1, i_proto)])"
   ]
  },
  {
   "cell_type": "markdown",
   "id": "2b268f63",
   "metadata": {},
   "source": [
    "Pre-Main Sequence Stars"
   ]
  },
  {
   "cell_type": "code",
   "execution_count": 320,
   "id": "6f575536",
   "metadata": {
    "scrolled": false
   },
   "outputs": [
    {
     "name": "stdout",
     "output_type": "stream",
     "text": [
      "N_cand:  2\n",
      "N_cont within 200-5000 (before correction):  1.8857142857142857\n",
      "N_cont within 200-5000:  1.3708295131014774\n",
      "N_contaminants:  40.0\n",
      "N_comp:  0.6291704868985224\n",
      "CF (41):  0.015345621631671278\n"
     ]
    }
   ],
   "source": [
    "#Contaminants - all survey objects\n",
    "dmag, R, dist = CF(ra_f2, dec_f2, m_f2, i_1[np.isin(i_1, i_prems)])"
   ]
  },
  {
   "cell_type": "markdown",
   "id": "c77369c8",
   "metadata": {},
   "source": [
    "#### M43 "
   ]
  },
  {
   "cell_type": "code",
   "execution_count": 238,
   "id": "d77eb251",
   "metadata": {
    "scrolled": false
   },
   "outputs": [],
   "source": [
    "i_2 = np.array([])\n",
    "path = borders[1].get_path()\n",
    "for i in range(len(ra_f2)):\n",
    "    x_2, y_2 = wcs.all_world2pix(ra_f2[i], dec_f2[i], 0)\n",
    "    if path.contains_point((x_2, y_2)):\n",
    "        if ~np.isin(i, i_2):\n",
    "            i_2 = np.append(i_2, i)\n",
    "i_2 = np.array(i_2, int)"
   ]
  },
  {
   "cell_type": "code",
   "execution_count": 283,
   "id": "3e6541be",
   "metadata": {
    "scrolled": true
   },
   "outputs": [
    {
     "name": "stdout",
     "output_type": "stream",
     "text": [
      "N_cand:  4\n",
      "N_cont within 200-5000 (before correction):  2.3571428571428568\n",
      "N_cont within 200-5000:  1.7105832457055836\n",
      "N_contaminants:  50.0\n",
      "N_comp:  0.5788335085888325\n",
      "CF (42):  0.05450992272129563\n"
     ]
    }
   ],
   "source": [
    "#Contaminants - objects only in the selected environment\n",
    "dmag, R, dist = CF(ra_f2[i_2], dec_f2[i_2], m_f2[i_2], np.where(np.isin(i_2, i_yso))[0])"
   ]
  },
  {
   "cell_type": "markdown",
   "id": "4b06a13f",
   "metadata": {},
   "source": [
    "All YSO"
   ]
  },
  {
   "cell_type": "code",
   "execution_count": 280,
   "id": "a8a8123a",
   "metadata": {
    "scrolled": true
   },
   "outputs": [
    {
     "name": "stdout",
     "output_type": "stream",
     "text": [
      "N_cand:  4\n",
      "N_cont within 200-5000 (before correction):  2.451428571428571\n",
      "N_cont within 200-5000:  1.800740162882923\n",
      "N_contaminants:  52.0\n",
      "N_comp:  0.39851967423415346\n",
      "CF (42):  0.05236332945516849\n"
     ]
    }
   ],
   "source": [
    "dmag, R, dist = CF(ra_f2, dec_f2, m_f2, i_yso[np.isin(i_yso, i_2)])"
   ]
  },
  {
   "cell_type": "markdown",
   "id": "a3fbd59f",
   "metadata": {},
   "source": [
    "Note: No protostars"
   ]
  },
  {
   "cell_type": "markdown",
   "id": "de4a7c93",
   "metadata": {},
   "source": [
    "Pre-Main Sequence Stars"
   ]
  },
  {
   "cell_type": "code",
   "execution_count": 318,
   "id": "e147b4e7",
   "metadata": {
    "scrolled": false
   },
   "outputs": [
    {
     "name": "stdout",
     "output_type": "stream",
     "text": [
      "N_cand:  4\n",
      "N_cont within 200-5000 (before correction):  2.451428571428571\n",
      "N_cont within 200-5000:  1.800740162882923\n",
      "N_contaminants:  52.0\n",
      "N_comp:  2.1992598371170766\n",
      "CF (42):  0.05236332945516849\n"
     ]
    }
   ],
   "source": [
    "dmag, R, dist = CF(ra_f2, dec_f2, m_f2, i_prems[np.isin(i_prems, i_2)])"
   ]
  },
  {
   "cell_type": "markdown",
   "id": "45ee974c",
   "metadata": {},
   "source": [
    "#### Orion nebula extended "
   ]
  },
  {
   "cell_type": "code",
   "execution_count": 281,
   "id": "0737c2c4",
   "metadata": {
    "scrolled": false
   },
   "outputs": [],
   "source": [
    "i_3 = np.array([])\n",
    "path = borders[2].get_path()\n",
    "for i in range(len(ra_f2)):\n",
    "    x_3, y_3 = wcs.all_world2pix(ra_f2[i], dec_f2[i], 0)\n",
    "    if path.contains_point((x_3, y_3)):\n",
    "        if ~np.isin(i, i_3):\n",
    "            i_3 = np.append(i_3, i)\n",
    "i_3 = np.array(i_3, int)"
   ]
  },
  {
   "cell_type": "markdown",
   "id": "75153453",
   "metadata": {},
   "source": [
    "All YSO"
   ]
  },
  {
   "cell_type": "code",
   "execution_count": 282,
   "id": "44803577",
   "metadata": {
    "scrolled": true
   },
   "outputs": [
    {
     "name": "stdout",
     "output_type": "stream",
     "text": [
      "N_cand:  63\n",
      "N_cont within 200-5000 (before correction):  28.427142857142854\n",
      "N_cont within 200-5000:  24.35613914908822\n",
      "N_contaminants:  603.0\n",
      "N_comp:  14.287721701823532\n",
      "CF (422):  0.0915731299784639\n"
     ]
    }
   ],
   "source": [
    "dmag, R, dist = CF(ra_f2, dec_f2, m_f2, i_yso[np.isin(i_yso, i_3)])"
   ]
  },
  {
   "cell_type": "markdown",
   "id": "b15e6297",
   "metadata": {},
   "source": [
    "Protostars"
   ]
  },
  {
   "cell_type": "code",
   "execution_count": 321,
   "id": "bf7393b5",
   "metadata": {
    "scrolled": false
   },
   "outputs": [
    {
     "name": "stdout",
     "output_type": "stream",
     "text": [
      "N_cand:  5\n",
      "N_cont within 200-5000 (before correction):  1.98\n",
      "N_cont within 200-5000:  1.816981199361014\n",
      "N_contaminants:  42.0\n",
      "N_comp:  3.183018800638986\n",
      "CF (32):  0.09946933751996831\n"
     ]
    }
   ],
   "source": [
    "dmag, R, dist = CF(ra_f2, dec_f2, m_f2, i_proto[np.isin(i_proto, i_3)])"
   ]
  },
  {
   "cell_type": "markdown",
   "id": "39ae9dd4",
   "metadata": {},
   "source": [
    "Pre-Main Sequence Stars"
   ]
  },
  {
   "cell_type": "code",
   "execution_count": 322,
   "id": "7fb6a28a",
   "metadata": {
    "scrolled": true
   },
   "outputs": [
    {
     "name": "stdout",
     "output_type": "stream",
     "text": [
      "N_cand:  58\n",
      "N_cont within 200-5000 (before correction):  26.447142857142858\n",
      "N_cont within 200-5000:  22.53915794972721\n",
      "N_contaminants:  561.0\n",
      "N_comp:  35.46084205027279\n",
      "CF (390):  0.09092523602634048\n"
     ]
    }
   ],
   "source": [
    "dmag, R, dist = CF(ra_f2, dec_f2, m_f2, i_prems[np.isin(i_prems, i_3)])"
   ]
  },
  {
   "cell_type": "code",
   "execution_count": null,
   "id": "71106927",
   "metadata": {},
   "outputs": [],
   "source": []
  }
 ],
 "metadata": {
  "kernelspec": {
   "display_name": "Python 3 (ipykernel)",
   "language": "python",
   "name": "python3"
  },
  "language_info": {
   "codemirror_mode": {
    "name": "ipython",
    "version": 3
   },
   "file_extension": ".py",
   "mimetype": "text/x-python",
   "name": "python",
   "nbconvert_exporter": "python",
   "pygments_lexer": "ipython3",
   "version": "3.9.13"
  }
 },
 "nbformat": 4,
 "nbformat_minor": 5
}
